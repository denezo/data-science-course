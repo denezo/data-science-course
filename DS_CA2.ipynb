{
 "cells": [
  {
   "cell_type": "markdown",
   "id": "d24bef5e-376c-41d5-809b-e339a08abbce",
   "metadata": {},
   "source": [
    "# CA2\n",
    "Ali Hosseini Akhavan - 810199406 & Amirhossein Yousefvand - 810199516 & Mohammadhossein Nikkhah Ghomi - 810199506"
   ]
  },
  {
   "cell_type": "markdown",
   "id": "e9d9257d-ab45-485e-891e-4e108df346dd",
   "metadata": {},
   "source": [
    "## Task 1"
   ]
  },
  {
   "cell_type": "markdown",
   "id": "79e777ff-2a1b-4794-a386-df36cde6911d",
   "metadata": {},
   "source": [
    "### Q1:"
   ]
  },
  {
   "cell_type": "code",
   "execution_count": 49,
   "id": "a7ba455b",
   "metadata": {},
   "outputs": [],
   "source": [
    "import pandas as pd\n",
    "df = pd.read_csv('task1.csv')"
   ]
  },
  {
   "cell_type": "markdown",
   "id": "38aecd53-e5c1-45ed-baa3-27fb4d34be41",
   "metadata": {},
   "source": [
    "* info: This function provides general information about the dataframe. For example, it includes the number of rows and columns, the number of non-null values in each column, the data types within the dataframe, and the memory usage."
   ]
  },
  {
   "cell_type": "code",
   "execution_count": 50,
   "id": "5a503698",
   "metadata": {},
   "outputs": [
    {
     "name": "stdout",
     "output_type": "stream",
     "text": [
      "<class 'pandas.core.frame.DataFrame'>\n",
      "RangeIndex: 891 entries, 0 to 890\n",
      "Data columns (total 15 columns):\n",
      " #   Column       Non-Null Count  Dtype  \n",
      "---  ------       --------------  -----  \n",
      " 0   survived     891 non-null    int64  \n",
      " 1   pclass       891 non-null    int64  \n",
      " 2   sex          891 non-null    object \n",
      " 3   age          714 non-null    float64\n",
      " 4   sibsp        891 non-null    int64  \n",
      " 5   parch        891 non-null    int64  \n",
      " 6   fare         891 non-null    float64\n",
      " 7   embarked     889 non-null    object \n",
      " 8   class        891 non-null    object \n",
      " 9   who          891 non-null    object \n",
      " 10  adult_male   891 non-null    bool   \n",
      " 11  deck         203 non-null    object \n",
      " 12  embark_town  889 non-null    object \n",
      " 13  alive        891 non-null    object \n",
      " 14  alone        891 non-null    bool   \n",
      "dtypes: bool(2), float64(2), int64(4), object(7)\n",
      "memory usage: 92.4+ KB\n"
     ]
    }
   ],
   "source": [
    "df.info()"
   ]
  },
  {
   "cell_type": "markdown",
   "id": "4537026d-4470-4e1e-a337-13178ac7829f",
   "metadata": {},
   "source": [
    "* head: This function displays the information of the first 5 rows of the dataset."
   ]
  },
  {
   "cell_type": "code",
   "execution_count": 51,
   "id": "51b3d420",
   "metadata": {},
   "outputs": [
    {
     "data": {
      "text/html": [
       "<div>\n",
       "<style scoped>\n",
       "    .dataframe tbody tr th:only-of-type {\n",
       "        vertical-align: middle;\n",
       "    }\n",
       "\n",
       "    .dataframe tbody tr th {\n",
       "        vertical-align: top;\n",
       "    }\n",
       "\n",
       "    .dataframe thead th {\n",
       "        text-align: right;\n",
       "    }\n",
       "</style>\n",
       "<table border=\"1\" class=\"dataframe\">\n",
       "  <thead>\n",
       "    <tr style=\"text-align: right;\">\n",
       "      <th></th>\n",
       "      <th>survived</th>\n",
       "      <th>pclass</th>\n",
       "      <th>sex</th>\n",
       "      <th>age</th>\n",
       "      <th>sibsp</th>\n",
       "      <th>parch</th>\n",
       "      <th>fare</th>\n",
       "      <th>embarked</th>\n",
       "      <th>class</th>\n",
       "      <th>who</th>\n",
       "      <th>adult_male</th>\n",
       "      <th>deck</th>\n",
       "      <th>embark_town</th>\n",
       "      <th>alive</th>\n",
       "      <th>alone</th>\n",
       "    </tr>\n",
       "  </thead>\n",
       "  <tbody>\n",
       "    <tr>\n",
       "      <th>0</th>\n",
       "      <td>0</td>\n",
       "      <td>3</td>\n",
       "      <td>male</td>\n",
       "      <td>22.0</td>\n",
       "      <td>1</td>\n",
       "      <td>0</td>\n",
       "      <td>7.2500</td>\n",
       "      <td>S</td>\n",
       "      <td>Third</td>\n",
       "      <td>man</td>\n",
       "      <td>True</td>\n",
       "      <td>NaN</td>\n",
       "      <td>Southampton</td>\n",
       "      <td>no</td>\n",
       "      <td>False</td>\n",
       "    </tr>\n",
       "    <tr>\n",
       "      <th>1</th>\n",
       "      <td>1</td>\n",
       "      <td>1</td>\n",
       "      <td>female</td>\n",
       "      <td>38.0</td>\n",
       "      <td>1</td>\n",
       "      <td>0</td>\n",
       "      <td>71.2833</td>\n",
       "      <td>C</td>\n",
       "      <td>First</td>\n",
       "      <td>woman</td>\n",
       "      <td>False</td>\n",
       "      <td>C</td>\n",
       "      <td>Cherbourg</td>\n",
       "      <td>yes</td>\n",
       "      <td>False</td>\n",
       "    </tr>\n",
       "    <tr>\n",
       "      <th>2</th>\n",
       "      <td>1</td>\n",
       "      <td>3</td>\n",
       "      <td>female</td>\n",
       "      <td>26.0</td>\n",
       "      <td>0</td>\n",
       "      <td>0</td>\n",
       "      <td>7.9250</td>\n",
       "      <td>S</td>\n",
       "      <td>Third</td>\n",
       "      <td>woman</td>\n",
       "      <td>False</td>\n",
       "      <td>NaN</td>\n",
       "      <td>Southampton</td>\n",
       "      <td>yes</td>\n",
       "      <td>True</td>\n",
       "    </tr>\n",
       "    <tr>\n",
       "      <th>3</th>\n",
       "      <td>1</td>\n",
       "      <td>1</td>\n",
       "      <td>female</td>\n",
       "      <td>35.0</td>\n",
       "      <td>1</td>\n",
       "      <td>0</td>\n",
       "      <td>53.1000</td>\n",
       "      <td>S</td>\n",
       "      <td>First</td>\n",
       "      <td>woman</td>\n",
       "      <td>False</td>\n",
       "      <td>C</td>\n",
       "      <td>Southampton</td>\n",
       "      <td>yes</td>\n",
       "      <td>False</td>\n",
       "    </tr>\n",
       "    <tr>\n",
       "      <th>4</th>\n",
       "      <td>0</td>\n",
       "      <td>3</td>\n",
       "      <td>male</td>\n",
       "      <td>35.0</td>\n",
       "      <td>0</td>\n",
       "      <td>0</td>\n",
       "      <td>8.0500</td>\n",
       "      <td>S</td>\n",
       "      <td>Third</td>\n",
       "      <td>man</td>\n",
       "      <td>True</td>\n",
       "      <td>NaN</td>\n",
       "      <td>Southampton</td>\n",
       "      <td>no</td>\n",
       "      <td>True</td>\n",
       "    </tr>\n",
       "  </tbody>\n",
       "</table>\n",
       "</div>"
      ],
      "text/plain": [
       "   survived  pclass     sex   age  sibsp  parch     fare embarked  class  \\\n",
       "0         0       3    male  22.0      1      0   7.2500        S  Third   \n",
       "1         1       1  female  38.0      1      0  71.2833        C  First   \n",
       "2         1       3  female  26.0      0      0   7.9250        S  Third   \n",
       "3         1       1  female  35.0      1      0  53.1000        S  First   \n",
       "4         0       3    male  35.0      0      0   8.0500        S  Third   \n",
       "\n",
       "     who  adult_male deck  embark_town alive  alone  \n",
       "0    man        True  NaN  Southampton    no  False  \n",
       "1  woman       False    C    Cherbourg   yes  False  \n",
       "2  woman       False  NaN  Southampton   yes   True  \n",
       "3  woman       False    C  Southampton   yes  False  \n",
       "4    man        True  NaN  Southampton    no   True  "
      ]
     },
     "execution_count": 51,
     "metadata": {},
     "output_type": "execute_result"
    }
   ],
   "source": [
    "df.head()"
   ]
  },
  {
   "cell_type": "markdown",
   "id": "d7e6892a-dee8-43b1-b403-7201085410ce",
   "metadata": {},
   "source": [
    "* tail: This function displays the information of the last 5 rows of the dataset."
   ]
  },
  {
   "cell_type": "code",
   "execution_count": 52,
   "id": "afb0ee5a-16be-4fe9-9040-3de4e5834d4f",
   "metadata": {},
   "outputs": [
    {
     "data": {
      "text/html": [
       "<div>\n",
       "<style scoped>\n",
       "    .dataframe tbody tr th:only-of-type {\n",
       "        vertical-align: middle;\n",
       "    }\n",
       "\n",
       "    .dataframe tbody tr th {\n",
       "        vertical-align: top;\n",
       "    }\n",
       "\n",
       "    .dataframe thead th {\n",
       "        text-align: right;\n",
       "    }\n",
       "</style>\n",
       "<table border=\"1\" class=\"dataframe\">\n",
       "  <thead>\n",
       "    <tr style=\"text-align: right;\">\n",
       "      <th></th>\n",
       "      <th>survived</th>\n",
       "      <th>pclass</th>\n",
       "      <th>sex</th>\n",
       "      <th>age</th>\n",
       "      <th>sibsp</th>\n",
       "      <th>parch</th>\n",
       "      <th>fare</th>\n",
       "      <th>embarked</th>\n",
       "      <th>class</th>\n",
       "      <th>who</th>\n",
       "      <th>adult_male</th>\n",
       "      <th>deck</th>\n",
       "      <th>embark_town</th>\n",
       "      <th>alive</th>\n",
       "      <th>alone</th>\n",
       "    </tr>\n",
       "  </thead>\n",
       "  <tbody>\n",
       "    <tr>\n",
       "      <th>886</th>\n",
       "      <td>0</td>\n",
       "      <td>2</td>\n",
       "      <td>male</td>\n",
       "      <td>27.0</td>\n",
       "      <td>0</td>\n",
       "      <td>0</td>\n",
       "      <td>13.00</td>\n",
       "      <td>S</td>\n",
       "      <td>Second</td>\n",
       "      <td>man</td>\n",
       "      <td>True</td>\n",
       "      <td>NaN</td>\n",
       "      <td>Southampton</td>\n",
       "      <td>no</td>\n",
       "      <td>True</td>\n",
       "    </tr>\n",
       "    <tr>\n",
       "      <th>887</th>\n",
       "      <td>1</td>\n",
       "      <td>1</td>\n",
       "      <td>female</td>\n",
       "      <td>19.0</td>\n",
       "      <td>0</td>\n",
       "      <td>0</td>\n",
       "      <td>30.00</td>\n",
       "      <td>S</td>\n",
       "      <td>First</td>\n",
       "      <td>woman</td>\n",
       "      <td>False</td>\n",
       "      <td>B</td>\n",
       "      <td>Southampton</td>\n",
       "      <td>yes</td>\n",
       "      <td>True</td>\n",
       "    </tr>\n",
       "    <tr>\n",
       "      <th>888</th>\n",
       "      <td>0</td>\n",
       "      <td>3</td>\n",
       "      <td>female</td>\n",
       "      <td>NaN</td>\n",
       "      <td>1</td>\n",
       "      <td>2</td>\n",
       "      <td>23.45</td>\n",
       "      <td>S</td>\n",
       "      <td>Third</td>\n",
       "      <td>woman</td>\n",
       "      <td>False</td>\n",
       "      <td>NaN</td>\n",
       "      <td>Southampton</td>\n",
       "      <td>no</td>\n",
       "      <td>False</td>\n",
       "    </tr>\n",
       "    <tr>\n",
       "      <th>889</th>\n",
       "      <td>1</td>\n",
       "      <td>1</td>\n",
       "      <td>male</td>\n",
       "      <td>26.0</td>\n",
       "      <td>0</td>\n",
       "      <td>0</td>\n",
       "      <td>30.00</td>\n",
       "      <td>C</td>\n",
       "      <td>First</td>\n",
       "      <td>man</td>\n",
       "      <td>True</td>\n",
       "      <td>C</td>\n",
       "      <td>Cherbourg</td>\n",
       "      <td>yes</td>\n",
       "      <td>True</td>\n",
       "    </tr>\n",
       "    <tr>\n",
       "      <th>890</th>\n",
       "      <td>0</td>\n",
       "      <td>3</td>\n",
       "      <td>male</td>\n",
       "      <td>32.0</td>\n",
       "      <td>0</td>\n",
       "      <td>0</td>\n",
       "      <td>7.75</td>\n",
       "      <td>Q</td>\n",
       "      <td>Third</td>\n",
       "      <td>man</td>\n",
       "      <td>True</td>\n",
       "      <td>NaN</td>\n",
       "      <td>Queenstown</td>\n",
       "      <td>no</td>\n",
       "      <td>True</td>\n",
       "    </tr>\n",
       "  </tbody>\n",
       "</table>\n",
       "</div>"
      ],
      "text/plain": [
       "     survived  pclass     sex   age  sibsp  parch   fare embarked   class  \\\n",
       "886         0       2    male  27.0      0      0  13.00        S  Second   \n",
       "887         1       1  female  19.0      0      0  30.00        S   First   \n",
       "888         0       3  female   NaN      1      2  23.45        S   Third   \n",
       "889         1       1    male  26.0      0      0  30.00        C   First   \n",
       "890         0       3    male  32.0      0      0   7.75        Q   Third   \n",
       "\n",
       "       who  adult_male deck  embark_town alive  alone  \n",
       "886    man        True  NaN  Southampton    no   True  \n",
       "887  woman       False    B  Southampton   yes   True  \n",
       "888  woman       False  NaN  Southampton    no  False  \n",
       "889    man        True    C    Cherbourg   yes   True  \n",
       "890    man        True  NaN   Queenstown    no   True  "
      ]
     },
     "execution_count": 52,
     "metadata": {},
     "output_type": "execute_result"
    }
   ],
   "source": [
    "df.tail()"
   ]
  },
  {
   "cell_type": "markdown",
   "id": "17d9e878-c1aa-49d4-88aa-bbfe214c6dbd",
   "metadata": {},
   "source": [
    "* describe: This function provides information such as the number of non-null values, mean, maximum, minimum, standard deviation, and 25th percentile, ... for the numerical columns."
   ]
  },
  {
   "cell_type": "code",
   "execution_count": 53,
   "id": "dae3947b",
   "metadata": {},
   "outputs": [
    {
     "data": {
      "text/html": [
       "<div>\n",
       "<style scoped>\n",
       "    .dataframe tbody tr th:only-of-type {\n",
       "        vertical-align: middle;\n",
       "    }\n",
       "\n",
       "    .dataframe tbody tr th {\n",
       "        vertical-align: top;\n",
       "    }\n",
       "\n",
       "    .dataframe thead th {\n",
       "        text-align: right;\n",
       "    }\n",
       "</style>\n",
       "<table border=\"1\" class=\"dataframe\">\n",
       "  <thead>\n",
       "    <tr style=\"text-align: right;\">\n",
       "      <th></th>\n",
       "      <th>survived</th>\n",
       "      <th>pclass</th>\n",
       "      <th>age</th>\n",
       "      <th>sibsp</th>\n",
       "      <th>parch</th>\n",
       "      <th>fare</th>\n",
       "    </tr>\n",
       "  </thead>\n",
       "  <tbody>\n",
       "    <tr>\n",
       "      <th>count</th>\n",
       "      <td>891.000000</td>\n",
       "      <td>891.000000</td>\n",
       "      <td>714.000000</td>\n",
       "      <td>891.000000</td>\n",
       "      <td>891.000000</td>\n",
       "      <td>891.000000</td>\n",
       "    </tr>\n",
       "    <tr>\n",
       "      <th>mean</th>\n",
       "      <td>0.383838</td>\n",
       "      <td>2.308642</td>\n",
       "      <td>29.699118</td>\n",
       "      <td>0.523008</td>\n",
       "      <td>0.381594</td>\n",
       "      <td>32.204208</td>\n",
       "    </tr>\n",
       "    <tr>\n",
       "      <th>std</th>\n",
       "      <td>0.486592</td>\n",
       "      <td>0.836071</td>\n",
       "      <td>14.526497</td>\n",
       "      <td>1.102743</td>\n",
       "      <td>0.806057</td>\n",
       "      <td>49.693429</td>\n",
       "    </tr>\n",
       "    <tr>\n",
       "      <th>min</th>\n",
       "      <td>0.000000</td>\n",
       "      <td>1.000000</td>\n",
       "      <td>0.420000</td>\n",
       "      <td>0.000000</td>\n",
       "      <td>0.000000</td>\n",
       "      <td>0.000000</td>\n",
       "    </tr>\n",
       "    <tr>\n",
       "      <th>25%</th>\n",
       "      <td>0.000000</td>\n",
       "      <td>2.000000</td>\n",
       "      <td>20.125000</td>\n",
       "      <td>0.000000</td>\n",
       "      <td>0.000000</td>\n",
       "      <td>7.910400</td>\n",
       "    </tr>\n",
       "    <tr>\n",
       "      <th>50%</th>\n",
       "      <td>0.000000</td>\n",
       "      <td>3.000000</td>\n",
       "      <td>28.000000</td>\n",
       "      <td>0.000000</td>\n",
       "      <td>0.000000</td>\n",
       "      <td>14.454200</td>\n",
       "    </tr>\n",
       "    <tr>\n",
       "      <th>75%</th>\n",
       "      <td>1.000000</td>\n",
       "      <td>3.000000</td>\n",
       "      <td>38.000000</td>\n",
       "      <td>1.000000</td>\n",
       "      <td>0.000000</td>\n",
       "      <td>31.000000</td>\n",
       "    </tr>\n",
       "    <tr>\n",
       "      <th>max</th>\n",
       "      <td>1.000000</td>\n",
       "      <td>3.000000</td>\n",
       "      <td>80.000000</td>\n",
       "      <td>8.000000</td>\n",
       "      <td>6.000000</td>\n",
       "      <td>512.329200</td>\n",
       "    </tr>\n",
       "  </tbody>\n",
       "</table>\n",
       "</div>"
      ],
      "text/plain": [
       "         survived      pclass         age       sibsp       parch        fare\n",
       "count  891.000000  891.000000  714.000000  891.000000  891.000000  891.000000\n",
       "mean     0.383838    2.308642   29.699118    0.523008    0.381594   32.204208\n",
       "std      0.486592    0.836071   14.526497    1.102743    0.806057   49.693429\n",
       "min      0.000000    1.000000    0.420000    0.000000    0.000000    0.000000\n",
       "25%      0.000000    2.000000   20.125000    0.000000    0.000000    7.910400\n",
       "50%      0.000000    3.000000   28.000000    0.000000    0.000000   14.454200\n",
       "75%      1.000000    3.000000   38.000000    1.000000    0.000000   31.000000\n",
       "max      1.000000    3.000000   80.000000    8.000000    6.000000  512.329200"
      ]
     },
     "execution_count": 53,
     "metadata": {},
     "output_type": "execute_result"
    }
   ],
   "source": [
    "df.describe()"
   ]
  },
  {
   "cell_type": "markdown",
   "id": "bfeae9ba-87a7-4f72-a6dd-c7e04e5d5df5",
   "metadata": {},
   "source": [
    "* Drop duplicates:"
   ]
  },
  {
   "cell_type": "code",
   "execution_count": 54,
   "id": "9f30c280-ceb0-4364-a232-c02c7383ae71",
   "metadata": {},
   "outputs": [
    {
     "name": "stdout",
     "output_type": "stream",
     "text": [
      "<class 'pandas.core.frame.DataFrame'>\n",
      "Int64Index: 784 entries, 0 to 890\n",
      "Data columns (total 15 columns):\n",
      " #   Column       Non-Null Count  Dtype  \n",
      "---  ------       --------------  -----  \n",
      " 0   survived     784 non-null    int64  \n",
      " 1   pclass       784 non-null    int64  \n",
      " 2   sex          784 non-null    object \n",
      " 3   age          678 non-null    float64\n",
      " 4   sibsp        784 non-null    int64  \n",
      " 5   parch        784 non-null    int64  \n",
      " 6   fare         784 non-null    float64\n",
      " 7   embarked     782 non-null    object \n",
      " 8   class        784 non-null    object \n",
      " 9   who          784 non-null    object \n",
      " 10  adult_male   784 non-null    bool   \n",
      " 11  deck         202 non-null    object \n",
      " 12  embark_town  782 non-null    object \n",
      " 13  alive        784 non-null    object \n",
      " 14  alone        784 non-null    bool   \n",
      "dtypes: bool(2), float64(2), int64(4), object(7)\n",
      "memory usage: 87.3+ KB\n"
     ]
    }
   ],
   "source": [
    "df = df.drop_duplicates()\n",
    "df.info()"
   ]
  },
  {
   "cell_type": "markdown",
   "id": "49ddf522-3e3e-40b6-ae3c-47f3ddbdae13",
   "metadata": {},
   "source": [
    "### Q2:\n",
    "* First we obtain the type of each column"
   ]
  },
  {
   "cell_type": "code",
   "execution_count": 55,
   "id": "cfa95e9b",
   "metadata": {},
   "outputs": [
    {
     "data": {
      "text/plain": [
       "survived         int64\n",
       "pclass           int64\n",
       "sex             object\n",
       "age            float64\n",
       "sibsp            int64\n",
       "parch            int64\n",
       "fare           float64\n",
       "embarked        object\n",
       "class           object\n",
       "who             object\n",
       "adult_male        bool\n",
       "deck            object\n",
       "embark_town     object\n",
       "alive           object\n",
       "alone             bool\n",
       "dtype: object"
      ]
     },
     "execution_count": 55,
     "metadata": {},
     "output_type": "execute_result"
    }
   ],
   "source": [
    "df.dtypes"
   ]
  },
  {
   "cell_type": "markdown",
   "id": "51bc96e8-2f0b-427a-bf02-0ea2a74b9ea2",
   "metadata": {},
   "source": [
    "* Then we change the categorical columns to numerical. For example in case of \"sex\" we use 1 for male and 0 for female."
   ]
  },
  {
   "cell_type": "code",
   "execution_count": 56,
   "id": "4820a7a9-2816-47f8-9f21-51788a91a0f0",
   "metadata": {},
   "outputs": [],
   "source": [
    "import numpy as np\n",
    "from sklearn.preprocessing import LabelEncoder\n",
    "df_numerical = df.copy()\n",
    "le = LabelEncoder()"
   ]
  },
  {
   "cell_type": "markdown",
   "id": "d53ab12f-2da3-4b1c-a0a6-49edd144739f",
   "metadata": {},
   "source": [
    "#### sex:\n",
    "* 0: female\n",
    "* 1: male"
   ]
  },
  {
   "cell_type": "code",
   "execution_count": 57,
   "id": "5304874e",
   "metadata": {
    "scrolled": true
   },
   "outputs": [
    {
     "data": {
      "text/plain": [
       "array([1, 0, 0, 0, 1, 1, 1, 1, 0, 0, 0, 0, 1, 1, 0, 0, 1, 1, 0, 0, 1, 1,\n",
       "       0, 1, 0, 0, 1, 1, 0, 1, 1, 0, 0, 1, 1, 1, 1, 1, 0, 0, 0, 0, 1, 0,\n",
       "       0, 1, 1, 1, 0, 1, 1, 0, 0, 1, 1, 0, 1, 0, 1, 1, 0, 1, 1, 1, 1, 0,\n",
       "       1, 0, 1, 1, 0, 1, 1, 1, 1, 1, 0, 1, 1, 0, 1, 0, 0, 1, 0, 1, 1, 1,\n",
       "       1, 1, 1, 1, 1, 0, 1, 0, 1, 1, 1, 1, 0, 1, 1, 0, 1, 0, 1, 0, 0, 1,\n",
       "       1, 1, 1, 0, 1, 1, 0, 1, 1, 1, 1, 0, 1, 1, 1, 0, 1, 1, 0, 1, 1, 1,\n",
       "       0, 0, 0, 1, 1, 1, 1, 0, 1, 1, 1, 0, 1, 1, 1, 1, 0, 1, 1, 1, 1, 0,\n",
       "       1, 1, 1, 1, 0, 0, 1, 1, 1, 1, 0, 1, 1, 1, 0, 1, 1, 0, 1, 1, 1, 0,\n",
       "       1, 0, 1, 1, 1, 0, 1, 0, 1, 0, 0, 1, 0, 1, 1, 1, 1, 0, 1, 1, 0, 1,\n",
       "       1, 0, 1, 1, 0, 0, 1, 0, 1, 1, 1, 1, 1, 1, 1, 1, 1, 0, 0, 1, 1, 0,\n",
       "       1, 0, 1, 0, 1, 1, 0, 1, 1, 1, 1, 0, 0, 1, 1, 1, 0, 1, 1, 0, 0, 0,\n",
       "       0, 0, 0, 1, 1, 1, 0, 1, 1, 1, 0, 0, 1, 1, 0, 1, 0, 0, 1, 1, 0, 1,\n",
       "       1, 1, 1, 1, 1, 1, 1, 1, 0, 0, 0, 1, 0, 1, 1, 0, 1, 0, 1, 1, 0, 1,\n",
       "       0, 0, 1, 0, 0, 0, 0, 1, 0, 0, 1, 0, 0, 1, 0, 0, 0, 1, 0, 0, 0, 0,\n",
       "       1, 1, 1, 0, 1, 0, 1, 1, 1, 0, 1, 1, 0, 0, 0, 1, 1, 1, 1, 1, 1, 0,\n",
       "       0, 1, 1, 0, 1, 1, 0, 0, 0, 1, 1, 1, 1, 0, 0, 0, 1, 1, 1, 0, 0, 1,\n",
       "       0, 1, 1, 0, 1, 0, 1, 1, 1, 0, 0, 1, 0, 1, 1, 0, 1, 1, 0, 1, 0, 1,\n",
       "       1, 1, 1, 1, 0, 1, 0, 0, 0, 0, 1, 1, 0, 1, 0, 0, 1, 1, 0, 1, 1, 0,\n",
       "       0, 0, 1, 1, 0, 1, 1, 0, 1, 1, 0, 1, 0, 1, 1, 1, 1, 1, 1, 1, 0, 0,\n",
       "       1, 1, 1, 1, 1, 1, 1, 0, 1, 0, 0, 0, 1, 1, 1, 0, 1, 1, 0, 1, 0, 1,\n",
       "       1, 1, 1, 1, 1, 0, 1, 0, 1, 0, 0, 0, 0, 1, 0, 1, 1, 1, 1, 1, 0, 1,\n",
       "       1, 0, 1, 0, 1, 0, 0, 1, 1, 1, 1, 1, 0, 1, 0, 0, 0, 1, 0, 1, 0, 0,\n",
       "       0, 0, 1, 1, 1, 0, 1, 1, 1, 1, 1, 1, 1, 0, 1, 0, 1, 0, 0, 1, 1, 1,\n",
       "       1, 0, 1, 1, 0, 1, 1, 1, 0, 0, 0, 1, 0, 0, 1, 1, 1, 0, 1, 1, 1, 0,\n",
       "       1, 0, 1, 1, 0, 1, 1, 0, 1, 1, 1, 1, 1, 1, 0, 0, 0, 1, 0, 1, 0, 0,\n",
       "       1, 1, 1, 1, 1, 1, 1, 1, 0, 1, 1, 1, 1, 1, 1, 0, 1, 0, 1, 0, 1, 1,\n",
       "       1, 1, 0, 0, 1, 0, 0, 1, 0, 1, 1, 1, 1, 1, 1, 1, 1, 1, 1, 0, 0, 1,\n",
       "       1, 1, 1, 1, 0, 0, 1, 0, 1, 1, 1, 1, 1, 1, 1, 1, 0, 1, 0, 1, 1, 1,\n",
       "       0, 1, 1, 0, 1, 0, 1, 1, 1, 0, 1, 0, 0, 1, 1, 1, 1, 1, 0, 0, 1, 1,\n",
       "       0, 1, 1, 1, 1, 1, 0, 0, 1, 0, 0, 1, 1, 0, 1, 1, 1, 0, 1, 1, 1, 1,\n",
       "       0, 1, 1, 0, 1, 1, 1, 0, 1, 1, 0, 1, 1, 0, 1, 0, 1, 0, 1, 1, 1, 1,\n",
       "       0, 0, 1, 1, 0, 1, 0, 0, 0, 1, 1, 1, 1, 0, 1, 1, 1, 1, 1, 1, 1, 0,\n",
       "       0, 1, 0, 0, 1, 1, 1, 1, 1, 0, 0, 1, 1, 1, 0, 1, 1, 0, 1, 1, 1, 0,\n",
       "       1, 1, 0, 1, 1, 1, 1, 1, 0, 0, 1, 1, 1, 0, 1, 1, 1, 1, 0, 1, 1, 1,\n",
       "       1, 0, 1, 1, 0, 0, 0, 0, 0, 1, 0, 1, 1, 0, 1, 0, 0, 1, 1, 1, 0, 1,\n",
       "       1, 0, 0, 1, 0, 0, 1, 0, 1, 0, 0, 0, 1, 1], dtype=int64)"
      ]
     },
     "execution_count": 57,
     "metadata": {},
     "output_type": "execute_result"
    }
   ],
   "source": [
    "df_numerical['sex'] = le.fit_transform(df['sex'])\n",
    "sex = list(df['sex'])\n",
    "sexLabel = le.fit_transform(sex)\n",
    "sexLabel"
   ]
  },
  {
   "cell_type": "markdown",
   "id": "9e1cbb80-df32-420d-a17c-73b2617bf364",
   "metadata": {},
   "source": [
    "#### embraked:\n",
    "* 0: C\n",
    "* 1: Q\n",
    "* 2: S\n",
    "* 3: null"
   ]
  },
  {
   "cell_type": "code",
   "execution_count": 58,
   "id": "6edfa2ce",
   "metadata": {
    "scrolled": true
   },
   "outputs": [
    {
     "data": {
      "text/plain": [
       "array([2, 0, 2, 2, 2, 1, 2, 2, 2, 0, 2, 2, 2, 2, 2, 2, 1, 2, 2, 0, 2, 2,\n",
       "       1, 2, 2, 2, 0, 2, 1, 2, 0, 0, 1, 2, 0, 2, 0, 2, 2, 0, 2, 2, 0, 0,\n",
       "       1, 2, 1, 0, 2, 2, 2, 0, 2, 0, 2, 2, 0, 2, 2, 0, 3, 2, 2, 0, 0, 2,\n",
       "       2, 2, 2, 2, 2, 2, 0, 2, 2, 2, 2, 2, 2, 1, 2, 2, 2, 2, 2, 2, 2, 2,\n",
       "       2, 2, 2, 0, 0, 2, 2, 2, 2, 2, 2, 2, 2, 2, 2, 1, 2, 0, 2, 2, 0, 2,\n",
       "       1, 2, 0, 2, 2, 0, 2, 2, 0, 1, 2, 0, 2, 0, 2, 2, 2, 0, 2, 2, 2, 0,\n",
       "       0, 2, 2, 1, 2, 2, 2, 2, 2, 2, 2, 2, 2, 2, 2, 0, 1, 2, 2, 2, 2, 2,\n",
       "       2, 2, 2, 2, 2, 2, 2, 2, 2, 1, 2, 0, 2, 2, 0, 2, 2, 2, 0, 2, 2, 2,\n",
       "       2, 1, 2, 1, 2, 2, 2, 2, 2, 0, 0, 2, 2, 2, 2, 0, 2, 2, 2, 0, 1, 0,\n",
       "       2, 2, 2, 1, 0, 2, 2, 0, 2, 2, 2, 2, 2, 2, 2, 2, 2, 2, 2, 2, 2, 2,\n",
       "       2, 2, 2, 2, 2, 2, 0, 2, 2, 0, 1, 2, 2, 2, 2, 2, 2, 2, 2, 2, 0, 0,\n",
       "       2, 0, 2, 2, 2, 2, 1, 2, 2, 2, 2, 2, 2, 2, 2, 0, 2, 2, 2, 1, 2, 1,\n",
       "       2, 2, 2, 2, 0, 2, 2, 2, 1, 2, 0, 0, 2, 2, 0, 2, 2, 0, 1, 2, 1, 2,\n",
       "       0, 0, 0, 0, 0, 0, 2, 2, 2, 2, 2, 2, 0, 2, 1, 2, 0, 2, 2, 2, 0, 1,\n",
       "       2, 2, 2, 2, 2, 0, 2, 2, 2, 2, 2, 2, 2, 2, 2, 2, 2, 2, 2, 0, 2, 2,\n",
       "       2, 2, 0, 0, 2, 2, 0, 0, 0, 0, 2, 2, 0, 2, 0, 2, 0, 0, 2, 0, 0, 2,\n",
       "       2, 2, 2, 2, 1, 0, 2, 2, 2, 0, 2, 2, 2, 2, 2, 2, 2, 2, 2, 2, 2, 2,\n",
       "       2, 2, 2, 1, 1, 2, 2, 2, 2, 2, 1, 2, 2, 2, 2, 2, 2, 2, 2, 2, 2, 2,\n",
       "       2, 2, 2, 2, 2, 2, 2, 2, 2, 2, 2, 2, 0, 2, 2, 2, 0, 0, 0, 2, 2, 2,\n",
       "       2, 2, 2, 2, 2, 2, 1, 0, 2, 2, 0, 2, 2, 2, 2, 2, 2, 2, 2, 0, 2, 0,\n",
       "       2, 2, 2, 0, 0, 0, 2, 2, 2, 1, 1, 2, 2, 0, 2, 2, 2, 2, 1, 2, 0, 2,\n",
       "       2, 2, 1, 2, 2, 2, 0, 0, 1, 2, 2, 2, 2, 0, 0, 2, 2, 2, 0, 2, 0, 2,\n",
       "       2, 2, 2, 0, 2, 2, 0, 2, 2, 0, 2, 1, 0, 2, 2, 0, 0, 2, 2, 2, 2, 2,\n",
       "       2, 2, 2, 2, 2, 2, 2, 2, 2, 2, 0, 2, 2, 0, 2, 0, 0, 2, 2, 0, 2, 0,\n",
       "       2, 1, 2, 2, 2, 2, 0, 2, 2, 2, 0, 2, 2, 2, 0, 2, 2, 2, 2, 2, 2, 2,\n",
       "       2, 0, 2, 0, 2, 2, 2, 1, 2, 2, 1, 2, 2, 0, 2, 2, 2, 2, 2, 2, 2, 0,\n",
       "       0, 2, 2, 2, 2, 1, 1, 2, 1, 2, 0, 2, 0, 2, 2, 2, 2, 2, 2, 2, 2, 2,\n",
       "       2, 2, 2, 2, 2, 2, 0, 1, 0, 2, 2, 2, 0, 2, 2, 2, 2, 2, 0, 0, 2, 2,\n",
       "       1, 0, 2, 0, 2, 0, 1, 2, 2, 2, 2, 2, 0, 2, 2, 2, 2, 2, 0, 2, 1, 2,\n",
       "       2, 2, 2, 2, 2, 2, 2, 1, 2, 2, 2, 0, 2, 2, 0, 2, 2, 0, 2, 2, 2, 2,\n",
       "       2, 2, 1, 2, 2, 2, 2, 2, 2, 2, 2, 2, 0, 2, 2, 2, 0, 1, 1, 2, 2, 2,\n",
       "       2, 2, 2, 1, 2, 1, 2, 0, 2, 2, 2, 2, 2, 2, 1, 2, 0, 2, 0, 2, 2, 2,\n",
       "       2, 0, 2, 2, 2, 0, 2, 2, 2, 2, 2, 2, 2, 2, 2, 2, 2, 2, 0, 2, 2, 2,\n",
       "       2, 2, 2, 2, 1, 2, 0, 1, 3, 0, 2, 2, 2, 0, 2, 0, 2, 2, 0, 0, 2, 0,\n",
       "       2, 0, 2, 2, 0, 2, 2, 2, 2, 2, 0, 2, 2, 2, 2, 2, 0, 2, 2, 2, 2, 2,\n",
       "       2, 0, 0, 2, 0, 2, 2, 2, 2, 1, 2, 2, 0, 1], dtype=int64)"
      ]
     },
     "execution_count": 58,
     "metadata": {},
     "output_type": "execute_result"
    }
   ],
   "source": [
    "df_numerical['embarked'] = le.fit_transform(df['embarked'])\n",
    "embark = list(df['embarked'])\n",
    "embarkLabel = le.fit_transform(embark)\n",
    "embarkLabel"
   ]
  },
  {
   "cell_type": "markdown",
   "id": "b4154f46-7bd3-4aa7-93e0-78e1319cecff",
   "metadata": {},
   "source": [
    "#### class:\n",
    "* 0: First\n",
    "* 1: Second\n",
    "* 2: Third"
   ]
  },
  {
   "cell_type": "code",
   "execution_count": 59,
   "id": "5bb636ce",
   "metadata": {
    "scrolled": true
   },
   "outputs": [
    {
     "data": {
      "text/plain": [
       "array([2, 0, 2, 0, 2, 2, 0, 2, 2, 1, 2, 0, 2, 2, 2, 1, 2, 1, 2, 2, 1, 1,\n",
       "       2, 0, 2, 2, 2, 0, 2, 2, 0, 0, 2, 1, 0, 0, 2, 2, 2, 2, 2, 1, 2, 1,\n",
       "       2, 2, 2, 2, 2, 2, 2, 0, 1, 0, 0, 1, 2, 1, 2, 2, 0, 0, 2, 0, 2, 1,\n",
       "       2, 2, 2, 1, 2, 1, 2, 2, 2, 1, 2, 2, 2, 2, 0, 1, 2, 2, 0, 2, 2, 2,\n",
       "       0, 2, 2, 0, 0, 1, 1, 2, 0, 2, 2, 2, 2, 2, 2, 2, 0, 2, 2, 2, 2, 2,\n",
       "       2, 1, 0, 2, 1, 1, 1, 0, 2, 2, 2, 2, 2, 2, 2, 2, 1, 1, 0, 0, 2, 0,\n",
       "       2, 2, 2, 2, 1, 1, 2, 2, 1, 1, 1, 0, 2, 2, 2, 0, 2, 2, 2, 2, 2, 1,\n",
       "       2, 2, 2, 2, 0, 2, 0, 2, 0, 2, 2, 0, 2, 2, 0, 1, 2, 2, 1, 2, 1, 2,\n",
       "       0, 2, 0, 2, 2, 1, 1, 2, 1, 0, 0, 2, 1, 2, 2, 2, 2, 2, 2, 2, 2, 0,\n",
       "       2, 1, 2, 2, 0, 2, 1, 0, 1, 2, 1, 2, 0, 2, 1, 2, 1, 2, 0, 2, 1, 2,\n",
       "       1, 2, 1, 1, 1, 1, 2, 1, 2, 2, 0, 2, 1, 0, 1, 2, 2, 0, 2, 2, 2, 0,\n",
       "       0, 0, 1, 2, 0, 0, 2, 1, 2, 2, 0, 0, 0, 2, 1, 0, 0, 2, 1, 2, 2, 2,\n",
       "       2, 2, 2, 0, 2, 2, 2, 1, 2, 0, 0, 1, 2, 2, 2, 0, 0, 0, 2, 2, 1, 0,\n",
       "       0, 0, 1, 0, 0, 0, 1, 1, 2, 1, 1, 0, 0, 2, 1, 1, 0, 2, 1, 2, 0, 2,\n",
       "       0, 0, 2, 0, 0, 0, 2, 0, 1, 0, 1, 1, 1, 1, 2, 2, 2, 2, 0, 2, 2, 0,\n",
       "       1, 2, 1, 2, 2, 2, 0, 2, 0, 0, 2, 2, 0, 2, 0, 2, 0, 2, 2, 0, 2, 2,\n",
       "       0, 1, 2, 1, 2, 1, 0, 2, 2, 0, 2, 2, 2, 1, 1, 1, 2, 2, 2, 2, 2, 1,\n",
       "       2, 1, 2, 2, 0, 2, 2, 1, 1, 2, 2, 2, 2, 2, 1, 1, 2, 0, 1, 2, 0, 0,\n",
       "       2, 1, 0, 1, 1, 2, 2, 1, 2, 0, 1, 0, 2, 0, 1, 2, 0, 0, 2, 0, 0, 1,\n",
       "       0, 2, 0, 1, 2, 0, 2, 2, 2, 1, 1, 2, 0, 2, 2, 2, 2, 2, 2, 0, 0, 0,\n",
       "       2, 2, 0, 0, 2, 0, 2, 0, 2, 2, 2, 2, 0, 0, 1, 0, 2, 2, 2, 0, 0, 2,\n",
       "       0, 1, 2, 1, 2, 0, 0, 2, 2, 0, 2, 1, 1, 2, 2, 2, 1, 0, 0, 2, 0, 0,\n",
       "       2, 2, 1, 0, 0, 1, 1, 2, 1, 0, 1, 2, 2, 2, 0, 0, 0, 0, 2, 2, 1, 2,\n",
       "       2, 2, 2, 1, 0, 0, 2, 2, 1, 0, 2, 2, 1, 0, 1, 0, 2, 0, 1, 0, 2, 0,\n",
       "       2, 2, 1, 2, 1, 2, 0, 1, 0, 2, 0, 2, 2, 0, 1, 0, 2, 2, 1, 2, 2, 1,\n",
       "       1, 2, 0, 2, 2, 2, 0, 1, 0, 2, 2, 0, 2, 0, 0, 2, 1, 2, 2, 2, 2, 0,\n",
       "       0, 2, 2, 1, 2, 2, 2, 1, 2, 1, 0, 0, 2, 0, 2, 2, 1, 2, 2, 0, 1, 0,\n",
       "       1, 1, 2, 2, 2, 2, 0, 2, 0, 2, 2, 1, 1, 2, 2, 2, 0, 0, 2, 2, 0, 1,\n",
       "       2, 0, 2, 0, 0, 2, 2, 2, 1, 1, 0, 0, 0, 0, 0, 2, 1, 2, 0, 1, 2, 2,\n",
       "       1, 2, 1, 1, 0, 2, 1, 2, 1, 2, 0, 2, 2, 2, 0, 0, 0, 0, 2, 2, 0, 2,\n",
       "       1, 0, 2, 1, 2, 2, 2, 1, 1, 2, 0, 2, 2, 0, 2, 0, 0, 2, 2, 2, 2, 2,\n",
       "       1, 1, 2, 2, 2, 2, 0, 2, 0, 0, 2, 2, 2, 2, 2, 2, 0, 1, 0, 2, 1, 0,\n",
       "       2, 2, 2, 1, 0, 2, 2, 2, 0, 2, 0, 2, 2, 1, 2, 2, 0, 2, 1, 2, 2, 0,\n",
       "       2, 0, 2, 2, 2, 2, 1, 2, 0, 2, 1, 2, 2, 0, 2, 0, 2, 1, 0, 2, 2, 2,\n",
       "       1, 0, 2, 2, 2, 0, 1, 2, 0, 0, 2, 2, 1, 0, 1, 1, 1, 0, 2, 2, 0, 0,\n",
       "       2, 1, 2, 2, 0, 1, 2, 2, 1, 2, 0, 2, 0, 2], dtype=int64)"
      ]
     },
     "execution_count": 59,
     "metadata": {},
     "output_type": "execute_result"
    }
   ],
   "source": [
    "df_numerical['class'] = le.fit_transform(df['class'])\n",
    "Class = list(df['class'])\n",
    "classLabel = le.fit_transform(Class)\n",
    "classLabel"
   ]
  },
  {
   "cell_type": "markdown",
   "id": "106ac37f-4a77-4b8a-adbd-74587761ef66",
   "metadata": {},
   "source": [
    "#### who:\n",
    "* 0: woman\n",
    "* 1: man\n",
    "* 2: child"
   ]
  },
  {
   "cell_type": "code",
   "execution_count": 60,
   "id": "a9ff5229",
   "metadata": {
    "scrolled": true
   },
   "outputs": [
    {
     "data": {
      "text/plain": [
       "[1,\n",
       " 0,\n",
       " 0,\n",
       " 0,\n",
       " 1,\n",
       " 1,\n",
       " 1,\n",
       " 2,\n",
       " 0,\n",
       " 2,\n",
       " 2,\n",
       " 0,\n",
       " 1,\n",
       " 1,\n",
       " 2,\n",
       " 0,\n",
       " 2,\n",
       " 1,\n",
       " 0,\n",
       " 0,\n",
       " 1,\n",
       " 1,\n",
       " 2,\n",
       " 1,\n",
       " 2,\n",
       " 0,\n",
       " 1,\n",
       " 1,\n",
       " 0,\n",
       " 1,\n",
       " 1,\n",
       " 0,\n",
       " 0,\n",
       " 1,\n",
       " 1,\n",
       " 1,\n",
       " 1,\n",
       " 1,\n",
       " 0,\n",
       " 2,\n",
       " 0,\n",
       " 0,\n",
       " 1,\n",
       " 2,\n",
       " 0,\n",
       " 1,\n",
       " 1,\n",
       " 1,\n",
       " 0,\n",
       " 2,\n",
       " 1,\n",
       " 0,\n",
       " 0,\n",
       " 1,\n",
       " 1,\n",
       " 0,\n",
       " 1,\n",
       " 2,\n",
       " 2,\n",
       " 1,\n",
       " 0,\n",
       " 1,\n",
       " 2,\n",
       " 1,\n",
       " 1,\n",
       " 0,\n",
       " 1,\n",
       " 0,\n",
       " 1,\n",
       " 1,\n",
       " 0,\n",
       " 1,\n",
       " 1,\n",
       " 1,\n",
       " 1,\n",
       " 2,\n",
       " 0,\n",
       " 1,\n",
       " 1,\n",
       " 0,\n",
       " 1,\n",
       " 0,\n",
       " 0,\n",
       " 1,\n",
       " 0,\n",
       " 1,\n",
       " 1,\n",
       " 1,\n",
       " 1,\n",
       " 1,\n",
       " 1,\n",
       " 1,\n",
       " 1,\n",
       " 0,\n",
       " 1,\n",
       " 0,\n",
       " 1,\n",
       " 1,\n",
       " 1,\n",
       " 1,\n",
       " 0,\n",
       " 1,\n",
       " 1,\n",
       " 0,\n",
       " 1,\n",
       " 2,\n",
       " 1,\n",
       " 0,\n",
       " 0,\n",
       " 1,\n",
       " 1,\n",
       " 1,\n",
       " 1,\n",
       " 2,\n",
       " 1,\n",
       " 1,\n",
       " 0,\n",
       " 1,\n",
       " 2,\n",
       " 1,\n",
       " 1,\n",
       " 0,\n",
       " 1,\n",
       " 1,\n",
       " 1,\n",
       " 0,\n",
       " 1,\n",
       " 1,\n",
       " 0,\n",
       " 1,\n",
       " 1,\n",
       " 1,\n",
       " 0,\n",
       " 0,\n",
       " 0,\n",
       " 1,\n",
       " 1,\n",
       " 1,\n",
       " 1,\n",
       " 2,\n",
       " 1,\n",
       " 1,\n",
       " 1,\n",
       " 0,\n",
       " 1,\n",
       " 1,\n",
       " 1,\n",
       " 1,\n",
       " 0,\n",
       " 1,\n",
       " 1,\n",
       " 1,\n",
       " 1,\n",
       " 0,\n",
       " 1,\n",
       " 1,\n",
       " 2,\n",
       " 2,\n",
       " 0,\n",
       " 0,\n",
       " 1,\n",
       " 1,\n",
       " 1,\n",
       " 2,\n",
       " 2,\n",
       " 1,\n",
       " 1,\n",
       " 1,\n",
       " 0,\n",
       " 1,\n",
       " 1,\n",
       " 0,\n",
       " 1,\n",
       " 2,\n",
       " 2,\n",
       " 2,\n",
       " 1,\n",
       " 0,\n",
       " 1,\n",
       " 1,\n",
       " 1,\n",
       " 0,\n",
       " 1,\n",
       " 0,\n",
       " 2,\n",
       " 0,\n",
       " 0,\n",
       " 1,\n",
       " 0,\n",
       " 1,\n",
       " 1,\n",
       " 1,\n",
       " 1,\n",
       " 2,\n",
       " 1,\n",
       " 1,\n",
       " 0,\n",
       " 1,\n",
       " 1,\n",
       " 0,\n",
       " 1,\n",
       " 1,\n",
       " 0,\n",
       " 0,\n",
       " 1,\n",
       " 0,\n",
       " 1,\n",
       " 1,\n",
       " 1,\n",
       " 1,\n",
       " 1,\n",
       " 1,\n",
       " 1,\n",
       " 1,\n",
       " 1,\n",
       " 0,\n",
       " 0,\n",
       " 1,\n",
       " 1,\n",
       " 2,\n",
       " 1,\n",
       " 0,\n",
       " 1,\n",
       " 2,\n",
       " 1,\n",
       " 1,\n",
       " 0,\n",
       " 1,\n",
       " 1,\n",
       " 1,\n",
       " 1,\n",
       " 0,\n",
       " 0,\n",
       " 1,\n",
       " 1,\n",
       " 1,\n",
       " 0,\n",
       " 1,\n",
       " 1,\n",
       " 0,\n",
       " 0,\n",
       " 0,\n",
       " 0,\n",
       " 0,\n",
       " 0,\n",
       " 2,\n",
       " 1,\n",
       " 1,\n",
       " 0,\n",
       " 1,\n",
       " 1,\n",
       " 1,\n",
       " 0,\n",
       " 0,\n",
       " 1,\n",
       " 1,\n",
       " 0,\n",
       " 1,\n",
       " 0,\n",
       " 0,\n",
       " 1,\n",
       " 2,\n",
       " 0,\n",
       " 1,\n",
       " 1,\n",
       " 1,\n",
       " 1,\n",
       " 1,\n",
       " 1,\n",
       " 1,\n",
       " 1,\n",
       " 1,\n",
       " 0,\n",
       " 0,\n",
       " 0,\n",
       " 1,\n",
       " 0,\n",
       " 1,\n",
       " 1,\n",
       " 2,\n",
       " 1,\n",
       " 0,\n",
       " 1,\n",
       " 1,\n",
       " 0,\n",
       " 2,\n",
       " 0,\n",
       " 0,\n",
       " 1,\n",
       " 0,\n",
       " 0,\n",
       " 0,\n",
       " 0,\n",
       " 1,\n",
       " 0,\n",
       " 0,\n",
       " 1,\n",
       " 0,\n",
       " 0,\n",
       " 1,\n",
       " 0,\n",
       " 0,\n",
       " 0,\n",
       " 1,\n",
       " 0,\n",
       " 0,\n",
       " 0,\n",
       " 0,\n",
       " 1,\n",
       " 1,\n",
       " 1,\n",
       " 0,\n",
       " 1,\n",
       " 0,\n",
       " 1,\n",
       " 1,\n",
       " 2,\n",
       " 0,\n",
       " 1,\n",
       " 1,\n",
       " 0,\n",
       " 0,\n",
       " 0,\n",
       " 2,\n",
       " 1,\n",
       " 1,\n",
       " 1,\n",
       " 2,\n",
       " 1,\n",
       " 0,\n",
       " 0,\n",
       " 1,\n",
       " 1,\n",
       " 0,\n",
       " 1,\n",
       " 1,\n",
       " 0,\n",
       " 0,\n",
       " 0,\n",
       " 1,\n",
       " 1,\n",
       " 1,\n",
       " 1,\n",
       " 2,\n",
       " 0,\n",
       " 0,\n",
       " 1,\n",
       " 1,\n",
       " 1,\n",
       " 0,\n",
       " 2,\n",
       " 1,\n",
       " 0,\n",
       " 1,\n",
       " 2,\n",
       " 0,\n",
       " 1,\n",
       " 0,\n",
       " 1,\n",
       " 1,\n",
       " 1,\n",
       " 0,\n",
       " 0,\n",
       " 1,\n",
       " 0,\n",
       " 1,\n",
       " 1,\n",
       " 0,\n",
       " 1,\n",
       " 1,\n",
       " 0,\n",
       " 1,\n",
       " 0,\n",
       " 1,\n",
       " 1,\n",
       " 2,\n",
       " 1,\n",
       " 1,\n",
       " 0,\n",
       " 1,\n",
       " 0,\n",
       " 0,\n",
       " 0,\n",
       " 2,\n",
       " 1,\n",
       " 1,\n",
       " 0,\n",
       " 1,\n",
       " 0,\n",
       " 0,\n",
       " 1,\n",
       " 1,\n",
       " 0,\n",
       " 1,\n",
       " 1,\n",
       " 2,\n",
       " 0,\n",
       " 0,\n",
       " 1,\n",
       " 1,\n",
       " 0,\n",
       " 1,\n",
       " 1,\n",
       " 0,\n",
       " 1,\n",
       " 2,\n",
       " 2,\n",
       " 1,\n",
       " 2,\n",
       " 1,\n",
       " 1,\n",
       " 1,\n",
       " 1,\n",
       " 1,\n",
       " 1,\n",
       " 1,\n",
       " 0,\n",
       " 0,\n",
       " 1,\n",
       " 1,\n",
       " 1,\n",
       " 1,\n",
       " 1,\n",
       " 1,\n",
       " 1,\n",
       " 2,\n",
       " 1,\n",
       " 0,\n",
       " 0,\n",
       " 0,\n",
       " 1,\n",
       " 1,\n",
       " 1,\n",
       " 2,\n",
       " 2,\n",
       " 1,\n",
       " 0,\n",
       " 1,\n",
       " 0,\n",
       " 1,\n",
       " 2,\n",
       " 1,\n",
       " 1,\n",
       " 1,\n",
       " 1,\n",
       " 0,\n",
       " 1,\n",
       " 0,\n",
       " 1,\n",
       " 0,\n",
       " 0,\n",
       " 0,\n",
       " 0,\n",
       " 1,\n",
       " 0,\n",
       " 1,\n",
       " 1,\n",
       " 1,\n",
       " 1,\n",
       " 1,\n",
       " 0,\n",
       " 1,\n",
       " 1,\n",
       " 0,\n",
       " 1,\n",
       " 0,\n",
       " 1,\n",
       " 0,\n",
       " 0,\n",
       " 1,\n",
       " 1,\n",
       " 1,\n",
       " 1,\n",
       " 1,\n",
       " 2,\n",
       " 1,\n",
       " 0,\n",
       " 0,\n",
       " 2,\n",
       " 1,\n",
       " 0,\n",
       " 1,\n",
       " 0,\n",
       " 0,\n",
       " 2,\n",
       " 2,\n",
       " 1,\n",
       " 1,\n",
       " 1,\n",
       " 0,\n",
       " 1,\n",
       " 1,\n",
       " 2,\n",
       " 1,\n",
       " 1,\n",
       " 1,\n",
       " 1,\n",
       " 0,\n",
       " 1,\n",
       " 0,\n",
       " 1,\n",
       " 0,\n",
       " 0,\n",
       " 1,\n",
       " 1,\n",
       " 1,\n",
       " 1,\n",
       " 0,\n",
       " 1,\n",
       " 1,\n",
       " 0,\n",
       " 1,\n",
       " 1,\n",
       " 1,\n",
       " 0,\n",
       " 0,\n",
       " 0,\n",
       " 1,\n",
       " 0,\n",
       " 0,\n",
       " 1,\n",
       " 1,\n",
       " 1,\n",
       " 0,\n",
       " 1,\n",
       " 1,\n",
       " 1,\n",
       " 0,\n",
       " 1,\n",
       " 0,\n",
       " 1,\n",
       " 1,\n",
       " 0,\n",
       " 1,\n",
       " 1,\n",
       " 0,\n",
       " 1,\n",
       " 1,\n",
       " 1,\n",
       " 1,\n",
       " 1,\n",
       " 1,\n",
       " 0,\n",
       " 0,\n",
       " 0,\n",
       " 1,\n",
       " 0,\n",
       " 1,\n",
       " 0,\n",
       " 2,\n",
       " 1,\n",
       " 1,\n",
       " 1,\n",
       " 1,\n",
       " 1,\n",
       " 1,\n",
       " 1,\n",
       " 1,\n",
       " 0,\n",
       " 1,\n",
       " 1,\n",
       " 1,\n",
       " 1,\n",
       " 1,\n",
       " 1,\n",
       " 2,\n",
       " 1,\n",
       " 0,\n",
       " 1,\n",
       " 2,\n",
       " 1,\n",
       " 1,\n",
       " 1,\n",
       " 1,\n",
       " 0,\n",
       " 0,\n",
       " 1,\n",
       " 0,\n",
       " 0,\n",
       " 1,\n",
       " 0,\n",
       " 1,\n",
       " 1,\n",
       " 1,\n",
       " 1,\n",
       " 1,\n",
       " 1,\n",
       " 1,\n",
       " 1,\n",
       " 1,\n",
       " 1,\n",
       " 0,\n",
       " 0,\n",
       " 1,\n",
       " 1,\n",
       " 1,\n",
       " 1,\n",
       " 1,\n",
       " 0,\n",
       " 0,\n",
       " 1,\n",
       " 0,\n",
       " 1,\n",
       " 1,\n",
       " 2,\n",
       " 1,\n",
       " 1,\n",
       " 2,\n",
       " 1,\n",
       " 1,\n",
       " 2,\n",
       " 1,\n",
       " 2,\n",
       " 1,\n",
       " 1,\n",
       " 1,\n",
       " 0,\n",
       " 1,\n",
       " 1,\n",
       " 0,\n",
       " 1,\n",
       " 0,\n",
       " 1,\n",
       " 1,\n",
       " 1,\n",
       " 0,\n",
       " 1,\n",
       " 0,\n",
       " 0,\n",
       " 1,\n",
       " 1,\n",
       " 1,\n",
       " 1,\n",
       " 1,\n",
       " 0,\n",
       " 0,\n",
       " 1,\n",
       " 1,\n",
       " 2,\n",
       " 1,\n",
       " 1,\n",
       " 1,\n",
       " 1,\n",
       " 1,\n",
       " 0,\n",
       " 0,\n",
       " 1,\n",
       " 0,\n",
       " 0,\n",
       " 2,\n",
       " 1,\n",
       " 0,\n",
       " 1,\n",
       " 1,\n",
       " 1,\n",
       " 0,\n",
       " 1,\n",
       " 1,\n",
       " 1,\n",
       " 1,\n",
       " 0,\n",
       " 1,\n",
       " 1,\n",
       " 2,\n",
       " 2,\n",
       " 1,\n",
       " 1,\n",
       " 0,\n",
       " 2,\n",
       " 1,\n",
       " 0,\n",
       " 1,\n",
       " 1,\n",
       " 0,\n",
       " 1,\n",
       " 0,\n",
       " 1,\n",
       " 0,\n",
       " 1,\n",
       " 1,\n",
       " 1,\n",
       " 1,\n",
       " 0,\n",
       " 0,\n",
       " 1,\n",
       " 1,\n",
       " 2,\n",
       " 1,\n",
       " 0,\n",
       " 2,\n",
       " 0,\n",
       " 1,\n",
       " 1,\n",
       " 1,\n",
       " 1,\n",
       " 0,\n",
       " 2,\n",
       " 2,\n",
       " 1,\n",
       " 1,\n",
       " 1,\n",
       " 1,\n",
       " 1,\n",
       " 0,\n",
       " 0,\n",
       " 1,\n",
       " 0,\n",
       " 0,\n",
       " 2,\n",
       " 2,\n",
       " 1,\n",
       " 1,\n",
       " 1,\n",
       " 0,\n",
       " 0,\n",
       " 1,\n",
       " 1,\n",
       " 1,\n",
       " 2,\n",
       " 1,\n",
       " 1,\n",
       " 0,\n",
       " 1,\n",
       " 1,\n",
       " 2,\n",
       " 0,\n",
       " 1,\n",
       " 1,\n",
       " 0,\n",
       " 2,\n",
       " 1,\n",
       " 1,\n",
       " 2,\n",
       " 1,\n",
       " 0,\n",
       " 2,\n",
       " 2,\n",
       " 1,\n",
       " 1,\n",
       " 0,\n",
       " 1,\n",
       " 1,\n",
       " 1,\n",
       " 1,\n",
       " 0,\n",
       " 1,\n",
       " 1,\n",
       " 1,\n",
       " 1,\n",
       " 0,\n",
       " 2,\n",
       " 1,\n",
       " 2,\n",
       " 0,\n",
       " 0,\n",
       " 0,\n",
       " 0,\n",
       " 1,\n",
       " 0,\n",
       " 1,\n",
       " 1,\n",
       " 0,\n",
       " 1,\n",
       " 0,\n",
       " 0,\n",
       " 1,\n",
       " 1,\n",
       " 2,\n",
       " 0,\n",
       " 1,\n",
       " 1,\n",
       " 0,\n",
       " 2,\n",
       " 1,\n",
       " 0,\n",
       " 0,\n",
       " 1,\n",
       " 0,\n",
       " 1,\n",
       " 0,\n",
       " 0,\n",
       " 0,\n",
       " 1,\n",
       " 1]"
      ]
     },
     "execution_count": 60,
     "metadata": {},
     "output_type": "execute_result"
    }
   ],
   "source": [
    "mapping = {'woman': 0, 'man': 1, 'child': 2}\n",
    "df_numerical['who'] = df['who'].map(mapping)\n",
    "whoLabel = df_numerical['who'].tolist()\n",
    "whoLabel\n",
    "\n",
    "# df_numerical['who'] = le.fit_transform(df['who'])\n",
    "# who = list(df['who'])\n",
    "# whoLabel = le.fit_transform(who)\n",
    "# whoLabel"
   ]
  },
  {
   "cell_type": "markdown",
   "id": "98d633ae-1bb3-48c9-b370-a1f5bd2b6348",
   "metadata": {},
   "source": [
    "#### adult male:\n",
    "* 0: FALSE\n",
    "* 1: TRUE"
   ]
  },
  {
   "cell_type": "code",
   "execution_count": 61,
   "id": "24aa7a80-4c9d-4072-b698-cdb21c953d2c",
   "metadata": {
    "scrolled": true
   },
   "outputs": [
    {
     "data": {
      "text/plain": [
       "array([1, 0, 0, 0, 1, 1, 1, 0, 0, 0, 0, 0, 1, 1, 0, 0, 0, 1, 0, 0, 1, 1,\n",
       "       0, 1, 0, 0, 1, 1, 0, 1, 1, 0, 0, 1, 1, 1, 1, 1, 0, 0, 0, 0, 1, 0,\n",
       "       0, 1, 1, 1, 0, 0, 1, 0, 0, 1, 1, 0, 1, 0, 0, 1, 0, 1, 0, 1, 1, 0,\n",
       "       1, 0, 1, 1, 0, 1, 1, 1, 1, 0, 0, 1, 1, 0, 1, 0, 0, 1, 0, 1, 1, 1,\n",
       "       1, 1, 1, 1, 1, 0, 1, 0, 1, 1, 1, 1, 0, 1, 1, 0, 1, 0, 1, 0, 0, 1,\n",
       "       1, 1, 1, 0, 1, 1, 0, 1, 0, 1, 1, 0, 1, 1, 1, 0, 1, 1, 0, 1, 1, 1,\n",
       "       0, 0, 0, 1, 1, 1, 1, 0, 1, 1, 1, 0, 1, 1, 1, 1, 0, 1, 1, 1, 1, 0,\n",
       "       1, 1, 0, 0, 0, 0, 1, 1, 1, 0, 0, 1, 1, 1, 0, 1, 1, 0, 1, 0, 0, 0,\n",
       "       1, 0, 1, 1, 1, 0, 1, 0, 0, 0, 0, 1, 0, 1, 1, 1, 1, 0, 1, 1, 0, 1,\n",
       "       1, 0, 1, 1, 0, 0, 1, 0, 1, 1, 1, 1, 1, 1, 1, 1, 1, 0, 0, 1, 1, 0,\n",
       "       1, 0, 1, 0, 1, 1, 0, 1, 1, 1, 1, 0, 0, 1, 1, 1, 0, 1, 1, 0, 0, 0,\n",
       "       0, 0, 0, 0, 1, 1, 0, 1, 1, 1, 0, 0, 1, 1, 0, 1, 0, 0, 1, 0, 0, 1,\n",
       "       1, 1, 1, 1, 1, 1, 1, 1, 0, 0, 0, 1, 0, 1, 1, 0, 1, 0, 1, 1, 0, 0,\n",
       "       0, 0, 1, 0, 0, 0, 0, 1, 0, 0, 1, 0, 0, 1, 0, 0, 0, 1, 0, 0, 0, 0,\n",
       "       1, 1, 1, 0, 1, 0, 1, 1, 0, 0, 1, 1, 0, 0, 0, 0, 1, 1, 1, 0, 1, 0,\n",
       "       0, 1, 1, 0, 1, 1, 0, 0, 0, 1, 1, 1, 1, 0, 0, 0, 1, 1, 1, 0, 0, 1,\n",
       "       0, 1, 0, 0, 1, 0, 1, 1, 1, 0, 0, 1, 0, 1, 1, 0, 1, 1, 0, 1, 0, 1,\n",
       "       1, 0, 1, 1, 0, 1, 0, 0, 0, 0, 1, 1, 0, 1, 0, 0, 1, 1, 0, 1, 1, 0,\n",
       "       0, 0, 1, 1, 0, 1, 1, 0, 1, 0, 0, 1, 0, 1, 1, 1, 1, 1, 1, 1, 0, 0,\n",
       "       1, 1, 1, 1, 1, 1, 1, 0, 1, 0, 0, 0, 1, 1, 1, 0, 0, 1, 0, 1, 0, 1,\n",
       "       0, 1, 1, 1, 1, 0, 1, 0, 1, 0, 0, 0, 0, 1, 0, 1, 1, 1, 1, 1, 0, 1,\n",
       "       1, 0, 1, 0, 1, 0, 0, 1, 1, 1, 1, 1, 0, 1, 0, 0, 0, 1, 0, 1, 0, 0,\n",
       "       0, 0, 1, 1, 1, 0, 1, 1, 0, 1, 1, 1, 1, 0, 1, 0, 1, 0, 0, 1, 1, 1,\n",
       "       1, 0, 1, 1, 0, 1, 1, 1, 0, 0, 0, 1, 0, 0, 1, 1, 1, 0, 1, 1, 1, 0,\n",
       "       1, 0, 1, 1, 0, 1, 1, 0, 1, 1, 1, 1, 1, 1, 0, 0, 0, 1, 0, 1, 0, 0,\n",
       "       1, 1, 1, 1, 1, 1, 1, 1, 0, 1, 1, 1, 1, 1, 1, 0, 1, 0, 1, 0, 1, 1,\n",
       "       1, 1, 0, 0, 1, 0, 0, 1, 0, 1, 1, 1, 1, 1, 1, 1, 1, 1, 1, 0, 0, 1,\n",
       "       1, 1, 1, 1, 0, 0, 1, 0, 1, 1, 0, 1, 1, 0, 1, 1, 0, 1, 0, 1, 1, 1,\n",
       "       0, 1, 1, 0, 1, 0, 1, 1, 1, 0, 1, 0, 0, 1, 1, 1, 1, 1, 0, 0, 1, 1,\n",
       "       0, 1, 1, 1, 1, 1, 0, 0, 1, 0, 0, 0, 1, 0, 1, 1, 1, 0, 1, 1, 1, 1,\n",
       "       0, 1, 1, 0, 0, 1, 1, 0, 0, 1, 0, 1, 1, 0, 1, 0, 1, 0, 1, 1, 1, 1,\n",
       "       0, 0, 1, 1, 0, 1, 0, 0, 0, 1, 1, 1, 1, 0, 0, 0, 1, 1, 1, 1, 1, 0,\n",
       "       0, 1, 0, 0, 0, 0, 1, 1, 1, 0, 0, 1, 1, 1, 0, 1, 1, 0, 1, 1, 0, 0,\n",
       "       1, 1, 0, 0, 1, 1, 0, 1, 0, 0, 0, 1, 1, 0, 1, 1, 1, 1, 0, 1, 1, 1,\n",
       "       1, 0, 0, 1, 0, 0, 0, 0, 0, 1, 0, 1, 1, 0, 1, 0, 0, 1, 1, 0, 0, 1,\n",
       "       1, 0, 0, 1, 0, 0, 1, 0, 1, 0, 0, 0, 1, 1], dtype=int64)"
      ]
     },
     "execution_count": 61,
     "metadata": {},
     "output_type": "execute_result"
    }
   ],
   "source": [
    "df_numerical['adult_male'] = le.fit_transform(df['adult_male'])\n",
    "adult_male = list(df['adult_male'])\n",
    "adult_maleLabel = le.fit_transform(adult_male)\n",
    "adult_maleLabel"
   ]
  },
  {
   "cell_type": "markdown",
   "id": "a64d9584-2d7c-4584-824d-c4eb4bf38a0e",
   "metadata": {},
   "source": [
    "#### deck:\n",
    "* 0: A\n",
    "* 1: B\n",
    "* 2: C\n",
    "* 3: D\n",
    "* 4: E\n",
    "* 5: F\n",
    "* 6: G\n",
    "* 7: null"
   ]
  },
  {
   "cell_type": "code",
   "execution_count": 62,
   "id": "e86ba6e9",
   "metadata": {
    "scrolled": true
   },
   "outputs": [
    {
     "data": {
      "text/plain": [
       "array([7, 2, 7, 2, 7, 7, 4, 7, 7, 7, 6, 2, 7, 7, 7, 7, 7, 7, 7, 7, 7, 3,\n",
       "       7, 0, 7, 7, 7, 2, 7, 7, 7, 1, 7, 7, 7, 7, 7, 7, 7, 7, 7, 7, 7, 7,\n",
       "       7, 7, 7, 7, 7, 7, 7, 3, 7, 1, 2, 7, 7, 7, 7, 7, 1, 2, 7, 7, 7, 5,\n",
       "       7, 7, 7, 7, 7, 7, 7, 7, 5, 7, 7, 7, 7, 7, 7, 7, 7, 7, 2, 7, 7, 7,\n",
       "       4, 7, 7, 0, 3, 7, 7, 7, 3, 7, 7, 7, 7, 7, 7, 7, 2, 7, 7, 7, 7, 7,\n",
       "       7, 7, 1, 7, 7, 7, 4, 3, 7, 7, 7, 5, 7, 7, 7, 7, 7, 7, 3, 2, 7, 1,\n",
       "       7, 7, 7, 7, 7, 7, 7, 7, 5, 7, 7, 2, 7, 7, 7, 7, 7, 7, 7, 7, 7, 7,\n",
       "       7, 7, 7, 7, 4, 7, 7, 7, 1, 7, 7, 0, 7, 7, 2, 7, 7, 7, 7, 7, 5, 7,\n",
       "       0, 7, 7, 7, 7, 7, 7, 7, 5, 1, 1, 7, 7, 7, 7, 7, 7, 6, 7, 7, 7, 0,\n",
       "       7, 7, 7, 7, 3, 7, 7, 3, 7, 7, 7, 7, 2, 7, 7, 7, 7, 7, 2, 7, 7, 7,\n",
       "       7, 7, 7, 7, 7, 7, 7, 7, 7, 7, 2, 7, 7, 3, 7, 7, 6, 2, 7, 7, 7, 7,\n",
       "       1, 7, 7, 7, 4, 1, 7, 7, 7, 7, 2, 2, 7, 7, 7, 2, 3, 7, 7, 7, 7, 7,\n",
       "       7, 7, 7, 0, 7, 7, 7, 7, 7, 7, 1, 3, 7, 7, 7, 2, 2, 1, 7, 7, 4, 2,\n",
       "       7, 2, 7, 4, 2, 1, 7, 7, 7, 7, 7, 2, 4, 7, 7, 7, 2, 7, 3, 7, 1, 7,\n",
       "       2, 2, 7, 7, 2, 4, 7, 7, 5, 2, 7, 7, 5, 7, 7, 7, 7, 7, 2, 7, 7, 4,\n",
       "       7, 7, 7, 7, 7, 7, 3, 7, 1, 4, 7, 7, 7, 7, 7, 7, 2, 7, 7, 7, 7, 7,\n",
       "       7, 7, 7, 7, 7, 7, 1, 7, 7, 3, 6, 7, 7, 7, 7, 7, 7, 7, 7, 7, 7, 7,\n",
       "       7, 7, 7, 7, 2, 7, 7, 7, 7, 7, 7, 7, 7, 7, 7, 7, 4, 2, 7, 7, 4, 1,\n",
       "       7, 7, 2, 7, 7, 7, 7, 7, 7, 0, 7, 7, 7, 2, 7, 7, 2, 2, 7, 4, 3, 7,\n",
       "       4, 7, 4, 7, 7, 7, 7, 7, 7, 7, 3, 7, 0, 7, 7, 7, 7, 7, 7, 1, 2, 1,\n",
       "       7, 7, 2, 7, 7, 3, 7, 2, 7, 7, 7, 7, 1, 2, 7, 7, 7, 7, 7, 4, 7, 7,\n",
       "       3, 5, 7, 7, 7, 1, 1, 7, 7, 2, 7, 7, 7, 7, 7, 7, 7, 1, 7, 7, 1, 1,\n",
       "       7, 7, 7, 2, 7, 7, 7, 7, 7, 2, 7, 7, 7, 7, 7, 0, 7, 4, 7, 7, 7, 7,\n",
       "       7, 7, 7, 7, 2, 4, 7, 7, 7, 4, 7, 7, 7, 2, 7, 0, 7, 4, 7, 1, 7, 3,\n",
       "       7, 7, 7, 7, 7, 7, 0, 7, 7, 7, 7, 7, 7, 7, 7, 2, 7, 7, 7, 7, 7, 5,\n",
       "       7, 7, 3, 7, 7, 7, 3, 7, 3, 7, 7, 0, 7, 1, 7, 7, 7, 7, 7, 7, 7, 3,\n",
       "       0, 7, 7, 7, 7, 7, 7, 7, 7, 7, 3, 7, 7, 4, 7, 7, 7, 7, 7, 2, 7, 1,\n",
       "       7, 7, 7, 7, 7, 7, 1, 7, 3, 7, 7, 7, 7, 7, 7, 7, 1, 1, 7, 7, 7, 7,\n",
       "       7, 2, 5, 2, 4, 7, 7, 7, 7, 7, 4, 7, 2, 2, 2, 7, 7, 5, 2, 4, 7, 7,\n",
       "       7, 7, 7, 7, 4, 7, 7, 7, 7, 7, 1, 7, 7, 7, 1, 3, 2, 1, 7, 7, 1, 7,\n",
       "       7, 3, 7, 7, 4, 7, 7, 7, 7, 7, 1, 7, 7, 1, 7, 3, 7, 7, 7, 7, 7, 7,\n",
       "       4, 7, 7, 5, 7, 7, 1, 7, 1, 3, 7, 7, 7, 7, 7, 7, 1, 7, 7, 7, 7, 3,\n",
       "       7, 7, 7, 7, 1, 7, 7, 7, 0, 7, 4, 7, 7, 7, 7, 7, 1, 7, 7, 7, 7, 1,\n",
       "       7, 7, 4, 7, 7, 7, 7, 7, 1, 7, 7, 7, 7, 4, 7, 2, 7, 7, 7, 7, 7, 7,\n",
       "       7, 2, 7, 7, 7, 3, 7, 7, 7, 4, 7, 7, 7, 3, 7, 7, 7, 0, 7, 7, 3, 1,\n",
       "       7, 7, 7, 7, 2, 7, 7, 7, 7, 7, 1, 7, 2, 7], dtype=int64)"
      ]
     },
     "execution_count": 62,
     "metadata": {},
     "output_type": "execute_result"
    }
   ],
   "source": [
    "df_numerical['deck'] = le.fit_transform(df['deck'])\n",
    "deck = list(df['deck'])\n",
    "deckLabel = le.fit_transform(deck)\n",
    "deckLabel"
   ]
  },
  {
   "cell_type": "markdown",
   "id": "90c9a41d-926d-4587-95d8-9eab8ee333d8",
   "metadata": {},
   "source": [
    "#### embark_town:\n",
    "* 0: Cherbourg\n",
    "* 1: Queenstown\n",
    "* 2: Southampton\n",
    "* 3: null"
   ]
  },
  {
   "cell_type": "code",
   "execution_count": 63,
   "id": "6a79ceb7",
   "metadata": {
    "scrolled": true
   },
   "outputs": [
    {
     "data": {
      "text/plain": [
       "array([2, 0, 2, 2, 2, 1, 2, 2, 2, 0, 2, 2, 2, 2, 2, 2, 1, 2, 2, 0, 2, 2,\n",
       "       1, 2, 2, 2, 0, 2, 1, 2, 0, 0, 1, 2, 0, 2, 0, 2, 2, 0, 2, 2, 0, 0,\n",
       "       1, 2, 1, 0, 2, 2, 2, 0, 2, 0, 2, 2, 0, 2, 2, 0, 3, 2, 2, 0, 0, 2,\n",
       "       2, 2, 2, 2, 2, 2, 0, 2, 2, 2, 2, 2, 2, 1, 2, 2, 2, 2, 2, 2, 2, 2,\n",
       "       2, 2, 2, 0, 0, 2, 2, 2, 2, 2, 2, 2, 2, 2, 2, 1, 2, 0, 2, 2, 0, 2,\n",
       "       1, 2, 0, 2, 2, 0, 2, 2, 0, 1, 2, 0, 2, 0, 2, 2, 2, 0, 2, 2, 2, 0,\n",
       "       0, 2, 2, 1, 2, 2, 2, 2, 2, 2, 2, 2, 2, 2, 2, 0, 1, 2, 2, 2, 2, 2,\n",
       "       2, 2, 2, 2, 2, 2, 2, 2, 2, 1, 2, 0, 2, 2, 0, 2, 2, 2, 0, 2, 2, 2,\n",
       "       2, 1, 2, 1, 2, 2, 2, 2, 2, 0, 0, 2, 2, 2, 2, 0, 2, 2, 2, 0, 1, 0,\n",
       "       2, 2, 2, 1, 0, 2, 2, 0, 2, 2, 2, 2, 2, 2, 2, 2, 2, 2, 2, 2, 2, 2,\n",
       "       2, 2, 2, 2, 2, 2, 0, 2, 2, 0, 1, 2, 2, 2, 2, 2, 2, 2, 2, 2, 0, 0,\n",
       "       2, 0, 2, 2, 2, 2, 1, 2, 2, 2, 2, 2, 2, 2, 2, 0, 2, 2, 2, 1, 2, 1,\n",
       "       2, 2, 2, 2, 0, 2, 2, 2, 1, 2, 0, 0, 2, 2, 0, 2, 2, 0, 1, 2, 1, 2,\n",
       "       0, 0, 0, 0, 0, 0, 2, 2, 2, 2, 2, 2, 0, 2, 1, 2, 0, 2, 2, 2, 0, 1,\n",
       "       2, 2, 2, 2, 2, 0, 2, 2, 2, 2, 2, 2, 2, 2, 2, 2, 2, 2, 2, 0, 2, 2,\n",
       "       2, 2, 0, 0, 2, 2, 0, 0, 0, 0, 2, 2, 0, 2, 0, 2, 0, 0, 2, 0, 0, 2,\n",
       "       2, 2, 2, 2, 1, 0, 2, 2, 2, 0, 2, 2, 2, 2, 2, 2, 2, 2, 2, 2, 2, 2,\n",
       "       2, 2, 2, 1, 1, 2, 2, 2, 2, 2, 1, 2, 2, 2, 2, 2, 2, 2, 2, 2, 2, 2,\n",
       "       2, 2, 2, 2, 2, 2, 2, 2, 2, 2, 2, 2, 0, 2, 2, 2, 0, 0, 0, 2, 2, 2,\n",
       "       2, 2, 2, 2, 2, 2, 1, 0, 2, 2, 0, 2, 2, 2, 2, 2, 2, 2, 2, 0, 2, 0,\n",
       "       2, 2, 2, 0, 0, 0, 2, 2, 2, 1, 1, 2, 2, 0, 2, 2, 2, 2, 1, 2, 0, 2,\n",
       "       2, 2, 1, 2, 2, 2, 0, 0, 1, 2, 2, 2, 2, 0, 0, 2, 2, 2, 0, 2, 0, 2,\n",
       "       2, 2, 2, 0, 2, 2, 0, 2, 2, 0, 2, 1, 0, 2, 2, 0, 0, 2, 2, 2, 2, 2,\n",
       "       2, 2, 2, 2, 2, 2, 2, 2, 2, 2, 0, 2, 2, 0, 2, 0, 0, 2, 2, 0, 2, 0,\n",
       "       2, 1, 2, 2, 2, 2, 0, 2, 2, 2, 0, 2, 2, 2, 0, 2, 2, 2, 2, 2, 2, 2,\n",
       "       2, 0, 2, 0, 2, 2, 2, 1, 2, 2, 1, 2, 2, 0, 2, 2, 2, 2, 2, 2, 2, 0,\n",
       "       0, 2, 2, 2, 2, 1, 1, 2, 1, 2, 0, 2, 0, 2, 2, 2, 2, 2, 2, 2, 2, 2,\n",
       "       2, 2, 2, 2, 2, 2, 0, 1, 0, 2, 2, 2, 0, 2, 2, 2, 2, 2, 0, 0, 2, 2,\n",
       "       1, 0, 2, 0, 2, 0, 1, 2, 2, 2, 2, 2, 0, 2, 2, 2, 2, 2, 0, 2, 1, 2,\n",
       "       2, 2, 2, 2, 2, 2, 2, 1, 2, 2, 2, 0, 2, 2, 0, 2, 2, 0, 2, 2, 2, 2,\n",
       "       2, 2, 1, 2, 2, 2, 2, 2, 2, 2, 2, 2, 0, 2, 2, 2, 0, 1, 1, 2, 2, 2,\n",
       "       2, 2, 2, 1, 2, 1, 2, 0, 2, 2, 2, 2, 2, 2, 1, 2, 0, 2, 0, 2, 2, 2,\n",
       "       2, 0, 2, 2, 2, 0, 2, 2, 2, 2, 2, 2, 2, 2, 2, 2, 2, 2, 0, 2, 2, 2,\n",
       "       2, 2, 2, 2, 1, 2, 0, 1, 3, 0, 2, 2, 2, 0, 2, 0, 2, 2, 0, 0, 2, 0,\n",
       "       2, 0, 2, 2, 0, 2, 2, 2, 2, 2, 0, 2, 2, 2, 2, 2, 0, 2, 2, 2, 2, 2,\n",
       "       2, 0, 0, 2, 0, 2, 2, 2, 2, 1, 2, 2, 0, 1], dtype=int64)"
      ]
     },
     "execution_count": 63,
     "metadata": {},
     "output_type": "execute_result"
    }
   ],
   "source": [
    "df_numerical['embark_town'] = le.fit_transform(df['embark_town'])\n",
    "town = list(df['embark_town'])\n",
    "townLabel = le.fit_transform(town)\n",
    "townLabel"
   ]
  },
  {
   "cell_type": "markdown",
   "id": "048c88ad-0724-4f2c-9b6f-051c65f8ec8c",
   "metadata": {},
   "source": [
    "#### alive:\n",
    "* 0: no\n",
    "* 1: yes"
   ]
  },
  {
   "cell_type": "code",
   "execution_count": 64,
   "id": "439baa12",
   "metadata": {
    "scrolled": true
   },
   "outputs": [
    {
     "data": {
      "text/plain": [
       "array([0, 1, 1, 1, 0, 0, 0, 0, 1, 1, 1, 1, 0, 0, 0, 1, 0, 1, 0, 1, 0, 1,\n",
       "       1, 1, 0, 1, 0, 0, 1, 0, 0, 1, 1, 0, 0, 0, 1, 0, 0, 1, 0, 0, 0, 1,\n",
       "       1, 0, 0, 0, 0, 0, 0, 1, 1, 0, 1, 1, 0, 1, 0, 0, 1, 0, 0, 0, 1, 1,\n",
       "       0, 1, 0, 0, 0, 0, 0, 1, 0, 1, 1, 0, 1, 1, 0, 1, 1, 0, 1, 0, 0, 0,\n",
       "       0, 0, 0, 0, 1, 1, 0, 0, 0, 0, 0, 0, 1, 1, 0, 1, 0, 0, 0, 0, 0, 0,\n",
       "       0, 0, 0, 0, 0, 0, 1, 0, 1, 0, 1, 1, 0, 0, 0, 0, 0, 0, 1, 0, 0, 0,\n",
       "       0, 1, 1, 0, 0, 0, 1, 0, 0, 0, 0, 1, 0, 0, 0, 0, 1, 0, 0, 0, 0, 1,\n",
       "       0, 0, 0, 1, 1, 0, 0, 0, 0, 0, 1, 0, 0, 0, 0, 0, 0, 0, 0, 0, 1, 1,\n",
       "       0, 1, 1, 0, 0, 1, 0, 1, 1, 1, 1, 0, 0, 0, 0, 0, 1, 0, 0, 1, 1, 1,\n",
       "       0, 1, 0, 0, 1, 1, 0, 1, 0, 1, 0, 0, 1, 0, 1, 0, 0, 0, 1, 0, 0, 1,\n",
       "       0, 0, 0, 1, 0, 0, 0, 0, 0, 0, 0, 0, 1, 1, 0, 0, 0, 0, 0, 0, 1, 1,\n",
       "       1, 1, 1, 1, 0, 0, 0, 0, 0, 1, 1, 1, 0, 1, 1, 0, 1, 0, 0, 0, 1, 0,\n",
       "       0, 0, 1, 0, 0, 1, 0, 1, 1, 1, 1, 0, 0, 0, 0, 0, 1, 1, 1, 0, 1, 1,\n",
       "       1, 1, 0, 1, 1, 1, 0, 0, 1, 1, 0, 1, 1, 0, 1, 1, 1, 0, 1, 1, 1, 1,\n",
       "       0, 0, 0, 1, 0, 1, 1, 0, 1, 1, 0, 0, 1, 1, 1, 1, 0, 0, 0, 0, 0, 1,\n",
       "       0, 0, 0, 0, 0, 0, 1, 1, 1, 1, 0, 0, 0, 0, 1, 1, 0, 0, 0, 1, 1, 0,\n",
       "       1, 0, 0, 1, 0, 1, 1, 1, 0, 1, 1, 0, 0, 0, 0, 1, 1, 0, 0, 0, 0, 0,\n",
       "       0, 1, 0, 0, 1, 1, 0, 1, 1, 0, 0, 0, 0, 0, 1, 1, 1, 1, 1, 0, 0, 1,\n",
       "       0, 1, 0, 0, 1, 0, 0, 1, 1, 1, 1, 1, 1, 1, 0, 0, 0, 1, 1, 0, 1, 1,\n",
       "       1, 0, 0, 0, 0, 0, 0, 1, 0, 1, 1, 0, 0, 0, 0, 1, 0, 0, 1, 1, 1, 0,\n",
       "       1, 0, 0, 0, 0, 1, 0, 0, 0, 0, 0, 0, 1, 0, 1, 1, 0, 1, 1, 1, 1, 0,\n",
       "       0, 1, 0, 1, 0, 1, 1, 0, 0, 0, 0, 0, 1, 0, 1, 0, 1, 0, 1, 0, 1, 1,\n",
       "       0, 0, 1, 0, 0, 1, 1, 0, 1, 1, 0, 0, 1, 1, 0, 1, 0, 1, 1, 0, 0, 0,\n",
       "       0, 0, 1, 1, 1, 1, 0, 0, 1, 1, 0, 1, 1, 1, 0, 0, 0, 1, 0, 1, 0, 1,\n",
       "       0, 0, 0, 0, 1, 0, 1, 1, 0, 0, 1, 0, 0, 1, 1, 1, 0, 0, 1, 0, 0, 1,\n",
       "       0, 0, 1, 1, 0, 0, 0, 0, 1, 0, 0, 1, 0, 1, 0, 0, 0, 0, 0, 0, 1, 1,\n",
       "       1, 0, 1, 1, 0, 1, 0, 0, 0, 0, 0, 1, 0, 0, 0, 1, 0, 0, 0, 1, 1, 0,\n",
       "       0, 1, 0, 0, 1, 0, 1, 0, 1, 0, 0, 0, 0, 0, 0, 0, 1, 1, 1, 0, 0, 0,\n",
       "       1, 0, 0, 1, 1, 0, 0, 0, 0, 1, 1, 1, 1, 0, 1, 0, 0, 0, 1, 1, 0, 0,\n",
       "       1, 0, 0, 0, 1, 0, 1, 1, 0, 0, 1, 0, 0, 0, 1, 1, 0, 1, 0, 1, 0, 0,\n",
       "       1, 0, 0, 1, 1, 0, 0, 1, 1, 0, 1, 0, 1, 1, 0, 1, 0, 0, 0, 0, 0, 0,\n",
       "       0, 1, 0, 0, 1, 0, 1, 1, 1, 0, 0, 0, 0, 1, 0, 1, 0, 0, 0, 0, 0, 1,\n",
       "       1, 0, 0, 1, 1, 1, 1, 0, 0, 0, 1, 0, 0, 0, 0, 0, 0, 0, 0, 0, 0, 1,\n",
       "       1, 0, 1, 0, 0, 0, 1, 1, 1, 1, 1, 0, 0, 1, 0, 1, 0, 0, 1, 0, 0, 0,\n",
       "       0, 1, 0, 0, 0, 1, 0, 1, 1, 1, 1, 0, 0, 1, 0, 1, 1, 0, 0, 1, 1, 0,\n",
       "       0, 1, 1, 0, 1, 1, 0, 0, 0, 0, 1, 0, 1, 0], dtype=int64)"
      ]
     },
     "execution_count": 64,
     "metadata": {},
     "output_type": "execute_result"
    }
   ],
   "source": [
    "df_numerical['alive'] = le.fit_transform(df['alive'])\n",
    "alive = list(df['alive'])\n",
    "aliveLabel = le.fit_transform(alive)\n",
    "aliveLabel"
   ]
  },
  {
   "cell_type": "markdown",
   "id": "d48b65a0-864a-47bb-8a65-cf721794a493",
   "metadata": {},
   "source": [
    "#### alone:\n",
    "* 0: FALSE\n",
    "* 1: TRUE"
   ]
  },
  {
   "cell_type": "code",
   "execution_count": 65,
   "id": "1e642508-3efd-411c-8b7c-1ff7f3df57fb",
   "metadata": {
    "scrolled": true
   },
   "outputs": [
    {
     "data": {
      "text/plain": [
       "array([0, 0, 1, 0, 1, 1, 1, 0, 0, 0, 0, 1, 1, 0, 1, 1, 0, 1, 0, 1, 1, 1,\n",
       "       1, 1, 0, 0, 1, 0, 1, 1, 1, 0, 1, 1, 0, 0, 1, 1, 0, 0, 0, 0, 1, 0,\n",
       "       1, 1, 0, 0, 0, 0, 1, 0, 0, 0, 1, 1, 1, 0, 0, 1, 1, 0, 0, 1, 0, 1,\n",
       "       1, 0, 0, 1, 0, 1, 0, 1, 1, 0, 1, 1, 1, 1, 1, 1, 0, 0, 0, 1, 1, 1,\n",
       "       0, 0, 1, 1, 0, 0, 0, 1, 0, 1, 0, 1, 1, 1, 1, 0, 1, 0, 1, 0, 1, 1,\n",
       "       1, 0, 0, 0, 0, 0, 1, 0, 0, 1, 1, 0, 1, 1, 1, 0, 1, 1, 0, 0, 1, 1,\n",
       "       0, 1, 0, 1, 1, 0, 1, 0, 0, 1, 1, 0, 1, 0, 1, 0, 1, 1, 1, 0, 0, 1,\n",
       "       1, 1, 0, 0, 0, 0, 1, 1, 1, 0, 0, 1, 0, 0, 1, 1, 1, 0, 1, 0, 0, 0,\n",
       "       1, 0, 1, 0, 1, 1, 1, 0, 0, 1, 1, 0, 1, 1, 1, 1, 1, 0, 0, 1, 1, 1,\n",
       "       1, 1, 1, 0, 0, 1, 0, 1, 1, 1, 1, 1, 0, 1, 1, 1, 1, 0, 0, 1, 1, 0,\n",
       "       1, 1, 0, 0, 1, 1, 0, 1, 1, 1, 0, 1, 0, 0, 0, 1, 0, 1, 0, 0, 0, 1,\n",
       "       1, 1, 0, 0, 0, 1, 1, 1, 0, 0, 0, 1, 1, 1, 0, 0, 0, 1, 1, 0, 0, 1,\n",
       "       1, 1, 1, 1, 1, 1, 1, 1, 1, 1, 0, 1, 1, 1, 1, 0, 1, 0, 0, 1, 1, 0,\n",
       "       1, 0, 0, 1, 1, 0, 0, 0, 1, 0, 1, 0, 0, 1, 1, 0, 1, 1, 1, 0, 0, 0,\n",
       "       1, 0, 0, 0, 0, 1, 1, 1, 0, 0, 1, 1, 1, 1, 0, 0, 1, 1, 1, 0, 0, 0,\n",
       "       1, 0, 0, 0, 1, 1, 0, 1, 1, 0, 0, 1, 1, 0, 0, 1, 0, 1, 1, 1, 0, 1,\n",
       "       0, 1, 0, 1, 1, 1, 0, 1, 0, 0, 0, 1, 1, 1, 1, 1, 1, 1, 0, 0, 1, 0,\n",
       "       1, 0, 1, 1, 0, 1, 1, 0, 0, 0, 1, 1, 0, 0, 0, 1, 1, 1, 0, 1, 0, 0,\n",
       "       0, 0, 0, 1, 0, 1, 0, 1, 1, 0, 0, 1, 0, 1, 0, 0, 1, 0, 1, 1, 0, 1,\n",
       "       1, 1, 1, 1, 1, 1, 1, 0, 1, 0, 1, 1, 1, 0, 1, 0, 0, 1, 1, 0, 0, 1,\n",
       "       0, 1, 1, 1, 1, 0, 1, 0, 1, 1, 1, 1, 1, 0, 0, 1, 1, 1, 1, 1, 0, 1,\n",
       "       1, 1, 1, 0, 1, 1, 0, 1, 1, 1, 1, 0, 0, 0, 0, 1, 0, 1, 1, 1, 0, 0,\n",
       "       0, 0, 0, 0, 1, 0, 1, 0, 0, 0, 1, 1, 1, 1, 1, 0, 1, 0, 0, 1, 1, 0,\n",
       "       1, 0, 1, 1, 0, 1, 1, 1, 1, 0, 0, 1, 0, 0, 1, 1, 1, 0, 1, 0, 1, 0,\n",
       "       1, 0, 0, 0, 1, 1, 0, 0, 1, 1, 1, 0, 1, 1, 0, 1, 0, 1, 0, 0, 0, 0,\n",
       "       1, 0, 0, 0, 1, 1, 1, 1, 1, 1, 1, 1, 1, 1, 1, 0, 0, 0, 0, 0, 1, 0,\n",
       "       1, 1, 1, 0, 1, 1, 1, 0, 0, 1, 0, 0, 1, 1, 1, 0, 0, 1, 1, 0, 0, 0,\n",
       "       1, 1, 1, 1, 1, 0, 0, 1, 1, 1, 0, 0, 0, 0, 1, 1, 0, 0, 0, 1, 1, 1,\n",
       "       1, 0, 1, 0, 1, 0, 1, 0, 1, 1, 1, 1, 1, 1, 0, 1, 1, 1, 1, 1, 1, 1,\n",
       "       0, 0, 1, 1, 0, 1, 0, 1, 0, 0, 1, 1, 1, 0, 1, 1, 0, 0, 0, 1, 0, 0,\n",
       "       1, 0, 1, 0, 0, 1, 1, 0, 0, 1, 1, 1, 1, 0, 1, 0, 1, 1, 0, 1, 1, 1,\n",
       "       1, 0, 1, 1, 1, 1, 0, 1, 0, 1, 0, 1, 1, 1, 0, 0, 1, 1, 1, 1, 1, 1,\n",
       "       1, 1, 0, 0, 0, 0, 1, 1, 1, 1, 0, 1, 1, 1, 0, 1, 1, 1, 0, 1, 0, 0,\n",
       "       1, 1, 0, 0, 1, 1, 0, 1, 1, 0, 0, 1, 1, 0, 1, 1, 1, 1, 1, 1, 1, 1,\n",
       "       0, 0, 0, 1, 0, 0, 0, 0, 0, 1, 0, 0, 0, 1, 1, 1, 0, 1, 1, 0, 0, 1,\n",
       "       1, 0, 1, 1, 0, 0, 1, 1, 1, 0, 1, 0, 1, 1], dtype=int64)"
      ]
     },
     "execution_count": 65,
     "metadata": {},
     "output_type": "execute_result"
    }
   ],
   "source": [
    "df_numerical['alone'] = le.fit_transform(df['alone'])\n",
    "alone = list(df['alone'])\n",
    "aloneLabel = le.fit_transform(alone)\n",
    "aloneLabel"
   ]
  },
  {
   "cell_type": "markdown",
   "id": "519b1a76-2418-4863-9d02-0a64d5a524a9",
   "metadata": {},
   "source": [
    "### Q3:"
   ]
  },
  {
   "cell_type": "markdown",
   "id": "6ddffef3-ec4f-42c9-8a92-2de300f9ca3d",
   "metadata": {},
   "source": [
    "* First, we plot the correlation heatmap of the base DataFrame without categorical variables. As shown, there is no correlation of 1 between any two different variables."
   ]
  },
  {
   "cell_type": "code",
   "execution_count": 66,
   "id": "f902ca44",
   "metadata": {},
   "outputs": [
    {
     "data": {
      "image/png": "[encoded data removed]",
      "text/plain": [
       "<Figure size 640x480 with 2 Axes>"
      ]
     },
     "metadata": {},
     "output_type": "display_data"
    }
   ],
   "source": [
    "import seaborn as sb \n",
    "import matplotlib.pyplot as mp \n",
    "\n",
    "df_without_categoricals = df.drop(['adult_male','alone','sex','embarked','class','who','embark_town','alive','deck'], axis=1)\n",
    "dataplot = sb.heatmap(df_without_categoricals.corr(), cmap=\"YlGnBu\", annot=True) \n",
    "mp.show() "
   ]
  },
  {
   "cell_type": "markdown",
   "id": "94c0e7c9-c588-495a-bbc4-faf0546f5e35",
   "metadata": {},
   "source": [
    "* Then, we plot the numerical DataFrame. As shown, some different variables have a correlation of 1 with each other like survived and alive, pclass and class, embraked and embrake_town. Also, some variables have a correlation close to 1 with each other like sex and adult_male, deck and pclass."
   ]
  },
  {
   "cell_type": "code",
   "execution_count": 67,
   "id": "8fa4ba12-a728-4704-b567-83bca5834678",
   "metadata": {},
   "outputs": [
    {
     "data": {
      "image/png": "[encoded data removed]",
      "text/plain": [
       "<Figure size 1200x800 with 2 Axes>"
      ]
     },
     "metadata": {},
     "output_type": "display_data"
    }
   ],
   "source": [
    "mp.figure(figsize=(12, 8))\n",
    "dataplot = sb.heatmap(df_numerical.corr(), cmap=\"YlGnBu\", annot=True) \n",
    "mp.show() "
   ]
  },
  {
   "cell_type": "code",
   "execution_count": 68,
   "id": "b68e786c",
   "metadata": {},
   "outputs": [],
   "source": [
    "# Q4\n",
    "# To delete extra columns : \n",
    "df = df.drop(['alive', 'pclass', 'embark_town'], axis = 1)"
   ]
  },
  {
   "cell_type": "code",
   "execution_count": 93,
   "id": "9a5a79ba",
   "metadata": {},
   "outputs": [
    {
     "name": "stdout",
     "output_type": "stream",
     "text": [
      "number of survived passengers:  323\n"
     ]
    }
   ],
   "source": [
    "# Q5\n",
    "\n",
    "survive = df[df['survived'] == 1]\n",
    "print(\"number of survived passengers: \" ,survive.shape[0])"
   ]
  },
  {
   "cell_type": "code",
   "execution_count": 92,
   "id": "7ea8af7c",
   "metadata": {},
   "outputs": [
    {
     "name": "stdout",
     "output_type": "stream",
     "text": [
      "number of females olther than 30: 102\n"
     ]
    }
   ],
   "source": [
    "# Q6\n",
    "\n",
    "fem = df[df['sex'] == 'female']\n",
    "fem30plus = fem[fem['age'] > 30]\n",
    "print(\"number of females olther than 30:\", fem30plus.shape[0])"
   ]
  },
  {
   "cell_type": "code",
   "execution_count": 91,
   "id": "cc4b984c",
   "metadata": {},
   "outputs": [
    {
     "name": "stdout",
     "output_type": "stream",
     "text": [
      "number of passengers embarked from Cherbourg and paid more than 100$: 29\n"
     ]
    }
   ],
   "source": [
    "# Q7\n",
    "\n",
    "cher = df[df['embarked'] == 'C']\n",
    "cher100plus = cher[cher['fare'] > 100]\n",
    "print(\"number of passengers embarked from Cherbourg and paid more than 100$:\", cher100plus.shape[0])"
   ]
  },
  {
   "cell_type": "code",
   "execution_count": 72,
   "id": "525bc743",
   "metadata": {},
   "outputs": [
    {
     "name": "stdout",
     "output_type": "stream",
     "text": [
      "Columns with missing values:\n",
      "Index(['age', 'embarked', 'deck'], dtype='object')\n"
     ]
    }
   ],
   "source": [
    "#Q8\n",
    "\n",
    "columns_with_missing = df.columns[df.isnull().any()]\n",
    "print(\"Columns with missing values:\")\n",
    "print(columns_with_missing)\n"
   ]
  },
  {
   "cell_type": "code",
   "execution_count": 73,
   "id": "0f3aed0e",
   "metadata": {},
   "outputs": [
    {
     "name": "stdout",
     "output_type": "stream",
     "text": [
      "155 568 59\n"
     ]
    }
   ],
   "source": [
    "C = df[df['embarked'] == 'C']\n",
    "S = df[df['embarked'] == 'S']\n",
    "Q = df[df['embarked'] == 'Q']\n",
    "\n",
    "print(C.shape[0], S.shape[0], Q.shape[0])"
   ]
  },
  {
   "cell_type": "code",
   "execution_count": 78,
   "id": "31e0eca9",
   "metadata": {},
   "outputs": [],
   "source": [
    "df['embarked'].fillna('S', inplace=True)"
   ]
  },
  {
   "cell_type": "markdown",
   "id": "a0e7de06",
   "metadata": {},
   "source": [
    "**We fill the age column with its average value and also delete the deck column due to the large number of missing values. Also, we fill the 2 missing values of embarked with the highest repetition, S**"
   ]
  },
  {
   "cell_type": "code",
   "execution_count": 75,
   "id": "4ef57182",
   "metadata": {},
   "outputs": [],
   "source": [
    "average_value = df['age'].mean()\n",
    "\n",
    "# Fill missing values with the average value\n",
    "df['age'].fillna(average_value, inplace=True)\n"
   ]
  },
  {
   "cell_type": "code",
   "execution_count": 76,
   "id": "00fc35c2",
   "metadata": {},
   "outputs": [],
   "source": [
    "df = df.drop(['deck'], axis = 1)"
   ]
  },
  {
   "cell_type": "code",
   "execution_count": 79,
   "id": "f1197c14",
   "metadata": {},
   "outputs": [
    {
     "name": "stdout",
     "output_type": "stream",
     "text": [
      "<class 'pandas.core.frame.DataFrame'>\n",
      "Int64Index: 784 entries, 0 to 890\n",
      "Data columns (total 11 columns):\n",
      " #   Column      Non-Null Count  Dtype  \n",
      "---  ------      --------------  -----  \n",
      " 0   survived    784 non-null    int64  \n",
      " 1   sex         784 non-null    object \n",
      " 2   age         784 non-null    float64\n",
      " 3   sibsp       784 non-null    int64  \n",
      " 4   parch       784 non-null    int64  \n",
      " 5   fare        784 non-null    float64\n",
      " 6   embarked    784 non-null    object \n",
      " 7   class       784 non-null    object \n",
      " 8   who         784 non-null    object \n",
      " 9   adult_male  784 non-null    bool   \n",
      " 10  alone       784 non-null    bool   \n",
      "dtypes: bool(2), float64(2), int64(3), object(4)\n",
      "memory usage: 62.8+ KB\n"
     ]
    }
   ],
   "source": [
    "df.info()"
   ]
  },
  {
   "cell_type": "code",
   "execution_count": 80,
   "id": "5ee862cc",
   "metadata": {},
   "outputs": [
    {
     "name": "stdout",
     "output_type": "stream",
     "text": [
      "average age of all passengers: 29.869351032448378\n",
      "average age of male passengers: 30.872006560568106\n",
      "average age of female passengers: 28.189133065531024\n"
     ]
    }
   ],
   "source": [
    "# Q9\n",
    "\n",
    "import numpy as np\n",
    "ageAve = np.mean(df['age'])\n",
    "\n",
    "men = df[df['sex'] == 'male']\n",
    "women = df[df['sex'] == 'female']\n",
    "\n",
    "menAve = np.mean(men['age'])\n",
    "womAve = np.mean(women['age'])\n",
    "\n",
    "print(f'average age of all passengers: {ageAve}')\n",
    "print(f'average age of male passengers: {menAve}')\n",
    "print(f'average age of female passengers: {womAve}')"
   ]
  },
  {
   "cell_type": "code",
   "execution_count": 81,
   "id": "7b7c6448",
   "metadata": {},
   "outputs": [
    {
     "name": "stdout",
     "output_type": "stream",
     "text": [
      "survived       0    1\n",
      "Fare Groups          \n",
      "(0, 50]      406  216\n",
      "(50, 100]     32   67\n",
      "(100, 150]     5   19\n",
      "(150, 200]     3    6\n",
      "(200, 550]     6   14\n"
     ]
    },
    {
     "data": {
      "image/png": "[encoded data removed]",
      "text/plain": [
       "<Figure size 640x480 with 1 Axes>"
      ]
     },
     "metadata": {},
     "output_type": "display_data"
    }
   ],
   "source": [
    "# Q10 \n",
    "\n",
    "import pandas as pd\n",
    "import seaborn as sns\n",
    "import matplotlib.pyplot as plt\n",
    "\n",
    "# Create fare groups\n",
    "df['Fare Groups'] = pd.cut(df['fare'], [0, 50, 100, 150, 200, 550])\n",
    "\n",
    "# Calculate survival rates\n",
    "piv_fare = df.pivot_table(index='Fare Groups', columns='survived', values='fare', aggfunc=lambda x: len(x) )\n",
    "\n",
    "print(piv_fare)\n",
    "\n",
    "# Plot the survival rates\n",
    "sns.barplot(x='Fare Groups', y=1, data=piv_fare.reset_index())\n",
    "plt.xlabel('Fare Groups')\n",
    "plt.ylabel('Survival Count')\n",
    "plt.title('Survival Rate by Fare Group')\n",
    "plt.show()\n",
    "\n",
    "\n",
    "sr0_50 = 232 / 716\n",
    "sr50_100 = 70 / 107\n",
    "sr100_150 = 19 / 24\n",
    "sr150_200 = 6 / 9\n",
    "sr200_550 = 14 / 20\n",
    "\n",
    "\n"
   ]
  },
  {
   "cell_type": "code",
   "execution_count": 82,
   "id": "9e78a36c",
   "metadata": {},
   "outputs": [
    {
     "data": {
      "image/png": "[encoded data removed]",
      "text/plain": [
       "<Figure size 640x480 with 1 Axes>"
      ]
     },
     "metadata": {},
     "output_type": "display_data"
    }
   ],
   "source": [
    "numbers = [sr0_50,\n",
    "sr50_100 ,\n",
    "sr100_150, \n",
    "sr150_200,\n",
    "sr200_550]\n",
    "\n",
    "fare = ['0 to 50','50 to 100', '100 to 150', '150 to 200', '200 to 550' ]\n",
    "# Create a bar plot\n",
    "plt.bar(fare, numbers, color='maroon', alpha=0.7)\n",
    "plt.xlabel(\"Index\")\n",
    "plt.ylabel(\"Survival Rate\")\n",
    "plt.title(\"Bar Plot with 5 Numbers\")\n",
    "\n",
    "plt.show()"
   ]
  },
  {
   "cell_type": "markdown",
   "id": "eb9c9c85",
   "metadata": {},
   "source": [
    "**As it turns out, the number of people who paid less and survived is more. But the proportion of these people is higher than other groups and if we draw the graph in terms of percentage, the trend will be the opposite**\n",
    "\n",
    "**It can also be observed that passengers who paid less than 50 dollars had a significantly lower survival rate, while the survival rates in the other groups are nearly the same.**"
   ]
  },
  {
   "cell_type": "code",
   "execution_count": 83,
   "id": "71080607",
   "metadata": {},
   "outputs": [
    {
     "data": {
      "text/plain": [
       "<BarContainer object of 3 artists>"
      ]
     },
     "execution_count": 83,
     "metadata": {},
     "output_type": "execute_result"
    },
    {
     "data": {
      "image/png": "[encoded data removed]",
      "text/plain": [
       "<Figure size 640x480 with 1 Axes>"
      ]
     },
     "metadata": {},
     "output_type": "display_data"
    }
   ],
   "source": [
    "# Q11\n",
    "\n",
    "first = df[df['class'] == 'First']\n",
    "second = df[df['class'] == 'Second']\n",
    "third = df[df['class'] == 'Third']\n",
    "\n",
    "firstSurv = first[first['survived'] == 1]\n",
    "secondSurv = second[second['survived'] == 1]\n",
    "thirdSurv = third[third['survived'] == 1]\n",
    "\n",
    "class1 = firstSurv.shape[0]\n",
    "class2 = secondSurv.shape[0]\n",
    "class3 = thirdSurv.shape[0]\n",
    "\n",
    "import matplotlib.pyplot as plt\n",
    "\n",
    "cl = ['first', 'second', 'third']\n",
    "surv = [class1, class2, class3]\n",
    "\n",
    "plt.bar(cl, surv)"
   ]
  },
  {
   "cell_type": "code",
   "execution_count": 84,
   "id": "7bbd2418",
   "metadata": {},
   "outputs": [
    {
     "data": {
      "text/plain": [
       "<BarContainer object of 3 artists>"
      ]
     },
     "execution_count": 84,
     "metadata": {},
     "output_type": "execute_result"
    },
    {
     "data": {
      "image/png": "[encoded data removed]",
      "text/plain": [
       "<Figure size 640x480 with 1 Axes>"
      ]
     },
     "metadata": {},
     "output_type": "display_data"
    }
   ],
   "source": [
    "cl = ['first', 'second', 'third']\n",
    "surv = [class1/first.shape[0], class2/second.shape[0], class3/third.shape[0]]\n",
    "plt.xlabel(\"Class\")\n",
    "plt.ylabel(\"Survival Rate\")\n",
    "plt.title(\"Survival Rate by Class\")\n",
    "\n",
    "plt.bar(cl, surv)"
   ]
  },
  {
   "cell_type": "markdown",
   "id": "07d77ded",
   "metadata": {},
   "source": [
    "* The rescue rate of passengers is proportional to their class, the better the class, the higher the rescue rate"
   ]
  },
  {
   "cell_type": "code",
   "execution_count": 85,
   "id": "7e44ca6b",
   "metadata": {},
   "outputs": [
    {
     "data": {
      "text/plain": [
       "(array([ 53.,  46., 163., 261., 113.,  69.,  44.,  24.,   9.,   2.]),\n",
       " array([ 0.42 ,  8.378, 16.336, 24.294, 32.252, 40.21 , 48.168, 56.126,\n",
       "        64.084, 72.042, 80.   ]),\n",
       " <BarContainer object of 10 artists>)"
      ]
     },
     "execution_count": 85,
     "metadata": {},
     "output_type": "execute_result"
    },
    {
     "data": {
      "image/png": "[encoded data removed]",
      "text/plain": [
       "<Figure size 640x480 with 1 Axes>"
      ]
     },
     "metadata": {},
     "output_type": "display_data"
    }
   ],
   "source": [
    "age = df['age']\n",
    "plt.hist(age)"
   ]
  },
  {
   "cell_type": "code",
   "execution_count": 86,
   "id": "18f1a480",
   "metadata": {},
   "outputs": [
    {
     "data": {
      "text/plain": [
       "(array([ 18.,  16.,  88., 165.,  59.,  43.,  38.,  15.,  13.,   6.]),\n",
       " array([ 1. ,  8.3, 15.6, 22.9, 30.2, 37.5, 44.8, 52.1, 59.4, 66.7, 74. ]),\n",
       " <BarContainer object of 10 artists>)"
      ]
     },
     "execution_count": 86,
     "metadata": {},
     "output_type": "execute_result"
    },
    {
     "data": {
      "image/png": "[encoded data removed]",
      "text/plain": [
       "<Figure size 640x480 with 1 Axes>"
      ]
     },
     "metadata": {},
     "output_type": "display_data"
    }
   ],
   "source": [
    "ageAlive = df[df['survived'] == 1]\n",
    "ageDead = df[df['survived'] == 0]\n",
    "plt.hist(ageAlive['age'])\n",
    "plt.hist(ageDead['age'])"
   ]
  },
  {
   "cell_type": "code",
   "execution_count": 87,
   "id": "e689dfea",
   "metadata": {},
   "outputs": [
    {
     "data": {
      "text/plain": [
       "<Axes: xlabel='age', ylabel='Count'>"
      ]
     },
     "execution_count": 87,
     "metadata": {},
     "output_type": "execute_result"
    },
    {
     "data": {
      "image/png": "[encoded data removed]",
      "text/plain": [
       "<Figure size 640x480 with 1 Axes>"
      ]
     },
     "metadata": {},
     "output_type": "display_data"
    }
   ],
   "source": [
    "# Q12:\n",
    "\n",
    "import seaborn as sns\n",
    "sns.histplot(data=df, x=df['age'], hue=df['survived'], bins=20, kde=True, alpha=0.7)\n"
   ]
  },
  {
   "cell_type": "markdown",
   "id": "dfd87988",
   "metadata": {},
   "source": [
    "* The number of survived people is less than non-survivors in most of the bins. Only in ages below 8, the number of survivors has been higher."
   ]
  },
  {
   "cell_type": "code",
   "execution_count": 88,
   "id": "e3bf710a",
   "metadata": {},
   "outputs": [
    {
     "data": {
      "image/png": "[encoded data removed]",
      "text/plain": [
       "<Figure size 640x480 with 2 Axes>"
      ]
     },
     "metadata": {},
     "output_type": "display_data"
    }
   ],
   "source": [
    "# Q13\n",
    "\n",
    "fare = df['fare']\n",
    "plt.scatter(age,fare, c=df['survived'])\n",
    "\n",
    "plt.xlabel('Age')\n",
    "plt.ylabel('Fare Paid')\n",
    "plt.title('Scatter Plot: Age vs Fare (Color-coded by Survival)')\n",
    "\n",
    "cbar = plt.colorbar()\n",
    "cbar.set_label('Survival (0 = Not Survived, 1 = Survived)')\n",
    "\n",
    "plt.show()"
   ]
  },
  {
   "cell_type": "markdown",
   "id": "a260e31e",
   "metadata": {},
   "source": [
    "* In different age groups, the majority of fare paid are less than $100. In the graph, the yellow points represent the survivors, and they have a higher rate with an increase in the amount of fares. .It is worth noting that as the amount of fares increases, the rate of survivors also increases. "
   ]
  },
  {
   "cell_type": "code",
   "execution_count": 89,
   "id": "1839b824",
   "metadata": {},
   "outputs": [
    {
     "name": "stdout",
     "output_type": "stream",
     "text": [
      "               Average Fare  Survival Rate\n",
      "class  sex                                \n",
      "First  female    106.521774       0.967742\n",
      "       male       67.552617       0.371901\n",
      "Second female     22.194921       0.917808\n",
      "       male       21.550136       0.184783\n",
      "Third  female     15.704004       0.472441\n",
      "       male       12.720727       0.158273\n",
      "*****\n",
      "class pivot table:\n",
      "        Average Fare  Survival Rate\n",
      "class                              \n",
      "First      84.487812       0.630841\n",
      "Second     21.835404       0.509091\n",
      "Third      13.656223       0.256790\n",
      "*****\n",
      "sex pivot table:\n",
      "        Average Fare  Survival Rate\n",
      "sex                                \n",
      "female     46.147313       0.740614\n",
      "male       27.887660       0.215886\n"
     ]
    }
   ],
   "source": [
    "# Q14\n",
    "\n",
    "pivot_table = df.pivot_table(index=['class', 'sex'], values=['fare', 'survived'],\n",
    "                             aggfunc={'fare': 'mean', 'survived': 'mean'})\n",
    "\n",
    "# Rename the columns\n",
    "pivot_table.rename(columns={'fare': 'Average Fare', 'survived': 'Survival Rate'}, inplace=True)\n",
    "\n",
    "print(pivot_table)\n",
    "print('*****')\n",
    "\n",
    "pivot_table = df.pivot_table(index=['class'], values=['fare', 'survived'],\n",
    "                             aggfunc={'fare': 'mean', 'survived': 'mean'})\n",
    "pivot_table.rename(columns={'fare': 'Average Fare', 'survived': 'Survival Rate'}, inplace=True)\n",
    "print(\"class pivot table:\")\n",
    "print(pivot_table)\n",
    "print('*****')\n",
    "\n",
    "pivot_table = df.pivot_table(index=['sex'], values=['fare', 'survived'],\n",
    "                         aggfunc={'fare': 'mean', 'survived': 'mean'})\n",
    "pivot_table.rename(columns={'fare': 'Average Fare', 'survived': 'Survival Rate'}, inplace=True)\n",
    "print(\"sex pivot table:\")\n",
    "print(pivot_table)"
   ]
  },
  {
   "cell_type": "markdown",
   "id": "e2c6b911",
   "metadata": {},
   "source": [
    "* The survival rate of females is higher than that of males in all classes.\n",
    "* Additionally, in all classes, females paid more than males.\n",
    "* If you give more money, you will likely have a higher chance of staying alive :)"
   ]
  },
  {
   "cell_type": "code",
   "execution_count": 90,
   "id": "6b5e0bff",
   "metadata": {},
   "outputs": [
    {
     "data": {
      "image/png": "[encoded data removed]",
      "text/plain": [
       "<Figure size 1000x600 with 1 Axes>"
      ]
     },
     "metadata": {},
     "output_type": "display_data"
    },
    {
     "name": "stdout",
     "output_type": "stream",
     "text": [
      "survived          0          1\n",
      "class                         \n",
      "First     65.151896  95.802903\n",
      "Second    21.401183  22.254118\n",
      "Third     13.813731  13.200361\n"
     ]
    }
   ],
   "source": [
    "# Q15\n",
    "\n",
    "import pandas as pd\n",
    "import matplotlib.pyplot as plt\n",
    "\n",
    "\n",
    "# Create a pivot table to calculate the average fare for each combination of class and survival\n",
    "pivot_table = df.pivot_table(index='class', columns='survived', values='fare', aggfunc='mean')\n",
    "\n",
    "fig, ax = plt.subplots(figsize=(10, 6))\n",
    "pivot_table.plot(kind='bar', ax=ax, color=['orange', 'blue'], alpha=0.7)\n",
    "\n",
    "plt.xlabel('Passenger Class')\n",
    "plt.ylabel('Average Fare')\n",
    "plt.title('Average Fare by Passenger Class and Survival Status')\n",
    "plt.xticks(rotation=0)\n",
    "\n",
    "plt.legend(title='Survival', labels=['Not Survived', 'Survived'])\n",
    "\n",
    "plt.tight_layout()\n",
    "plt.show()\n",
    "\n",
    "print(pivot_table)\n"
   ]
  },
  {
   "cell_type": "markdown",
   "id": "c76ea911",
   "metadata": {},
   "source": [
    "* In the first class, the average payment of the individuals who survived is higher than those who did not survive. However, in the other classes, the average payment of the individuals who survived and those who did not survive is approximately equal."
   ]
  },
  {
   "cell_type": "code",
   "execution_count": null,
   "id": "31c27680",
   "metadata": {},
   "outputs": [],
   "source": []
  },
  {
   "cell_type": "markdown",
   "id": "aa82bd5c",
   "metadata": {},
   "source": [
    "## Task 2 : "
   ]
  },
  {
   "cell_type": "code",
   "execution_count": null,
   "id": "2b8a3775",
   "metadata": {},
   "outputs": [],
   "source": [
    "! pip install forex-python"
   ]
  },
  {
   "cell_type": "code",
   "execution_count": 1,
   "id": "600b9786",
   "metadata": {},
   "outputs": [],
   "source": [
    "import pandas as pd\n",
    "import numpy as np\n",
    "from forex_python.converter import CurrencyRates\n",
    "import matplotlib.pyplot as plt\n",
    "import seaborn as sns"
   ]
  },
  {
   "cell_type": "code",
   "execution_count": 2,
   "id": "8bfc87ff",
   "metadata": {},
   "outputs": [
    {
     "data": {
      "text/html": [
       "<div>\n",
       "<style scoped>\n",
       "    .dataframe tbody tr th:only-of-type {\n",
       "        vertical-align: middle;\n",
       "    }\n",
       "\n",
       "    .dataframe tbody tr th {\n",
       "        vertical-align: top;\n",
       "    }\n",
       "\n",
       "    .dataframe thead th {\n",
       "        text-align: right;\n",
       "    }\n",
       "</style>\n",
       "<table border=\"1\" class=\"dataframe\">\n",
       "  <thead>\n",
       "    <tr style=\"text-align: right;\">\n",
       "      <th></th>\n",
       "      <th>Work_Year</th>\n",
       "      <th>Experience_Level</th>\n",
       "      <th>Employment_Type</th>\n",
       "      <th>Job_Title</th>\n",
       "      <th>Salary</th>\n",
       "      <th>Salary_Currency</th>\n",
       "      <th>Remote_Ratio</th>\n",
       "      <th>Company_Size</th>\n",
       "    </tr>\n",
       "  </thead>\n",
       "  <tbody>\n",
       "    <tr>\n",
       "      <th>0</th>\n",
       "      <td>2024</td>\n",
       "      <td>Senior-Level</td>\n",
       "      <td>Full-Time</td>\n",
       "      <td>AI Engineer</td>\n",
       "      <td>90000</td>\n",
       "      <td>USD</td>\n",
       "      <td>0</td>\n",
       "      <td>Large</td>\n",
       "    </tr>\n",
       "    <tr>\n",
       "      <th>1</th>\n",
       "      <td>2024</td>\n",
       "      <td>Senior-Level</td>\n",
       "      <td>Full-Time</td>\n",
       "      <td>Machine Learning Engineer</td>\n",
       "      <td>180500</td>\n",
       "      <td>USD</td>\n",
       "      <td>0</td>\n",
       "      <td>Medium</td>\n",
       "    </tr>\n",
       "    <tr>\n",
       "      <th>2</th>\n",
       "      <td>2024</td>\n",
       "      <td>Senior-Level</td>\n",
       "      <td>Full-Time</td>\n",
       "      <td>Machine Learning Engineer</td>\n",
       "      <td>96200</td>\n",
       "      <td>USD</td>\n",
       "      <td>0</td>\n",
       "      <td>Medium</td>\n",
       "    </tr>\n",
       "    <tr>\n",
       "      <th>3</th>\n",
       "      <td>2024</td>\n",
       "      <td>Senior-Level</td>\n",
       "      <td>Full-Time</td>\n",
       "      <td>Machine Learning Engineer</td>\n",
       "      <td>235000</td>\n",
       "      <td>USD</td>\n",
       "      <td>0</td>\n",
       "      <td>Medium</td>\n",
       "    </tr>\n",
       "    <tr>\n",
       "      <th>4</th>\n",
       "      <td>2024</td>\n",
       "      <td>Senior-Level</td>\n",
       "      <td>Full-Time</td>\n",
       "      <td>Machine Learning Engineer</td>\n",
       "      <td>175000</td>\n",
       "      <td>USD</td>\n",
       "      <td>0</td>\n",
       "      <td>Medium</td>\n",
       "    </tr>\n",
       "  </tbody>\n",
       "</table>\n",
       "</div>"
      ],
      "text/plain": [
       "   Work_Year Experience_Level Employment_Type                  Job_Title  \\\n",
       "0       2024     Senior-Level       Full-Time                AI Engineer   \n",
       "1       2024     Senior-Level       Full-Time  Machine Learning Engineer   \n",
       "2       2024     Senior-Level       Full-Time  Machine Learning Engineer   \n",
       "3       2024     Senior-Level       Full-Time  Machine Learning Engineer   \n",
       "4       2024     Senior-Level       Full-Time  Machine Learning Engineer   \n",
       "\n",
       "   Salary Salary_Currency  Remote_Ratio Company_Size  \n",
       "0   90000             USD             0        Large  \n",
       "1  180500             USD             0       Medium  \n",
       "2   96200             USD             0       Medium  \n",
       "3  235000             USD             0       Medium  \n",
       "4  175000             USD             0       Medium  "
      ]
     },
     "execution_count": 2,
     "metadata": {},
     "output_type": "execute_result"
    }
   ],
   "source": [
    "df2 = pd.read_csv('task2.csv')\n",
    "df2.head()"
   ]
  },
  {
   "cell_type": "code",
   "execution_count": 3,
   "id": "e7a0f652",
   "metadata": {},
   "outputs": [
    {
     "name": "stdout",
     "output_type": "stream",
     "text": [
      "<class 'pandas.core.frame.DataFrame'>\n",
      "RangeIndex: 13972 entries, 0 to 13971\n",
      "Data columns (total 8 columns):\n",
      " #   Column            Non-Null Count  Dtype \n",
      "---  ------            --------------  ----- \n",
      " 0   Work_Year         13972 non-null  int64 \n",
      " 1   Experience_Level  13972 non-null  object\n",
      " 2   Employment_Type   13972 non-null  object\n",
      " 3   Job_Title         13972 non-null  object\n",
      " 4   Salary            13972 non-null  int64 \n",
      " 5   Salary_Currency   13972 non-null  object\n",
      " 6   Remote_Ratio      13972 non-null  int64 \n",
      " 7   Company_Size      13972 non-null  object\n",
      "dtypes: int64(3), object(5)\n",
      "memory usage: 873.4+ KB\n"
     ]
    }
   ],
   "source": [
    "df2.info()"
   ]
  },
  {
   "cell_type": "markdown",
   "id": "8e0607a0",
   "metadata": {},
   "source": [
    "- Pre-Analysis :"
   ]
  },
  {
   "cell_type": "code",
   "execution_count": 4,
   "id": "c161851b",
   "metadata": {},
   "outputs": [],
   "source": [
    "# deleting duplicate rows\n",
    "df2.drop_duplicates(inplace=True)\n",
    "\n",
    "# Check for missing data\n",
    "df2.dropna(inplace=True)"
   ]
  },
  {
   "cell_type": "code",
   "execution_count": 5,
   "id": "777f4f62",
   "metadata": {},
   "outputs": [
    {
     "name": "stdout",
     "output_type": "stream",
     "text": [
      "<class 'pandas.core.frame.DataFrame'>\n",
      "Index: 8407 entries, 0 to 13971\n",
      "Data columns (total 8 columns):\n",
      " #   Column            Non-Null Count  Dtype \n",
      "---  ------            --------------  ----- \n",
      " 0   Work_Year         8407 non-null   int64 \n",
      " 1   Experience_Level  8407 non-null   object\n",
      " 2   Employment_Type   8407 non-null   object\n",
      " 3   Job_Title         8407 non-null   object\n",
      " 4   Salary            8407 non-null   int64 \n",
      " 5   Salary_Currency   8407 non-null   object\n",
      " 6   Remote_Ratio      8407 non-null   int64 \n",
      " 7   Company_Size      8407 non-null   object\n",
      "dtypes: int64(3), object(5)\n",
      "memory usage: 591.1+ KB\n"
     ]
    }
   ],
   "source": [
    "df2.info()"
   ]
  },
  {
   "cell_type": "markdown",
   "id": "812d93a8",
   "metadata": {},
   "source": [
    "Now let's check the currencies and their count in the cleansed dataset :"
   ]
  },
  {
   "cell_type": "code",
   "execution_count": 6,
   "id": "88bd1164",
   "metadata": {},
   "outputs": [
    {
     "name": "stdout",
     "output_type": "stream",
     "text": [
      "Salary_Currency\n",
      "USD    7499\n",
      "GBP     410\n",
      "EUR     339\n",
      "INR      52\n",
      "CAD      48\n",
      "AUD      12\n",
      "PLN       7\n",
      "CHF       6\n",
      "SGD       6\n",
      "JPY       4\n",
      "BRL       4\n",
      "DKK       3\n",
      "HUF       3\n",
      "TRY       3\n",
      "NOK       2\n",
      "THB       2\n",
      "ZAR       1\n",
      "HKD       1\n",
      "ILS       1\n",
      "PHP       1\n",
      "NZD       1\n",
      "MXN       1\n",
      "CLP       1\n",
      "Name: count, dtype: int64\n"
     ]
    }
   ],
   "source": [
    "currency_counts = df2['Salary_Currency'].value_counts()\n",
    "print(currency_counts)"
   ]
  },
  {
   "cell_type": "code",
   "execution_count": 7,
   "id": "bdf8430a",
   "metadata": {},
   "outputs": [
    {
     "data": {
      "text/html": [
       "<div>\n",
       "<style scoped>\n",
       "    .dataframe tbody tr th:only-of-type {\n",
       "        vertical-align: middle;\n",
       "    }\n",
       "\n",
       "    .dataframe tbody tr th {\n",
       "        vertical-align: top;\n",
       "    }\n",
       "\n",
       "    .dataframe thead th {\n",
       "        text-align: right;\n",
       "    }\n",
       "</style>\n",
       "<table border=\"1\" class=\"dataframe\">\n",
       "  <thead>\n",
       "    <tr style=\"text-align: right;\">\n",
       "      <th></th>\n",
       "      <th>Work_Year</th>\n",
       "      <th>Experience_Level</th>\n",
       "      <th>Employment_Type</th>\n",
       "      <th>Job_Title</th>\n",
       "      <th>Salary</th>\n",
       "      <th>Salary_Currency</th>\n",
       "      <th>Remote_Ratio</th>\n",
       "      <th>Company_Size</th>\n",
       "    </tr>\n",
       "  </thead>\n",
       "  <tbody>\n",
       "    <tr>\n",
       "      <th>13967</th>\n",
       "      <td>2020</td>\n",
       "      <td>Senior-Level</td>\n",
       "      <td>Full-Time</td>\n",
       "      <td>Data Scientist</td>\n",
       "      <td>412000</td>\n",
       "      <td>USD</td>\n",
       "      <td>100</td>\n",
       "      <td>Large</td>\n",
       "    </tr>\n",
       "    <tr>\n",
       "      <th>13968</th>\n",
       "      <td>2021</td>\n",
       "      <td>Mid-Level</td>\n",
       "      <td>Full-Time</td>\n",
       "      <td>Principal Data Scientist</td>\n",
       "      <td>151000</td>\n",
       "      <td>USD</td>\n",
       "      <td>100</td>\n",
       "      <td>Large</td>\n",
       "    </tr>\n",
       "    <tr>\n",
       "      <th>13969</th>\n",
       "      <td>2020</td>\n",
       "      <td>Entry-Level</td>\n",
       "      <td>Full-Time</td>\n",
       "      <td>Data Scientist</td>\n",
       "      <td>105000</td>\n",
       "      <td>USD</td>\n",
       "      <td>100</td>\n",
       "      <td>S</td>\n",
       "    </tr>\n",
       "    <tr>\n",
       "      <th>13970</th>\n",
       "      <td>2020</td>\n",
       "      <td>Entry-Level</td>\n",
       "      <td>Contract</td>\n",
       "      <td>Business Data Analyst</td>\n",
       "      <td>100000</td>\n",
       "      <td>USD</td>\n",
       "      <td>100</td>\n",
       "      <td>Large</td>\n",
       "    </tr>\n",
       "    <tr>\n",
       "      <th>13971</th>\n",
       "      <td>2021</td>\n",
       "      <td>Senior-Level</td>\n",
       "      <td>Full-Time</td>\n",
       "      <td>Data Science Manager</td>\n",
       "      <td>7000000</td>\n",
       "      <td>INR</td>\n",
       "      <td>50</td>\n",
       "      <td>Large</td>\n",
       "    </tr>\n",
       "  </tbody>\n",
       "</table>\n",
       "</div>"
      ],
      "text/plain": [
       "       Work_Year Experience_Level Employment_Type                 Job_Title  \\\n",
       "13967       2020     Senior-Level       Full-Time            Data Scientist   \n",
       "13968       2021        Mid-Level       Full-Time  Principal Data Scientist   \n",
       "13969       2020      Entry-Level       Full-Time            Data Scientist   \n",
       "13970       2020      Entry-Level        Contract     Business Data Analyst   \n",
       "13971       2021     Senior-Level       Full-Time      Data Science Manager   \n",
       "\n",
       "        Salary Salary_Currency  Remote_Ratio Company_Size  \n",
       "13967   412000             USD           100        Large  \n",
       "13968   151000             USD           100        Large  \n",
       "13969   105000             USD           100            S  \n",
       "13970   100000             USD           100        Large  \n",
       "13971  7000000             INR            50        Large  "
      ]
     },
     "execution_count": 7,
     "metadata": {},
     "output_type": "execute_result"
    }
   ],
   "source": [
    "# To Select currencies with more than 10 repetitions: \n",
    "valid_currencies = currency_counts[currency_counts >= 10].index\n",
    "filtered_df = df2[df2['Salary_Currency'].isin(valid_currencies)]\n",
    "\n",
    "filtered_df.tail()"
   ]
  },
  {
   "cell_type": "code",
   "execution_count": 8,
   "id": "0e318f05",
   "metadata": {},
   "outputs": [
    {
     "name": "stderr",
     "output_type": "stream",
     "text": [
      "C:\\Users\\Mohasnik\\AppData\\Local\\Temp\\ipykernel_16852\\3872742058.py:16: FutureWarning: Setting an item of incompatible dtype is deprecated and will raise an error in a future version of pandas. Value '42641.28' has dtype incompatible with int64, please explicitly cast to a compatible dtype first.\n",
      "  filtered_df.at[idx,'Salary'] = row['Salary'] * exchange_rates[row['Salary_Currency']]\n"
     ]
    }
   ],
   "source": [
    "converter = CurrencyRates()\n",
    "target_currency = 'USD'\n",
    "\n",
    "#deriveing real time exchange rates :\n",
    "\n",
    "non_usd_rows = filtered_df[filtered_df['Salary_Currency'] != target_currency]\n",
    "non_usd_currencies = list(non_usd_rows['Salary_Currency'].unique())\n",
    "\n",
    "exchange_rates = {}\n",
    "for curr in non_usd_currencies:\n",
    "    exchange_rates[curr] = converter.convert(curr, target_currency, 1)\n",
    "\n",
    "\n",
    "# calculating exchange rates\n",
    "for idx, row in non_usd_rows.iterrows():\n",
    "    filtered_df.at[idx,'Salary'] = row['Salary'] * exchange_rates[row['Salary_Currency']]\n",
    "\n",
    "\n"
   ]
  },
  {
   "cell_type": "code",
   "execution_count": 9,
   "id": "44771027",
   "metadata": {},
   "outputs": [
    {
     "name": "stderr",
     "output_type": "stream",
     "text": [
      "C:\\Users\\Mohasnik\\AppData\\Local\\Temp\\ipykernel_16852\\4042895991.py:2: SettingWithCopyWarning: \n",
      "A value is trying to be set on a copy of a slice from a DataFrame\n",
      "\n",
      "See the caveats in the documentation: https://pandas.pydata.org/pandas-docs/stable/user_guide/indexing.html#returning-a-view-versus-a-copy\n",
      "  filtered_df.drop(columns=['Salary_Currency'], inplace=True)\n"
     ]
    }
   ],
   "source": [
    "# Since all salaries are in USD dollar now, the Salary_Currency column is useless, dropping for less memory usage :\n",
    "filtered_df.drop(columns=['Salary_Currency'], inplace=True)"
   ]
  },
  {
   "cell_type": "code",
   "execution_count": 10,
   "id": "96c5d4fd",
   "metadata": {},
   "outputs": [
    {
     "data": {
      "text/plain": [
       "90000.0"
      ]
     },
     "execution_count": 10,
     "metadata": {},
     "output_type": "execute_result"
    }
   ],
   "source": [
    "filtered_df.at[0,'Salary']"
   ]
  },
  {
   "cell_type": "markdown",
   "id": "5f85e582",
   "metadata": {},
   "source": [
    "#### Data Expploration : "
   ]
  },
  {
   "cell_type": "markdown",
   "id": "f94eaf1c",
   "metadata": {},
   "source": [
    "1. Top 10 most popular job titles :"
   ]
  },
  {
   "cell_type": "markdown",
   "id": "8da2f443",
   "metadata": {},
   "source": [
    "First of all, let's begin with finding the top ten most popular jobs i our dataset :"
   ]
  },
  {
   "cell_type": "code",
   "execution_count": 11,
   "id": "240fe7ba",
   "metadata": {
    "scrolled": true
   },
   "outputs": [
    {
     "data": {
      "text/plain": [
       "Job_Title\n",
       "Data Engineer                1584\n",
       "Data Scientist               1548\n",
       "Data Analyst                 1141\n",
       "Machine Learning Engineer     797\n",
       "Analytics Engineer            315\n",
       "Research Scientist            265\n",
       "Data Architect                224\n",
       "Research Engineer             177\n",
       "Data Science                  140\n",
       "ML Engineer                   134\n",
       "Name: count, dtype: int64"
      ]
     },
     "execution_count": 11,
     "metadata": {},
     "output_type": "execute_result"
    }
   ],
   "source": [
    "filtered_df['Job_Title'].value_counts().head(10)"
   ]
  },
  {
   "cell_type": "markdown",
   "id": "61d04c56",
   "metadata": {},
   "source": [
    "From the above data, it is clear that some of the job titles are represented in different titles, therefore, it is imporatnt to combine them as a single job title:"
   ]
  },
  {
   "cell_type": "markdown",
   "id": "d1f53724",
   "metadata": {},
   "source": [
    "- From the above top ten job titles, some are obviously repeated. for instance :\n",
    "\n",
    "> Machine Learning Engineer = ML Engineer :"
   ]
  },
  {
   "cell_type": "code",
   "execution_count": 12,
   "id": "c69643e8",
   "metadata": {},
   "outputs": [
    {
     "name": "stderr",
     "output_type": "stream",
     "text": [
      "C:\\Users\\Mohasnik\\AppData\\Local\\Temp\\ipykernel_16852\\1285152012.py:1: FutureWarning: A value is trying to be set on a copy of a DataFrame or Series through chained assignment using an inplace method.\n",
      "The behavior will change in pandas 3.0. This inplace method will never work because the intermediate object on which we are setting values always behaves as a copy.\n",
      "\n",
      "For example, when doing 'df[col].method(value, inplace=True)', try using 'df.method({col: value}, inplace=True)' or df[col] = df[col].method(value) instead, to perform the operation inplace on the original object.\n",
      "\n",
      "\n",
      "  filtered_df['Job_Title'].replace('ML Engineer', 'Machine Learning Engineer', inplace=True)\n",
      "C:\\Users\\Mohasnik\\AppData\\Local\\Temp\\ipykernel_16852\\1285152012.py:1: SettingWithCopyWarning: \n",
      "A value is trying to be set on a copy of a slice from a DataFrame\n",
      "\n",
      "See the caveats in the documentation: https://pandas.pydata.org/pandas-docs/stable/user_guide/indexing.html#returning-a-view-versus-a-copy\n",
      "  filtered_df['Job_Title'].replace('ML Engineer', 'Machine Learning Engineer', inplace=True)\n"
     ]
    }
   ],
   "source": [
    "filtered_df['Job_Title'].replace('ML Engineer', 'Machine Learning Engineer', inplace=True)"
   ]
  },
  {
   "cell_type": "markdown",
   "id": "048a43ee",
   "metadata": {},
   "source": [
    "> BI Developer == Business Intelliogent Developer"
   ]
  },
  {
   "cell_type": "code",
   "execution_count": 13,
   "id": "82f79435",
   "metadata": {},
   "outputs": [
    {
     "name": "stderr",
     "output_type": "stream",
     "text": [
      "C:\\Users\\Mohasnik\\AppData\\Local\\Temp\\ipykernel_16852\\834053835.py:1: FutureWarning: A value is trying to be set on a copy of a DataFrame or Series through chained assignment using an inplace method.\n",
      "The behavior will change in pandas 3.0. This inplace method will never work because the intermediate object on which we are setting values always behaves as a copy.\n",
      "\n",
      "For example, when doing 'df[col].method(value, inplace=True)', try using 'df.method({col: value}, inplace=True)' or df[col] = df[col].method(value) instead, to perform the operation inplace on the original object.\n",
      "\n",
      "\n",
      "  filtered_df['Job_Title'].replace('BI Developer', 'Business Intelligence Developer', inplace=True)\n",
      "C:\\Users\\Mohasnik\\AppData\\Local\\Temp\\ipykernel_16852\\834053835.py:1: SettingWithCopyWarning: \n",
      "A value is trying to be set on a copy of a slice from a DataFrame\n",
      "\n",
      "See the caveats in the documentation: https://pandas.pydata.org/pandas-docs/stable/user_guide/indexing.html#returning-a-view-versus-a-copy\n",
      "  filtered_df['Job_Title'].replace('BI Developer', 'Business Intelligence Developer', inplace=True)\n"
     ]
    }
   ],
   "source": [
    "filtered_df['Job_Title'].replace('BI Developer', 'Business Intelligence Developer', inplace=True)"
   ]
  },
  {
   "cell_type": "markdown",
   "id": "b08d922c",
   "metadata": {},
   "source": [
    "Since finding same job titles manulaly is overwhelming, it is better to remove the jobs that are considered as minor. Threfore, in order to observe most popular jobs, we suggest a threshold of 70 :"
   ]
  },
  {
   "cell_type": "code",
   "execution_count": 14,
   "id": "7bf0743d",
   "metadata": {},
   "outputs": [
    {
     "data": {
      "text/html": [
       "<div>\n",
       "<style scoped>\n",
       "    .dataframe tbody tr th:only-of-type {\n",
       "        vertical-align: middle;\n",
       "    }\n",
       "\n",
       "    .dataframe tbody tr th {\n",
       "        vertical-align: top;\n",
       "    }\n",
       "\n",
       "    .dataframe thead th {\n",
       "        text-align: right;\n",
       "    }\n",
       "</style>\n",
       "<table border=\"1\" class=\"dataframe\">\n",
       "  <thead>\n",
       "    <tr style=\"text-align: right;\">\n",
       "      <th></th>\n",
       "      <th>Work_Year</th>\n",
       "      <th>Experience_Level</th>\n",
       "      <th>Employment_Type</th>\n",
       "      <th>Job_Title</th>\n",
       "      <th>Salary</th>\n",
       "      <th>Remote_Ratio</th>\n",
       "      <th>Company_Size</th>\n",
       "    </tr>\n",
       "  </thead>\n",
       "  <tbody>\n",
       "    <tr>\n",
       "      <th>0</th>\n",
       "      <td>2024</td>\n",
       "      <td>Senior-Level</td>\n",
       "      <td>Full-Time</td>\n",
       "      <td>AI Engineer</td>\n",
       "      <td>90000.000000</td>\n",
       "      <td>0</td>\n",
       "      <td>Large</td>\n",
       "    </tr>\n",
       "    <tr>\n",
       "      <th>1</th>\n",
       "      <td>2024</td>\n",
       "      <td>Senior-Level</td>\n",
       "      <td>Full-Time</td>\n",
       "      <td>Machine Learning Engineer</td>\n",
       "      <td>180500.000000</td>\n",
       "      <td>0</td>\n",
       "      <td>Medium</td>\n",
       "    </tr>\n",
       "    <tr>\n",
       "      <th>2</th>\n",
       "      <td>2024</td>\n",
       "      <td>Senior-Level</td>\n",
       "      <td>Full-Time</td>\n",
       "      <td>Machine Learning Engineer</td>\n",
       "      <td>96200.000000</td>\n",
       "      <td>0</td>\n",
       "      <td>Medium</td>\n",
       "    </tr>\n",
       "    <tr>\n",
       "      <th>3</th>\n",
       "      <td>2024</td>\n",
       "      <td>Senior-Level</td>\n",
       "      <td>Full-Time</td>\n",
       "      <td>Machine Learning Engineer</td>\n",
       "      <td>235000.000000</td>\n",
       "      <td>0</td>\n",
       "      <td>Medium</td>\n",
       "    </tr>\n",
       "    <tr>\n",
       "      <th>4</th>\n",
       "      <td>2024</td>\n",
       "      <td>Senior-Level</td>\n",
       "      <td>Full-Time</td>\n",
       "      <td>Machine Learning Engineer</td>\n",
       "      <td>175000.000000</td>\n",
       "      <td>0</td>\n",
       "      <td>Medium</td>\n",
       "    </tr>\n",
       "    <tr>\n",
       "      <th>...</th>\n",
       "      <td>...</td>\n",
       "      <td>...</td>\n",
       "      <td>...</td>\n",
       "      <td>...</td>\n",
       "      <td>...</td>\n",
       "      <td>...</td>\n",
       "      <td>...</td>\n",
       "    </tr>\n",
       "    <tr>\n",
       "      <th>13961</th>\n",
       "      <td>2020</td>\n",
       "      <td>Senior-Level</td>\n",
       "      <td>Full-Time</td>\n",
       "      <td>Machine Learning Engineer</td>\n",
       "      <td>43072.000000</td>\n",
       "      <td>100</td>\n",
       "      <td>S</td>\n",
       "    </tr>\n",
       "    <tr>\n",
       "      <th>13965</th>\n",
       "      <td>2021</td>\n",
       "      <td>Mid-Level</td>\n",
       "      <td>Full-Time</td>\n",
       "      <td>Data Engineer</td>\n",
       "      <td>25843.200000</td>\n",
       "      <td>50</td>\n",
       "      <td>Large</td>\n",
       "    </tr>\n",
       "    <tr>\n",
       "      <th>13967</th>\n",
       "      <td>2020</td>\n",
       "      <td>Senior-Level</td>\n",
       "      <td>Full-Time</td>\n",
       "      <td>Data Scientist</td>\n",
       "      <td>412000.000000</td>\n",
       "      <td>100</td>\n",
       "      <td>Large</td>\n",
       "    </tr>\n",
       "    <tr>\n",
       "      <th>13969</th>\n",
       "      <td>2020</td>\n",
       "      <td>Entry-Level</td>\n",
       "      <td>Full-Time</td>\n",
       "      <td>Data Scientist</td>\n",
       "      <td>105000.000000</td>\n",
       "      <td>100</td>\n",
       "      <td>S</td>\n",
       "    </tr>\n",
       "    <tr>\n",
       "      <th>13971</th>\n",
       "      <td>2021</td>\n",
       "      <td>Senior-Level</td>\n",
       "      <td>Full-Time</td>\n",
       "      <td>Data Science Manager</td>\n",
       "      <td>84330.650079</td>\n",
       "      <td>50</td>\n",
       "      <td>Large</td>\n",
       "    </tr>\n",
       "  </tbody>\n",
       "</table>\n",
       "<p>7183 rows × 7 columns</p>\n",
       "</div>"
      ],
      "text/plain": [
       "       Work_Year Experience_Level Employment_Type                  Job_Title  \\\n",
       "0           2024     Senior-Level       Full-Time                AI Engineer   \n",
       "1           2024     Senior-Level       Full-Time  Machine Learning Engineer   \n",
       "2           2024     Senior-Level       Full-Time  Machine Learning Engineer   \n",
       "3           2024     Senior-Level       Full-Time  Machine Learning Engineer   \n",
       "4           2024     Senior-Level       Full-Time  Machine Learning Engineer   \n",
       "...          ...              ...             ...                        ...   \n",
       "13961       2020     Senior-Level       Full-Time  Machine Learning Engineer   \n",
       "13965       2021        Mid-Level       Full-Time              Data Engineer   \n",
       "13967       2020     Senior-Level       Full-Time             Data Scientist   \n",
       "13969       2020      Entry-Level       Full-Time             Data Scientist   \n",
       "13971       2021     Senior-Level       Full-Time       Data Science Manager   \n",
       "\n",
       "              Salary  Remote_Ratio Company_Size  \n",
       "0       90000.000000             0        Large  \n",
       "1      180500.000000             0       Medium  \n",
       "2       96200.000000             0       Medium  \n",
       "3      235000.000000             0       Medium  \n",
       "4      175000.000000             0       Medium  \n",
       "...              ...           ...          ...  \n",
       "13961   43072.000000           100            S  \n",
       "13965   25843.200000            50        Large  \n",
       "13967  412000.000000           100        Large  \n",
       "13969  105000.000000           100            S  \n",
       "13971   84330.650079            50        Large  \n",
       "\n",
       "[7183 rows x 7 columns]"
      ]
     },
     "execution_count": 14,
     "metadata": {},
     "output_type": "execute_result"
    }
   ],
   "source": [
    "job_count_threshold = 70\n",
    "\n",
    "counts = filtered_df['Job_Title'].value_counts()\n",
    "\n",
    "\n",
    "df_filter_job = filtered_df[filtered_df['Job_Title'].isin(counts[counts > job_count_threshold].index)]\n",
    "df_filter_job"
   ]
  },
  {
   "cell_type": "code",
   "execution_count": 15,
   "id": "fa44194b",
   "metadata": {},
   "outputs": [
    {
     "name": "stdout",
     "output_type": "stream",
     "text": [
      "median : 7.0\n",
      "mean : 58.46153846153846\n"
     ]
    }
   ],
   "source": [
    "mean_counts = np.mean(filtered_df['Job_Title'].value_counts().values)\n",
    "med_counts = np.median(filtered_df['Job_Title'].value_counts().values)\n",
    "\n",
    "print(f\"median : {med_counts}\\nmean : {mean_counts}\")"
   ]
  },
  {
   "cell_type": "markdown",
   "id": "533e850d",
   "metadata": {},
   "source": [
    "Therefore, the most popular job titles are :"
   ]
  },
  {
   "cell_type": "code",
   "execution_count": 16,
   "id": "d27ddafe",
   "metadata": {},
   "outputs": [
    {
     "name": "stdout",
     "output_type": "stream",
     "text": [
      "- Most Popular Job Titles : \n",
      "\n"
     ]
    },
    {
     "data": {
      "text/plain": [
       "<Axes: ylabel='Job_Title'>"
      ]
     },
     "execution_count": 16,
     "metadata": {},
     "output_type": "execute_result"
    },
    {
     "data": {
      "image/png": "[encoded data removed]",
      "text/plain": [
       "<Figure size 640x480 with 1 Axes>"
      ]
     },
     "metadata": {},
     "output_type": "display_data"
    }
   ],
   "source": [
    "print(\"- Most Popular Job Titles : \\n\")\n",
    "\n",
    "top_values = df_filter_job['Job_Title'].value_counts().head(10)\n",
    "\n",
    "\n",
    "sns.barplot(y=top_values.keys(), x = top_values.values)"
   ]
  },
  {
   "cell_type": "markdown",
   "id": "95dffdb3",
   "metadata": {},
   "source": [
    "2. Top 10 highest Salaries :"
   ]
  },
  {
   "cell_type": "markdown",
   "id": "9d83d2f7",
   "metadata": {},
   "source": [
    "Let's find the top ten highest paid people :"
   ]
  },
  {
   "cell_type": "code",
   "execution_count": 20,
   "id": "fc1c0667",
   "metadata": {},
   "outputs": [
    {
     "data": {
      "text/plain": [
       "1085    774000.0\n",
       "1884    750000.0\n",
       "2060    750000.0\n",
       "2471    750000.0\n",
       "3844    750000.0\n",
       "3850    750000.0\n",
       "4828    750000.0\n",
       "4936    750000.0\n",
       "1093    720000.0\n",
       "1568    720000.0\n",
       "Name: Salary, dtype: float64"
      ]
     },
     "execution_count": 20,
     "metadata": {},
     "output_type": "execute_result"
    }
   ],
   "source": [
    "df_filter_job['Salary'].nlargest(10)"
   ]
  },
  {
   "cell_type": "code",
   "execution_count": 22,
   "id": "b6f921b3",
   "metadata": {},
   "outputs": [
    {
     "data": {
      "text/html": [
       "<div>\n",
       "<style scoped>\n",
       "    .dataframe tbody tr th:only-of-type {\n",
       "        vertical-align: middle;\n",
       "    }\n",
       "\n",
       "    .dataframe tbody tr th {\n",
       "        vertical-align: top;\n",
       "    }\n",
       "\n",
       "    .dataframe thead th {\n",
       "        text-align: right;\n",
       "    }\n",
       "</style>\n",
       "<table border=\"1\" class=\"dataframe\">\n",
       "  <thead>\n",
       "    <tr style=\"text-align: right;\">\n",
       "      <th></th>\n",
       "      <th>Work_Year</th>\n",
       "      <th>Experience_Level</th>\n",
       "      <th>Employment_Type</th>\n",
       "      <th>Job_Title</th>\n",
       "      <th>Salary</th>\n",
       "      <th>Remote_Ratio</th>\n",
       "      <th>Company_Size</th>\n",
       "    </tr>\n",
       "  </thead>\n",
       "  <tbody>\n",
       "    <tr>\n",
       "      <th>1085</th>\n",
       "      <td>2024</td>\n",
       "      <td>Entry-Level</td>\n",
       "      <td>Full-Time</td>\n",
       "      <td>Data Analyst</td>\n",
       "      <td>774000.0</td>\n",
       "      <td>0</td>\n",
       "      <td>Medium</td>\n",
       "    </tr>\n",
       "    <tr>\n",
       "      <th>4936</th>\n",
       "      <td>2023</td>\n",
       "      <td>Senior-Level</td>\n",
       "      <td>Full-Time</td>\n",
       "      <td>Data Scientist</td>\n",
       "      <td>750000.0</td>\n",
       "      <td>0</td>\n",
       "      <td>Medium</td>\n",
       "    </tr>\n",
       "    <tr>\n",
       "      <th>3850</th>\n",
       "      <td>2023</td>\n",
       "      <td>Mid-Level</td>\n",
       "      <td>Full-Time</td>\n",
       "      <td>Machine Learning Engineer</td>\n",
       "      <td>750000.0</td>\n",
       "      <td>0</td>\n",
       "      <td>Medium</td>\n",
       "    </tr>\n",
       "    <tr>\n",
       "      <th>1884</th>\n",
       "      <td>2024</td>\n",
       "      <td>Senior-Level</td>\n",
       "      <td>Full-Time</td>\n",
       "      <td>Analytics Engineer</td>\n",
       "      <td>750000.0</td>\n",
       "      <td>0</td>\n",
       "      <td>Medium</td>\n",
       "    </tr>\n",
       "    <tr>\n",
       "      <th>3844</th>\n",
       "      <td>2023</td>\n",
       "      <td>Mid-Level</td>\n",
       "      <td>Full-Time</td>\n",
       "      <td>Machine Learning Scientist</td>\n",
       "      <td>750000.0</td>\n",
       "      <td>0</td>\n",
       "      <td>Medium</td>\n",
       "    </tr>\n",
       "    <tr>\n",
       "      <th>2060</th>\n",
       "      <td>2024</td>\n",
       "      <td>Mid-Level</td>\n",
       "      <td>Full-Time</td>\n",
       "      <td>Machine Learning Scientist</td>\n",
       "      <td>750000.0</td>\n",
       "      <td>0</td>\n",
       "      <td>Medium</td>\n",
       "    </tr>\n",
       "    <tr>\n",
       "      <th>2471</th>\n",
       "      <td>2024</td>\n",
       "      <td>Senior-Level</td>\n",
       "      <td>Full-Time</td>\n",
       "      <td>Data Analyst</td>\n",
       "      <td>750000.0</td>\n",
       "      <td>0</td>\n",
       "      <td>Medium</td>\n",
       "    </tr>\n",
       "    <tr>\n",
       "      <th>4828</th>\n",
       "      <td>2023</td>\n",
       "      <td>Mid-Level</td>\n",
       "      <td>Full-Time</td>\n",
       "      <td>Data Engineer</td>\n",
       "      <td>750000.0</td>\n",
       "      <td>0</td>\n",
       "      <td>Medium</td>\n",
       "    </tr>\n",
       "    <tr>\n",
       "      <th>1093</th>\n",
       "      <td>2024</td>\n",
       "      <td>Mid-Level</td>\n",
       "      <td>Full-Time</td>\n",
       "      <td>Analytics Engineer</td>\n",
       "      <td>720000.0</td>\n",
       "      <td>0</td>\n",
       "      <td>Medium</td>\n",
       "    </tr>\n",
       "    <tr>\n",
       "      <th>3286</th>\n",
       "      <td>2024</td>\n",
       "      <td>Mid-Level</td>\n",
       "      <td>Full-Time</td>\n",
       "      <td>Research Scientist</td>\n",
       "      <td>720000.0</td>\n",
       "      <td>0</td>\n",
       "      <td>Medium</td>\n",
       "    </tr>\n",
       "  </tbody>\n",
       "</table>\n",
       "</div>"
      ],
      "text/plain": [
       "      Work_Year Experience_Level Employment_Type                   Job_Title  \\\n",
       "1085       2024      Entry-Level       Full-Time                Data Analyst   \n",
       "4936       2023     Senior-Level       Full-Time              Data Scientist   \n",
       "3850       2023        Mid-Level       Full-Time   Machine Learning Engineer   \n",
       "1884       2024     Senior-Level       Full-Time          Analytics Engineer   \n",
       "3844       2023        Mid-Level       Full-Time  Machine Learning Scientist   \n",
       "2060       2024        Mid-Level       Full-Time  Machine Learning Scientist   \n",
       "2471       2024     Senior-Level       Full-Time                Data Analyst   \n",
       "4828       2023        Mid-Level       Full-Time               Data Engineer   \n",
       "1093       2024        Mid-Level       Full-Time          Analytics Engineer   \n",
       "3286       2024        Mid-Level       Full-Time          Research Scientist   \n",
       "\n",
       "        Salary  Remote_Ratio Company_Size  \n",
       "1085  774000.0             0       Medium  \n",
       "4936  750000.0             0       Medium  \n",
       "3850  750000.0             0       Medium  \n",
       "1884  750000.0             0       Medium  \n",
       "3844  750000.0             0       Medium  \n",
       "2060  750000.0             0       Medium  \n",
       "2471  750000.0             0       Medium  \n",
       "4828  750000.0             0       Medium  \n",
       "1093  720000.0             0       Medium  \n",
       "3286  720000.0             0       Medium  "
      ]
     },
     "execution_count": 22,
     "metadata": {},
     "output_type": "execute_result"
    }
   ],
   "source": [
    "df_filter_job.sort_values(by = 'Salary', ascending=False).head(10)\n"
   ]
  },
  {
   "cell_type": "code",
   "execution_count": null,
   "id": "c26bc2c6",
   "metadata": {},
   "outputs": [],
   "source": [
    "sns.scatterplot(data=df_filter_job, y='Salary', x=)"
   ]
  },
  {
   "cell_type": "code",
   "execution_count": 50,
   "id": "76ac902d",
   "metadata": {
    "scrolled": false
   },
   "outputs": [
    {
     "data": {
      "text/html": [
       "<div>\n",
       "<style scoped>\n",
       "    .dataframe tbody tr th:only-of-type {\n",
       "        vertical-align: middle;\n",
       "    }\n",
       "\n",
       "    .dataframe tbody tr th {\n",
       "        vertical-align: top;\n",
       "    }\n",
       "\n",
       "    .dataframe thead th {\n",
       "        text-align: right;\n",
       "    }\n",
       "</style>\n",
       "<table border=\"1\" class=\"dataframe\">\n",
       "  <thead>\n",
       "    <tr style=\"text-align: right;\">\n",
       "      <th></th>\n",
       "      <th>Work_Year</th>\n",
       "      <th>Experience_Level</th>\n",
       "      <th>Employment_Type</th>\n",
       "      <th>Job_Title</th>\n",
       "      <th>Salary</th>\n",
       "      <th>Salary_Currency</th>\n",
       "      <th>Remote_Ratio</th>\n",
       "      <th>Company_Size</th>\n",
       "    </tr>\n",
       "  </thead>\n",
       "  <tbody>\n",
       "    <tr>\n",
       "      <th>242</th>\n",
       "      <td>2024</td>\n",
       "      <td>Mid-Level</td>\n",
       "      <td>Full-Time</td>\n",
       "      <td>AI Architect</td>\n",
       "      <td>800000.0</td>\n",
       "      <td>USD</td>\n",
       "      <td>100</td>\n",
       "      <td>Medium</td>\n",
       "    </tr>\n",
       "    <tr>\n",
       "      <th>1085</th>\n",
       "      <td>2024</td>\n",
       "      <td>Entry-Level</td>\n",
       "      <td>Full-Time</td>\n",
       "      <td>Data Analyst</td>\n",
       "      <td>774000.0</td>\n",
       "      <td>USD</td>\n",
       "      <td>0</td>\n",
       "      <td>Medium</td>\n",
       "    </tr>\n",
       "    <tr>\n",
       "      <th>2471</th>\n",
       "      <td>2024</td>\n",
       "      <td>Senior-Level</td>\n",
       "      <td>Full-Time</td>\n",
       "      <td>Data Analyst</td>\n",
       "      <td>750000.0</td>\n",
       "      <td>USD</td>\n",
       "      <td>0</td>\n",
       "      <td>Medium</td>\n",
       "    </tr>\n",
       "    <tr>\n",
       "      <th>1884</th>\n",
       "      <td>2024</td>\n",
       "      <td>Senior-Level</td>\n",
       "      <td>Full-Time</td>\n",
       "      <td>Analytics Engineer</td>\n",
       "      <td>750000.0</td>\n",
       "      <td>USD</td>\n",
       "      <td>0</td>\n",
       "      <td>Medium</td>\n",
       "    </tr>\n",
       "    <tr>\n",
       "      <th>4936</th>\n",
       "      <td>2023</td>\n",
       "      <td>Senior-Level</td>\n",
       "      <td>Full-Time</td>\n",
       "      <td>Data Scientist</td>\n",
       "      <td>750000.0</td>\n",
       "      <td>USD</td>\n",
       "      <td>0</td>\n",
       "      <td>Medium</td>\n",
       "    </tr>\n",
       "    <tr>\n",
       "      <th>3844</th>\n",
       "      <td>2023</td>\n",
       "      <td>Mid-Level</td>\n",
       "      <td>Full-Time</td>\n",
       "      <td>Machine Learning Scientist</td>\n",
       "      <td>750000.0</td>\n",
       "      <td>USD</td>\n",
       "      <td>0</td>\n",
       "      <td>Medium</td>\n",
       "    </tr>\n",
       "    <tr>\n",
       "      <th>3850</th>\n",
       "      <td>2023</td>\n",
       "      <td>Mid-Level</td>\n",
       "      <td>Full-Time</td>\n",
       "      <td>Machine Learning Engineer</td>\n",
       "      <td>750000.0</td>\n",
       "      <td>USD</td>\n",
       "      <td>0</td>\n",
       "      <td>Medium</td>\n",
       "    </tr>\n",
       "    <tr>\n",
       "      <th>2060</th>\n",
       "      <td>2024</td>\n",
       "      <td>Mid-Level</td>\n",
       "      <td>Full-Time</td>\n",
       "      <td>Machine Learning Scientist</td>\n",
       "      <td>750000.0</td>\n",
       "      <td>USD</td>\n",
       "      <td>0</td>\n",
       "      <td>Medium</td>\n",
       "    </tr>\n",
       "    <tr>\n",
       "      <th>4828</th>\n",
       "      <td>2023</td>\n",
       "      <td>Mid-Level</td>\n",
       "      <td>Full-Time</td>\n",
       "      <td>Data Engineer</td>\n",
       "      <td>750000.0</td>\n",
       "      <td>USD</td>\n",
       "      <td>0</td>\n",
       "      <td>Medium</td>\n",
       "    </tr>\n",
       "    <tr>\n",
       "      <th>3276</th>\n",
       "      <td>2024</td>\n",
       "      <td>Mid-Level</td>\n",
       "      <td>Full-Time</td>\n",
       "      <td>Research Engineer</td>\n",
       "      <td>720000.0</td>\n",
       "      <td>USD</td>\n",
       "      <td>0</td>\n",
       "      <td>Medium</td>\n",
       "    </tr>\n",
       "  </tbody>\n",
       "</table>\n",
       "</div>"
      ],
      "text/plain": [
       "      Work_Year Experience_Level Employment_Type                   Job_Title  \\\n",
       "242        2024        Mid-Level       Full-Time                AI Architect   \n",
       "1085       2024      Entry-Level       Full-Time                Data Analyst   \n",
       "2471       2024     Senior-Level       Full-Time                Data Analyst   \n",
       "1884       2024     Senior-Level       Full-Time          Analytics Engineer   \n",
       "4936       2023     Senior-Level       Full-Time              Data Scientist   \n",
       "3844       2023        Mid-Level       Full-Time  Machine Learning Scientist   \n",
       "3850       2023        Mid-Level       Full-Time   Machine Learning Engineer   \n",
       "2060       2024        Mid-Level       Full-Time  Machine Learning Scientist   \n",
       "4828       2023        Mid-Level       Full-Time               Data Engineer   \n",
       "3276       2024        Mid-Level       Full-Time           Research Engineer   \n",
       "\n",
       "        Salary Salary_Currency  Remote_Ratio Company_Size  \n",
       "242   800000.0             USD           100       Medium  \n",
       "1085  774000.0             USD             0       Medium  \n",
       "2471  750000.0             USD             0       Medium  \n",
       "1884  750000.0             USD             0       Medium  \n",
       "4936  750000.0             USD             0       Medium  \n",
       "3844  750000.0             USD             0       Medium  \n",
       "3850  750000.0             USD             0       Medium  \n",
       "2060  750000.0             USD             0       Medium  \n",
       "4828  750000.0             USD             0       Medium  \n",
       "3276  720000.0             USD             0       Medium  "
      ]
     },
     "execution_count": 50,
     "metadata": {},
     "output_type": "execute_result"
    }
   ],
   "source": [
    "# 10 most salaries :\n",
    "filtered_df.sort_values(by=['Salary'],ascending=False).head(10)"
   ]
  },
  {
   "cell_type": "code",
   "execution_count": 57,
   "id": "704e8f7b",
   "metadata": {},
   "outputs": [
    {
     "data": {
      "text/plain": [
       "<BarContainer object of 4 artists>"
      ]
     },
     "execution_count": 57,
     "metadata": {},
     "output_type": "execute_result"
    },
    {
     "data": {
      "image/png": "[encoded data removed]",
      "text/plain": [
       "<Figure size 640x480 with 1 Axes>"
      ]
     },
     "metadata": {},
     "output_type": "display_data"
    }
   ],
   "source": [
    "# level counts :\n",
    "level_counts = filtered_df['Experience_Level'].value_counts()\n",
    "levels = ['Senior-Level', 'Mid-Level', 'Entry-Level', 'Executive-Level']\n",
    "import matplotlib.pyplot as plt\n",
    "plt.bar(levels, level_counts)"
   ]
  },
  {
   "cell_type": "markdown",
   "id": "79e6bd65",
   "metadata": {},
   "source": [
    "**In general, the most required position is senior**"
   ]
  },
  {
   "cell_type": "code",
   "execution_count": 58,
   "id": "34488c27",
   "metadata": {},
   "outputs": [
    {
     "data": {
      "text/plain": [
       "<BarContainer object of 5 artists>"
      ]
     },
     "execution_count": 58,
     "metadata": {},
     "output_type": "execute_result"
    },
    {
     "data": {
      "image/png": "[encoded data removed]",
      "text/plain": [
       "<Figure size 640x480 with 1 Axes>"
      ]
     },
     "metadata": {},
     "output_type": "display_data"
    }
   ],
   "source": [
    "# job offer counts over the years :\n",
    "year_counts = filtered_df['Work_Year'].value_counts()\n",
    "years = ['2024', '2023', '2022', '2021', '2020']\n",
    "import matplotlib.pyplot as plt\n",
    "plt.bar(years, year_counts)"
   ]
  },
  {
   "cell_type": "markdown",
   "id": "d5ba524d",
   "metadata": {},
   "source": [
    "**Over time, companies' need for these people has increased and job positions have increased**"
   ]
  },
  {
   "cell_type": "code",
   "execution_count": 61,
   "id": "b7614473",
   "metadata": {},
   "outputs": [
    {
     "data": {
      "text/plain": [
       "(array([4.850e+02, 1.437e+03, 1.934e+03, 1.859e+03, 1.317e+03, 7.230e+02,\n",
       "        3.200e+02, 1.540e+02, 5.400e+01, 3.600e+01, 1.500e+01, 5.000e+00,\n",
       "        1.000e+00, 1.000e+00, 3.000e+00, 0.000e+00, 0.000e+00, 7.000e+00,\n",
       "        7.000e+00, 2.000e+00]),\n",
       " array([ 14400.,  53680.,  92960., 132240., 171520., 210800., 250080.,\n",
       "        289360., 328640., 367920., 407200., 446480., 485760., 525040.,\n",
       "        564320., 603600., 642880., 682160., 721440., 760720., 800000.]),\n",
       " <BarContainer object of 20 artists>)"
      ]
     },
     "execution_count": 61,
     "metadata": {},
     "output_type": "execute_result"
    },
    {
     "data": {
      "image/png": "[encoded data removed]",
      "text/plain": [
       "<Figure size 640x480 with 1 Axes>"
      ]
     },
     "metadata": {},
     "output_type": "display_data"
    }
   ],
   "source": [
    "# salary disturbution :\n",
    "salary = filtered_df['Salary']\n",
    "plt.hist(salary, bins = 20)"
   ]
  },
  {
   "cell_type": "code",
   "execution_count": 63,
   "id": "e086551e",
   "metadata": {
    "scrolled": false
   },
   "outputs": [
    {
     "name": "stdout",
     "output_type": "stream",
     "text": [
      "Medium    7610\n",
      "Large      585\n",
      "S          165\n",
      "Name: Company_Size, dtype: int64\n"
     ]
    },
    {
     "data": {
      "text/plain": [
       "<BarContainer object of 3 artists>"
      ]
     },
     "execution_count": 63,
     "metadata": {},
     "output_type": "execute_result"
    },
    {
     "data": {
      "image/png": "[encoded data removed]",
      "text/plain": [
       "<Figure size 640x480 with 1 Axes>"
      ]
     },
     "metadata": {},
     "output_type": "display_data"
    }
   ],
   "source": [
    "# Company sizes disturbution :\n",
    "\n",
    "size_counts = filtered_df['Company_Size'].value_counts()\n",
    "print(year_counts)\n",
    "sizes = ['Medium','Large','Small']\n",
    "import matplotlib.pyplot as plt\n",
    "plt.bar(sizes, size_counts)"
   ]
  },
  {
   "cell_type": "markdown",
   "id": "470a2686",
   "metadata": {},
   "source": [
    "**Most of the companies are of medium size**"
   ]
  },
  {
   "cell_type": "code",
   "execution_count": 65,
   "id": "eb627da7",
   "metadata": {
    "scrolled": false
   },
   "outputs": [
    {
     "name": "stdout",
     "output_type": "stream",
     "text": [
      "0      5157\n",
      "100    2987\n",
      "50      216\n",
      "Name: Remote_Ratio, dtype: int64\n"
     ]
    },
    {
     "data": {
      "text/plain": [
       "<BarContainer object of 3 artists>"
      ]
     },
     "execution_count": 65,
     "metadata": {},
     "output_type": "execute_result"
    },
    {
     "data": {
      "image/png": "[encoded data removed]",
      "text/plain": [
       "<Figure size 640x480 with 1 Axes>"
      ]
     },
     "metadata": {},
     "output_type": "display_data"
    }
   ],
   "source": [
    "# Remote Condition :\n",
    "ratio_counts = filtered_df['Remote_Ratio'].value_counts()\n",
    "print(remote_counts)\n",
    "ratio = ['0','100','50']\n",
    "import matplotlib.pyplot as plt\n",
    "plt.bar(ratio, ratio_counts)"
   ]
  },
  {
   "cell_type": "code",
   "execution_count": 117,
   "id": "f6b8bad9",
   "metadata": {},
   "outputs": [
    {
     "name": "stdout",
     "output_type": "stream",
     "text": [
      "                  Salary\n",
      "Work_Year               \n",
      "2020       104690.731127\n",
      "2021       100630.132297\n",
      "2022       133146.940661\n",
      "2023       151191.721001\n",
      "2024       151577.642301\n"
     ]
    }
   ],
   "source": [
    "pivot_table2 = filtered_df.pivot_table(index=['Work_Year'], values=['Salary'],\n",
    "                             aggfunc={'Salary': 'mean'})\n",
    "\n",
    "print(pivot_table2)"
   ]
  },
  {
   "cell_type": "markdown",
   "id": "5d3f4a75",
   "metadata": {},
   "source": [
    "**As shown in the pivot table above, the average payment has increased over the years**"
   ]
  },
  {
   "cell_type": "code",
   "execution_count": 125,
   "id": "88b53c94",
   "metadata": {},
   "outputs": [
    {
     "name": "stdout",
     "output_type": "stream",
     "text": [
      "                                   Salary\n",
      "Work_Year Experience_Level               \n",
      "2020      Entry-Level        71679.368421\n",
      "          Executive-Level   179075.000000\n",
      "          Mid-Level          92708.130333\n",
      "          Senior-Level      142977.222222\n",
      "2021      Entry-Level        63323.581395\n",
      "          Executive-Level   182271.000000\n",
      "          Mid-Level          86376.341579\n",
      "          Senior-Level      126261.106356\n",
      "2022      Entry-Level        74054.056364\n",
      "          Executive-Level   183256.282051\n",
      "          Mid-Level         103602.646494\n",
      "          Senior-Level      150650.521471\n",
      "2023      Entry-Level        91040.066915\n",
      "          Executive-Level   191929.723497\n",
      "          Mid-Level         124925.854976\n",
      "          Senior-Level      165322.198428\n",
      "2024      Entry-Level        99088.369654\n",
      "          Executive-Level   201648.034483\n",
      "          Mid-Level         135076.806353\n",
      "          Senior-Level      169500.618954\n"
     ]
    }
   ],
   "source": [
    "pivot_table2 = filtered_df.pivot_table(index=['Work_Year','Experience_Level'], values=['Salary'],\n",
    "                             aggfunc='mean')\n",
    "\n",
    "print(pivot_table2)"
   ]
  },
  {
   "cell_type": "markdown",
   "id": "069278d9",
   "metadata": {},
   "source": [
    "**The above table shows the average salary of different levels during different years. On average, the salary comparison is as follows:**\n",
    "\n",
    "> Executive-Level > Senior-Level > Mid-Level > Entry-Level"
   ]
  }
 ],
 "metadata": {
  "kernelspec": {
   "display_name": "Python 3 (ipykernel)",
   "language": "python",
   "name": "python3"
  },
  "language_info": {
   "codemirror_mode": {
    "name": "ipython",
    "version": 3
   },
   "file_extension": ".py",
   "mimetype": "text/x-python",
   "name": "python",
   "nbconvert_exporter": "python",
   "pygments_lexer": "ipython3",
   "version": "3.12.2"
  }
 },
 "nbformat": 4,
 "nbformat_minor": 5
}
