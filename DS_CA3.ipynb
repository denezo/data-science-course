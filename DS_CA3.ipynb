{
 "cells": [
  {
   "cell_type": "code",
   "execution_count": 1,
   "id": "f5c1cbc9",
   "metadata": {},
   "outputs": [],
   "source": [
    "import pyspark"
   ]
  },
  {
   "cell_type": "code",
   "execution_count": 2,
   "id": "726160c1",
   "metadata": {},
   "outputs": [],
   "source": [
    "from pyspark.sql import SparkSession as sess"
   ]
  },
  {
   "cell_type": "code",
   "execution_count": 3,
   "id": "84270691",
   "metadata": {},
   "outputs": [
    {
     "data": {
      "text/html": [
       "<style>pre { white-space: pre !important; }</style>"
      ],
      "text/plain": [
       "<IPython.core.display.HTML object>"
      ]
     },
     "metadata": {},
     "output_type": "display_data"
    }
   ],
   "source": [
    "from IPython.display import display, HTML\n",
    "display(HTML('<style>pre { white-space: pre !important; }</style>'))"
   ]
  },
  {
   "cell_type": "code",
   "execution_count": 4,
   "id": "4637af76",
   "metadata": {},
   "outputs": [],
   "source": [
    "spark = sess.builder.appName('Dataframe').getOrCreate()"
   ]
  },
  {
   "cell_type": "code",
   "execution_count": 5,
   "id": "41225430",
   "metadata": {},
   "outputs": [
    {
     "data": {
      "text/html": [
       "\n",
       "            <div>\n",
       "                <p><b>SparkSession - in-memory</b></p>\n",
       "                \n",
       "        <div>\n",
       "            <p><b>SparkContext</b></p>\n",
       "\n",
       "            <p><a href=\"http://DESKTOP-ICMKJ16:4040\">Spark UI</a></p>\n",
       "\n",
       "            <dl>\n",
       "              <dt>Version</dt>\n",
       "                <dd><code>v3.5.1</code></dd>\n",
       "              <dt>Master</dt>\n",
       "                <dd><code>local[*]</code></dd>\n",
       "              <dt>AppName</dt>\n",
       "                <dd><code>Dataframe</code></dd>\n",
       "            </dl>\n",
       "        </div>\n",
       "        \n",
       "            </div>\n",
       "        "
      ],
      "text/plain": [
       "<pyspark.sql.session.SparkSession at 0x23e82dbf3a0>"
      ]
     },
     "execution_count": 5,
     "metadata": {},
     "output_type": "execute_result"
    }
   ],
   "source": [
    "spark"
   ]
  },
  {
   "cell_type": "code",
   "execution_count": 6,
   "id": "98c671f9",
   "metadata": {},
   "outputs": [
    {
     "name": "stdout",
     "output_type": "stream",
     "text": [
      "+----------+------------------+------------------+------------------+------------------+---------+------------------+\n",
      "|      Date|              Open|              High|               Low|             Close|   Volume|         Adj Close|\n",
      "+----------+------------------+------------------+------------------+------------------+---------+------------------+\n",
      "|2010-01-04|        213.429998|        214.499996|212.38000099999996|        214.009998|123432400|         27.727039|\n",
      "|2010-01-05|        214.599998|        215.589994|        213.249994|        214.379993|150476200|27.774976000000002|\n",
      "|2010-01-06|        214.379993|            215.23|        210.750004|        210.969995|138040000|27.333178000000004|\n",
      "|2010-01-07|            211.75|        212.000006|        209.050005|            210.58|119282800|          27.28265|\n",
      "|2010-01-08|        210.299994|        212.000006|209.06000500000002|211.98000499999998|111902700|         27.464034|\n",
      "|2010-01-11|212.79999700000002|        213.000002|        208.450005|210.11000299999998|115557400|         27.221758|\n",
      "|2010-01-12|209.18999499999998|209.76999500000002|        206.419998|        207.720001|148614900|          26.91211|\n",
      "|2010-01-13|        207.870005|210.92999500000002|        204.099998|        210.650002|151473000|          27.29172|\n",
      "|2010-01-14|210.11000299999998|210.45999700000002|        209.020004|            209.43|108223500|         27.133657|\n",
      "|2010-01-15|210.92999500000002|211.59999700000003|        205.869999|            205.93|148516900|26.680197999999997|\n",
      "|2010-01-19|        208.330002|215.18999900000003|        207.240004|        215.039995|182501900|27.860484999999997|\n",
      "|2010-01-20|        214.910006|        215.549994|        209.500002|            211.73|153038200|         27.431644|\n",
      "|2010-01-21|        212.079994|213.30999599999998|        207.210003|        208.069996|152038600|         26.957455|\n",
      "|2010-01-22|206.78000600000001|        207.499996|            197.16|            197.75|220441900|         25.620401|\n",
      "|2010-01-25|202.51000200000001|        204.699999|        200.190002|        203.070002|266424900|26.309658000000002|\n",
      "|2010-01-26|205.95000100000001|        213.710005|        202.580004|        205.940001|466777500|         26.681494|\n",
      "|2010-01-27|        206.849995|            210.58|        199.530001|        207.880005|430642100|26.932840000000002|\n",
      "|2010-01-28|        204.930004|        205.500004|        198.699995|        199.289995|293375600|25.819922000000002|\n",
      "|2010-01-29|        201.079996|        202.199995|        190.250002|        192.060003|311488100|         24.883208|\n",
      "|2010-02-01|192.36999699999998|             196.0|191.29999899999999|        194.729998|187469100|         25.229131|\n",
      "+----------+------------------+------------------+------------------+------------------+---------+------------------+\n",
      "only showing top 20 rows\n",
      "\n"
     ]
    }
   ],
   "source": [
    "spark.read.option('header', 'true').csv('stocks.csv').show()"
   ]
  },
  {
   "cell_type": "code",
   "execution_count": 7,
   "id": "2fa52081",
   "metadata": {},
   "outputs": [],
   "source": [
    "df = spark.read.option('header', 'true').csv('stocks.csv', inferSchema = True)"
   ]
  },
  {
   "cell_type": "code",
   "execution_count": 8,
   "id": "182ddee0",
   "metadata": {},
   "outputs": [
    {
     "name": "stdout",
     "output_type": "stream",
     "text": [
      "root\n",
      " |-- Date: date (nullable = true)\n",
      " |-- Open: double (nullable = true)\n",
      " |-- High: double (nullable = true)\n",
      " |-- Low: double (nullable = true)\n",
      " |-- Close: double (nullable = true)\n",
      " |-- Volume: integer (nullable = true)\n",
      " |-- Adj Close: double (nullable = true)\n",
      "\n"
     ]
    }
   ],
   "source": [
    "df.printSchema()"
   ]
  },
  {
   "cell_type": "code",
   "execution_count": 9,
   "id": "f36f2ba1",
   "metadata": {},
   "outputs": [
    {
     "name": "stdout",
     "output_type": "stream",
     "text": [
      "+------------------+------------------+---------+\n",
      "|              Open|             Close|   Volume|\n",
      "+------------------+------------------+---------+\n",
      "|        213.429998|        214.009998|123432400|\n",
      "|        214.599998|        214.379993|150476200|\n",
      "|        214.379993|        210.969995|138040000|\n",
      "|            211.75|            210.58|119282800|\n",
      "|        210.299994|211.98000499999998|111902700|\n",
      "|212.79999700000002|210.11000299999998|115557400|\n",
      "|209.18999499999998|        207.720001|148614900|\n",
      "|        207.870005|        210.650002|151473000|\n",
      "|210.11000299999998|            209.43|108223500|\n",
      "|210.92999500000002|            205.93|148516900|\n",
      "|        208.330002|        215.039995|182501900|\n",
      "|        214.910006|            211.73|153038200|\n",
      "|        212.079994|        208.069996|152038600|\n",
      "|206.78000600000001|            197.75|220441900|\n",
      "|202.51000200000001|        203.070002|266424900|\n",
      "|205.95000100000001|        205.940001|466777500|\n",
      "|        206.849995|        207.880005|430642100|\n",
      "|        204.930004|        199.289995|293375600|\n",
      "|        201.079996|        192.060003|311488100|\n",
      "|192.36999699999998|        194.729998|187469100|\n",
      "+------------------+------------------+---------+\n",
      "only showing top 20 rows\n",
      "\n"
     ]
    }
   ],
   "source": [
    "filtered_spx = df.filter(df['Close'] < 500)\n",
    "\n",
    "# Select the required columns\n",
    "selected_columns = ['Open', 'Close', 'Volume']\n",
    "filtered_spx = filtered_spx.select(*selected_columns)\n",
    "\n",
    "# Show the resulting dataframe\n",
    "filtered_spx.show()\n"
   ]
  },
  {
   "cell_type": "code",
   "execution_count": 10,
   "id": "69cd2462",
   "metadata": {},
   "outputs": [
    {
     "name": "stdout",
     "output_type": "stream",
     "text": [
      "+------------------+----------+---------+\n",
      "|              Open|     Close|   Volume|\n",
      "+------------------+----------+---------+\n",
      "|206.78000600000001|    197.75|220441900|\n",
      "|        204.930004|199.289995|293375600|\n",
      "|        201.079996|192.060003|311488100|\n",
      "+------------------+----------+---------+\n",
      "\n"
     ]
    }
   ],
   "source": [
    "filtered_spx2 = df.filter((df['Open'] > 200) & (df['Close'] < 200))\n",
    "\n",
    "# Select the required columns\n",
    "selected_columns = ['Open', 'Close', 'Volume']\n",
    "filtered_spx2 = filtered_spx2.select(*selected_columns)\n",
    "\n",
    "# Show the resulting dataframe\n",
    "filtered_spx2.show()\n"
   ]
  },
  {
   "cell_type": "code",
   "execution_count": 11,
   "id": "fb8846d7",
   "metadata": {},
   "outputs": [
    {
     "name": "stdout",
     "output_type": "stream",
     "text": [
      "+----------+------------------+------------------+------------------+------------------+---------+------------------+----+\n",
      "|      Date|              Open|              High|               Low|             Close|   Volume|         Adj Close|Year|\n",
      "+----------+------------------+------------------+------------------+------------------+---------+------------------+----+\n",
      "|2010-01-04|        213.429998|        214.499996|212.38000099999996|        214.009998|123432400|         27.727039|2010|\n",
      "|2010-01-05|        214.599998|        215.589994|        213.249994|        214.379993|150476200|27.774976000000002|2010|\n",
      "|2010-01-06|        214.379993|            215.23|        210.750004|        210.969995|138040000|27.333178000000004|2010|\n",
      "|2010-01-07|            211.75|        212.000006|        209.050005|            210.58|119282800|          27.28265|2010|\n",
      "|2010-01-08|        210.299994|        212.000006|209.06000500000002|211.98000499999998|111902700|         27.464034|2010|\n",
      "|2010-01-11|212.79999700000002|        213.000002|        208.450005|210.11000299999998|115557400|         27.221758|2010|\n",
      "|2010-01-12|209.18999499999998|209.76999500000002|        206.419998|        207.720001|148614900|          26.91211|2010|\n",
      "|2010-01-13|        207.870005|210.92999500000002|        204.099998|        210.650002|151473000|          27.29172|2010|\n",
      "|2010-01-14|210.11000299999998|210.45999700000002|        209.020004|            209.43|108223500|         27.133657|2010|\n",
      "|2010-01-15|210.92999500000002|211.59999700000003|        205.869999|            205.93|148516900|26.680197999999997|2010|\n",
      "|2010-01-19|        208.330002|215.18999900000003|        207.240004|        215.039995|182501900|27.860484999999997|2010|\n",
      "|2010-01-20|        214.910006|        215.549994|        209.500002|            211.73|153038200|         27.431644|2010|\n",
      "|2010-01-21|        212.079994|213.30999599999998|        207.210003|        208.069996|152038600|         26.957455|2010|\n",
      "|2010-01-22|206.78000600000001|        207.499996|            197.16|            197.75|220441900|         25.620401|2010|\n",
      "|2010-01-25|202.51000200000001|        204.699999|        200.190002|        203.070002|266424900|26.309658000000002|2010|\n",
      "|2010-01-26|205.95000100000001|        213.710005|        202.580004|        205.940001|466777500|         26.681494|2010|\n",
      "|2010-01-27|        206.849995|            210.58|        199.530001|        207.880005|430642100|26.932840000000002|2010|\n",
      "|2010-01-28|        204.930004|        205.500004|        198.699995|        199.289995|293375600|25.819922000000002|2010|\n",
      "|2010-01-29|        201.079996|        202.199995|        190.250002|        192.060003|311488100|         24.883208|2010|\n",
      "|2010-02-01|192.36999699999998|             196.0|191.29999899999999|        194.729998|187469100|         25.229131|2010|\n",
      "+----------+------------------+------------------+------------------+------------------+---------+------------------+----+\n",
      "only showing top 20 rows\n",
      "\n"
     ]
    }
   ],
   "source": [
    "# Assuming you already have the 'spx' dataframe loaded\n",
    "\n",
    "from pyspark.sql.functions import year, col\n",
    "\n",
    "# Add a new column called 'Year' with the extracted year\n",
    "df_with_year = df.withColumn('Year', year(col('Date')))\n",
    "\n",
    "# Show the resulting dataframe with the new 'Year' column\n",
    "df_with_year.show()\n"
   ]
  },
  {
   "cell_type": "code",
   "execution_count": 12,
   "id": "3cff0643",
   "metadata": {},
   "outputs": [
    {
     "name": "stdout",
     "output_type": "stream",
     "text": [
      "+----+---------+\n",
      "|year|minVolume|\n",
      "+----+---------+\n",
      "|2015| 13046400|\n",
      "|2013| 41888700|\n",
      "|2014| 14479600|\n",
      "|2012| 43938300|\n",
      "|2016| 11475900|\n",
      "|2010| 39373600|\n",
      "|2011| 44915500|\n",
      "+----+---------+\n",
      "\n"
     ]
    }
   ],
   "source": [
    "from pyspark.sql.functions import min\n",
    "\n",
    "min_volumes_by_year = df_with_year.groupBy(\"year\").agg(min(\"volume\").alias(\"minVolume\"))\n",
    "min_volumes_by_year.show()"
   ]
  },
  {
   "cell_type": "code",
   "execution_count": 13,
   "id": "1d0d4110",
   "metadata": {},
   "outputs": [
    {
     "name": "stdout",
     "output_type": "stream",
     "text": [
      "+----+-----+------------------+\n",
      "|year|month|            maxLow|\n",
      "+----+-----+------------------+\n",
      "|2012|   10|        665.550026|\n",
      "|2010|    7|        260.300003|\n",
      "|2010|   12|        325.099991|\n",
      "|2015|    2|        131.169998|\n",
      "|2014|    4|        589.799988|\n",
      "|2015|   12|        117.809998|\n",
      "|2016|    7|            103.68|\n",
      "|2016|   11|        111.400002|\n",
      "|2012|    8| 673.5400089999999|\n",
      "|2013|    2|473.24997699999994|\n",
      "|2012|    4| 626.0000150000001|\n",
      "|2012|   12|        585.500023|\n",
      "|2014|   10|        107.209999|\n",
      "|2016|    5|             99.25|\n",
      "|2014|   12|        115.290001|\n",
      "|2013|    9|        503.479988|\n",
      "|2013|   10|        525.110016|\n",
      "|2014|    5|        628.900002|\n",
      "|2016|    2|         96.650002|\n",
      "|2013|   12| 566.4100269999999|\n",
      "+----+-----+------------------+\n",
      "only showing top 20 rows\n",
      "\n"
     ]
    }
   ],
   "source": [
    "from pyspark.sql import SparkSession\n",
    "from pyspark.sql.functions import year, month, max\n",
    "\n",
    "# Create a Spark session\n",
    "# Assuming you already have the DataFrame 'df' with the 'year' and 'month' columns\n",
    "# (as calculated in the previous steps)\n",
    "\n",
    "# Calculate the highest low price for each year and month\n",
    "max_low_by_year_month = df.groupBy(year(\"Date\").alias(\"year\"), month(\"Date\").alias(\"month\")).agg(max(\"Low\").alias(\"maxLow\"))\n",
    "\n",
    "# Show the resulting DataFrame\n",
    "max_low_by_year_month.show()\n"
   ]
  },
  {
   "cell_type": "code",
   "execution_count": 14,
   "id": "635f13be",
   "metadata": {},
   "outputs": [
    {
     "name": "stdout",
     "output_type": "stream",
     "text": [
      "+-----------------+------------------+\n",
      "|mean_high_price  |stddev_high_price |\n",
      "+-----------------+------------------+\n",
      "|315.9112880164581|186.89817686485767|\n",
      "+-----------------+------------------+\n",
      "\n"
     ]
    }
   ],
   "source": [
    "from pyspark.sql.functions import mean, stddev\n",
    "\n",
    "# Create a Spark session\n",
    "\n",
    "\n",
    "# Assuming you already have the DataFrame 'df' with the 'highest' column\n",
    "# (as calculated in the previous steps)\n",
    "\n",
    "# Calculate mean and standard deviation for the 'highest' column\n",
    "result = df.agg(mean(\"High\").alias(\"mean_high_price\"), stddev(\"High\").alias(\"stddev_high_price\"))\n",
    "\n",
    "# Show the result with two decimal places\n",
    "result.show(truncate=False)\n"
   ]
  },
  {
   "cell_type": "code",
   "execution_count": 15,
   "id": "73eb9c8b",
   "metadata": {
    "scrolled": false
   },
   "outputs": [
    {
     "name": "stdout",
     "output_type": "stream",
     "text": [
      "root\n",
      " |-- id: string (nullable = true)\n",
      " |-- name: string (nullable = true)\n",
      " |-- album: string (nullable = true)\n",
      " |-- album_id: string (nullable = true)\n",
      " |-- artists: string (nullable = true)\n",
      " |-- artist_ids: string (nullable = true)\n",
      " |-- track_number: long (nullable = true)\n",
      " |-- disc_number: long (nullable = true)\n",
      " |-- explicit: boolean (nullable = true)\n",
      " |-- danceability: double (nullable = true)\n",
      " |-- energy: double (nullable = true)\n",
      " |-- key: long (nullable = true)\n",
      " |-- loudness: double (nullable = true)\n",
      " |-- mode: long (nullable = true)\n",
      " |-- speechiness: double (nullable = true)\n",
      " |-- acousticness: double (nullable = true)\n",
      " |-- instrumentalness: double (nullable = true)\n",
      " |-- liveness: double (nullable = true)\n",
      " |-- valence: double (nullable = true)\n",
      " |-- tempo: double (nullable = true)\n",
      " |-- duration_ms: long (nullable = true)\n",
      " |-- time_signature: double (nullable = true)\n",
      " |-- year: long (nullable = true)\n",
      " |-- release_date: string (nullable = true)\n",
      "\n"
     ]
    }
   ],
   "source": [
    "# main task\n",
    "\n",
    "from pyspark.sql import SparkSession\n",
    "\n",
    "# Create a Spark session\n",
    "spark = SparkSession.builder.appName(\"SpotifyAnalysis\").getOrCreate()\n",
    "\n",
    "# Read the parquet file into a DataFrame\n",
    "df = spark.read.parquet(\"spotify.parquet\")\n",
    "\n",
    "df.printSchema()\n"
   ]
  },
  {
   "cell_type": "code",
   "execution_count": 16,
   "id": "19fd6856",
   "metadata": {},
   "outputs": [
    {
     "name": "stdout",
     "output_type": "stream",
     "text": [
      "+--------------------+--------------------+--------------------+--------------------+--------------------+--------------------+------------+-----------+--------+------------------+------------------+---+-------------------+----+-----------+-----------------+--------------------+------------------+------------------+------------------+-----------+--------------+----+------------+\n",
      "|                  id|                name|               album|            album_id|             artists|          artist_ids|track_number|disc_number|explicit|      danceability|            energy|key|           loudness|mode|speechiness|     acousticness|    instrumentalness|          liveness|           valence|             tempo|duration_ms|time_signature|year|release_date|\n",
      "+--------------------+--------------------+--------------------+--------------------+--------------------+--------------------+------------+-----------+--------+------------------+------------------+---+-------------------+----+-----------+-----------------+--------------------+------------------+------------------+------------------+-----------+--------------+----+------------+\n",
      "|7lmeHLHBe4nmXzuXc...|             Testify|The Battle Of Los...|2eia0myWFgoHuttJy...|['Rage Against Th...|['2d0hyoQ5ynDBnkv...|           1|          1|   false|              0.47|             0.978|  7|             -5.399|   1|     0.0727|           0.0261|             1.09E-5|             0.356|             0.503|           117.906|     210133|           4.0|1999|  1999-11-02|\n",
      "|1wsRitfRRtWyEapl0...|     Guerrilla Radio|The Battle Of Los...|2eia0myWFgoHuttJy...|['Rage Against Th...|['2d0hyoQ5ynDBnkv...|           2|          1|    true|             0.599|             0.957| 11| -5.763999999999999|   1|      0.188|           0.0129|             7.06E-5|             0.155|             0.489|            103.68|     206200|           4.0|1999|  1999-11-02|\n",
      "|1hR0fIFK2qRG3f3RF...|    Calm Like a Bomb|The Battle Of Los...|2eia0myWFgoHuttJy...|['Rage Against Th...|['2d0hyoQ5ynDBnkv...|           3|          1|   false|             0.315|              0.97|  7|             -5.424|   1|      0.483|           0.0234|             2.03E-6|             0.122|              0.37|           149.749|     298893|           4.0|1999|  1999-11-02|\n",
      "|2lbASgTSoDO7MTuLA...|           Mic Check|The Battle Of Los...|2eia0myWFgoHuttJy...|['Rage Against Th...|['2d0hyoQ5ynDBnkv...|           4|          1|    true|              0.44|             0.967| 11|              -5.83|   0|      0.237|            0.163|             3.64E-6|             0.121|             0.574|            96.752|     213640|           4.0|1999|  1999-11-02|\n",
      "|1MQTmpYOZ6fcMQc56...|Sleep Now In the ...|The Battle Of Los...|2eia0myWFgoHuttJy...|['Rage Against Th...|['2d0hyoQ5ynDBnkv...|           5|          1|   false|             0.426|             0.929|  2|             -6.729|   1|     0.0701|          0.00162|               0.105|            0.0789|             0.539|           127.059|     205600|           4.0|1999|  1999-11-02|\n",
      "|2LXPNLSMAauNJfnC5...|Born of a Broken Man|The Battle Of Los...|2eia0myWFgoHuttJy...|['Rage Against Th...|['2d0hyoQ5ynDBnkv...|           6|          1|   false|             0.298|             0.848|  2|             -5.947|   1|     0.0727|           0.0538|  0.0015199999999999|             0.201|0.1939999999999999|           148.282|     280960|           4.0|1999|  1999-11-02|\n",
      "|3moeHk8eIajvUEzVo...|      Born As Ghosts|The Battle Of Los...|2eia0myWFgoHuttJy...|['Rage Against Th...|['2d0hyoQ5ynDBnkv...|           7|          1|   false|             0.417|             0.976|  9|             -6.032|   1|      0.175|4.269999999999E-4|             1.34E-4|             0.107|             0.483|            90.395|     202040|           4.0|1999|  1999-11-02|\n",
      "|4llunZfVXv3NvUzXV...|               Maria|The Battle Of Los...|2eia0myWFgoHuttJy...|['Rage Against Th...|['2d0hyoQ5ynDBnkv...|           8|          1|   false|0.2769999999999999|             0.873| 11|-6.5710000000000015|   0|     0.0883|          0.00694|5.400000000000001E-5|             0.188|             0.618|172.84799999999996|     228093|           4.0|1999|  1999-11-02|\n",
      "|21Mq0NzFoVRvOmLTO...|Voice of the Voic...|The Battle Of Los...|2eia0myWFgoHuttJy...|['Rage Against Th...|['2d0hyoQ5ynDBnkv...|           9|          1|   false|             0.441|             0.882|  7| -7.362999999999999|   1|      0.044|           0.0195|             0.00684|              0.15|             0.418| 83.37100000000002|     151573|           4.0|1999|  1999-11-02|\n",
      "|6s2FgJbnnMwFTpWJZ...|New Millennium Homes|The Battle Of Los...|2eia0myWFgoHuttJy...|['Rage Against Th...|['2d0hyoQ5ynDBnkv...|          10|          1|   false|0.4479999999999999|             0.861|  9|              -6.12|   1|     0.0676|          0.00306|                 0.0|            0.0987|0.7609999999999999|            92.777|     224933|           4.0|1999|  1999-11-02|\n",
      "|7o2Razxnl33Jrgz4P...|   Ashes In the Fall|The Battle Of Los...|2eia0myWFgoHuttJy...|['Rage Against Th...|['2d0hyoQ5ynDBnkv...|          11|          1|    true|             0.456|0.7040000000000001|  7|             -6.687|   1|     0.0982|           0.0052|             4.12E-6|            0.0595|0.6559999999999999|           140.629|     277267|           4.0|1999|  1999-11-02|\n",
      "|3Hxu3Ey1TV9mZ5XqM...| War Within a Breath|The Battle Of Los...|2eia0myWFgoHuttJy...|['Rage Against Th...|['2d0hyoQ5ynDBnkv...|          12|          1|   false|0.3989999999999999|             0.965|  6|             -5.901|   1|      0.143|          0.00442|              0.0314|0.3670000000000001|             0.174|            98.464|     216427|           4.0|1999|  1999-11-02|\n",
      "|6ZU9RJIZ0fNaFuQM5...|           Bombtrack|Rage Against The ...|4LaRYkT4oy47wEuQg...|['Rage Against Th...|['2d0hyoQ5ynDBnkv...|           1|          1|    true|             0.478|             0.855|  4|             -7.438|   0|      0.121|           0.0134|             3.18E-5|             0.179|0.6679999999999999|            151.93|     243760|           4.0|1992|  1992-11-03|\n",
      "|3FUS56gKr9mVBmzvl...| Killing In the Name|Rage Against The ...|4LaRYkT4oy47wEuQg...|['Rage Against Th...|['2d0hyoQ5ynDBnkv...|           2|          1|    true|             0.457|             0.779|  7|             -6.323|   1|      0.257|           0.0185|             2.04E-6|            0.0247|0.7340000000000001|            86.573|     313667|           4.0|1992|  1992-11-03|\n",
      "|3tTL7jlSkowXidYea...| Take the Power Back|Rage Against The ...|4LaRYkT4oy47wEuQg...|['Rage Against Th...|['2d0hyoQ5ynDBnkv...|           3|          1|    true|             0.542|0.8420000000000001|  1|-7.1370000000000005|   1|      0.173|            0.043|             1.53E-4|             0.173|             0.301|           104.772|     335840|           4.0|1992|  1992-11-03|\n",
      "|2vuDdXqekkDCSdawJ...|  Settle for Nothing|Rage Against The ...|4LaRYkT4oy47wEuQg...|['Rage Against Th...|['2d0hyoQ5ynDBnkv...|           4|          1|   false|             0.516|0.5329999999999999|  7|             -9.563|   1|     0.0429|           0.0253|             4.71E-5|             0.113|              0.29|            97.732|     287333|           4.0|1992|  1992-11-03|\n",
      "|11cxKUEgnVAlesUKt...|  Bullet In the Head|Rage Against The ...|4LaRYkT4oy47wEuQg...|['Rage Against Th...|['2d0hyoQ5ynDBnkv...|           5|          1|    true|             0.418|0.8059999999999999|  4|             -6.965|   1|      0.128|           0.0032|             7.88E-4|             0.623|             0.447|           164.202|     307067|           4.0|1992|  1992-11-03|\n",
      "|1IDAJagxB9AQjjYXa...|     Know Your Enemy|Rage Against The ...|4LaRYkT4oy47wEuQg...|['Rage Against Th...|['2d0hyoQ5ynDBnkv...|           6|          1|    true|             0.574|             0.765|  4|             -7.755|   1|      0.128|           0.0141|  0.0037799999999999|             0.136|             0.613|           117.636|     294693|           4.0|1992|  1992-11-03|\n",
      "|6zbHSDJjgrNdfIxPy...|             Wake Up|Rage Against The ...|4LaRYkT4oy47wEuQg...|['Rage Against Th...|['2d0hyoQ5ynDBnkv...|           7|          1|   false|             0.411|             0.823|  7|-7.5539999999999985|   1|      0.115|          0.00316|              0.0148|             0.149|             0.573|170.28099999999995|     364133|           4.0|1992|  1992-11-03|\n",
      "|3YEk8mVdMI7rxtfim...|    Fistful of Steel|Rage Against The ...|4LaRYkT4oy47wEuQg...|['Rage Against Th...|['2d0hyoQ5ynDBnkv...|           8|          1|   false|              0.52|             0.755|  4|             -9.031|   0|      0.134|           0.0195|                0.34|            0.0956|             0.608|           155.513|     331107|           4.0|1992|  1992-11-03|\n",
      "+--------------------+--------------------+--------------------+--------------------+--------------------+--------------------+------------+-----------+--------+------------------+------------------+---+-------------------+----+-----------+-----------------+--------------------+------------------+------------------+------------------+-----------+--------------+----+------------+\n",
      "only showing top 20 rows\n",
      "\n"
     ]
    }
   ],
   "source": [
    "df.show()"
   ]
  },
  {
   "cell_type": "code",
   "execution_count": 17,
   "id": "bd6b2a65",
   "metadata": {},
   "outputs": [
    {
     "name": "stdout",
     "output_type": "stream",
     "text": [
      "+--------------------+--------------------+--------------------+--------------------+--------------------+--------------------+------------+-----------+--------+------------------+------------------+---+-------------------+----+-----------+-----------------+--------------------+------------------+------------------+------------------+-----------+--------------+----+------------+-----+---+\n",
      "|                  id|                name|               album|            album_id|             artists|          artist_ids|track_number|disc_number|explicit|      danceability|            energy|key|           loudness|mode|speechiness|     acousticness|    instrumentalness|          liveness|           valence|             tempo|duration_ms|time_signature|year|release_date|month|day|\n",
      "+--------------------+--------------------+--------------------+--------------------+--------------------+--------------------+------------+-----------+--------+------------------+------------------+---+-------------------+----+-----------+-----------------+--------------------+------------------+------------------+------------------+-----------+--------------+----+------------+-----+---+\n",
      "|7lmeHLHBe4nmXzuXc...|             Testify|The Battle Of Los...|2eia0myWFgoHuttJy...|['Rage Against Th...|['2d0hyoQ5ynDBnkv...|           1|          1|   false|              0.47|             0.978|  7|             -5.399|   1|     0.0727|           0.0261|             1.09E-5|             0.356|             0.503|           117.906|     210133|           4.0|1999|  1999-11-02|   11|  2|\n",
      "|1wsRitfRRtWyEapl0...|     Guerrilla Radio|The Battle Of Los...|2eia0myWFgoHuttJy...|['Rage Against Th...|['2d0hyoQ5ynDBnkv...|           2|          1|    true|             0.599|             0.957| 11| -5.763999999999999|   1|      0.188|           0.0129|             7.06E-5|             0.155|             0.489|            103.68|     206200|           4.0|1999|  1999-11-02|   11|  2|\n",
      "|1hR0fIFK2qRG3f3RF...|    Calm Like a Bomb|The Battle Of Los...|2eia0myWFgoHuttJy...|['Rage Against Th...|['2d0hyoQ5ynDBnkv...|           3|          1|   false|             0.315|              0.97|  7|             -5.424|   1|      0.483|           0.0234|             2.03E-6|             0.122|              0.37|           149.749|     298893|           4.0|1999|  1999-11-02|   11|  2|\n",
      "|2lbASgTSoDO7MTuLA...|           Mic Check|The Battle Of Los...|2eia0myWFgoHuttJy...|['Rage Against Th...|['2d0hyoQ5ynDBnkv...|           4|          1|    true|              0.44|             0.967| 11|              -5.83|   0|      0.237|            0.163|             3.64E-6|             0.121|             0.574|            96.752|     213640|           4.0|1999|  1999-11-02|   11|  2|\n",
      "|1MQTmpYOZ6fcMQc56...|Sleep Now In the ...|The Battle Of Los...|2eia0myWFgoHuttJy...|['Rage Against Th...|['2d0hyoQ5ynDBnkv...|           5|          1|   false|             0.426|             0.929|  2|             -6.729|   1|     0.0701|          0.00162|               0.105|            0.0789|             0.539|           127.059|     205600|           4.0|1999|  1999-11-02|   11|  2|\n",
      "|2LXPNLSMAauNJfnC5...|Born of a Broken Man|The Battle Of Los...|2eia0myWFgoHuttJy...|['Rage Against Th...|['2d0hyoQ5ynDBnkv...|           6|          1|   false|             0.298|             0.848|  2|             -5.947|   1|     0.0727|           0.0538|  0.0015199999999999|             0.201|0.1939999999999999|           148.282|     280960|           4.0|1999|  1999-11-02|   11|  2|\n",
      "|3moeHk8eIajvUEzVo...|      Born As Ghosts|The Battle Of Los...|2eia0myWFgoHuttJy...|['Rage Against Th...|['2d0hyoQ5ynDBnkv...|           7|          1|   false|             0.417|             0.976|  9|             -6.032|   1|      0.175|4.269999999999E-4|             1.34E-4|             0.107|             0.483|            90.395|     202040|           4.0|1999|  1999-11-02|   11|  2|\n",
      "|4llunZfVXv3NvUzXV...|               Maria|The Battle Of Los...|2eia0myWFgoHuttJy...|['Rage Against Th...|['2d0hyoQ5ynDBnkv...|           8|          1|   false|0.2769999999999999|             0.873| 11|-6.5710000000000015|   0|     0.0883|          0.00694|5.400000000000001E-5|             0.188|             0.618|172.84799999999996|     228093|           4.0|1999|  1999-11-02|   11|  2|\n",
      "|21Mq0NzFoVRvOmLTO...|Voice of the Voic...|The Battle Of Los...|2eia0myWFgoHuttJy...|['Rage Against Th...|['2d0hyoQ5ynDBnkv...|           9|          1|   false|             0.441|             0.882|  7| -7.362999999999999|   1|      0.044|           0.0195|             0.00684|              0.15|             0.418| 83.37100000000002|     151573|           4.0|1999|  1999-11-02|   11|  2|\n",
      "|6s2FgJbnnMwFTpWJZ...|New Millennium Homes|The Battle Of Los...|2eia0myWFgoHuttJy...|['Rage Against Th...|['2d0hyoQ5ynDBnkv...|          10|          1|   false|0.4479999999999999|             0.861|  9|              -6.12|   1|     0.0676|          0.00306|                 0.0|            0.0987|0.7609999999999999|            92.777|     224933|           4.0|1999|  1999-11-02|   11|  2|\n",
      "|7o2Razxnl33Jrgz4P...|   Ashes In the Fall|The Battle Of Los...|2eia0myWFgoHuttJy...|['Rage Against Th...|['2d0hyoQ5ynDBnkv...|          11|          1|    true|             0.456|0.7040000000000001|  7|             -6.687|   1|     0.0982|           0.0052|             4.12E-6|            0.0595|0.6559999999999999|           140.629|     277267|           4.0|1999|  1999-11-02|   11|  2|\n",
      "|3Hxu3Ey1TV9mZ5XqM...| War Within a Breath|The Battle Of Los...|2eia0myWFgoHuttJy...|['Rage Against Th...|['2d0hyoQ5ynDBnkv...|          12|          1|   false|0.3989999999999999|             0.965|  6|             -5.901|   1|      0.143|          0.00442|              0.0314|0.3670000000000001|             0.174|            98.464|     216427|           4.0|1999|  1999-11-02|   11|  2|\n",
      "|6ZU9RJIZ0fNaFuQM5...|           Bombtrack|Rage Against The ...|4LaRYkT4oy47wEuQg...|['Rage Against Th...|['2d0hyoQ5ynDBnkv...|           1|          1|    true|             0.478|             0.855|  4|             -7.438|   0|      0.121|           0.0134|             3.18E-5|             0.179|0.6679999999999999|            151.93|     243760|           4.0|1992|  1992-11-03|   11|  3|\n",
      "|3FUS56gKr9mVBmzvl...| Killing In the Name|Rage Against The ...|4LaRYkT4oy47wEuQg...|['Rage Against Th...|['2d0hyoQ5ynDBnkv...|           2|          1|    true|             0.457|             0.779|  7|             -6.323|   1|      0.257|           0.0185|             2.04E-6|            0.0247|0.7340000000000001|            86.573|     313667|           4.0|1992|  1992-11-03|   11|  3|\n",
      "|3tTL7jlSkowXidYea...| Take the Power Back|Rage Against The ...|4LaRYkT4oy47wEuQg...|['Rage Against Th...|['2d0hyoQ5ynDBnkv...|           3|          1|    true|             0.542|0.8420000000000001|  1|-7.1370000000000005|   1|      0.173|            0.043|             1.53E-4|             0.173|             0.301|           104.772|     335840|           4.0|1992|  1992-11-03|   11|  3|\n",
      "|2vuDdXqekkDCSdawJ...|  Settle for Nothing|Rage Against The ...|4LaRYkT4oy47wEuQg...|['Rage Against Th...|['2d0hyoQ5ynDBnkv...|           4|          1|   false|             0.516|0.5329999999999999|  7|             -9.563|   1|     0.0429|           0.0253|             4.71E-5|             0.113|              0.29|            97.732|     287333|           4.0|1992|  1992-11-03|   11|  3|\n",
      "|11cxKUEgnVAlesUKt...|  Bullet In the Head|Rage Against The ...|4LaRYkT4oy47wEuQg...|['Rage Against Th...|['2d0hyoQ5ynDBnkv...|           5|          1|    true|             0.418|0.8059999999999999|  4|             -6.965|   1|      0.128|           0.0032|             7.88E-4|             0.623|             0.447|           164.202|     307067|           4.0|1992|  1992-11-03|   11|  3|\n",
      "|1IDAJagxB9AQjjYXa...|     Know Your Enemy|Rage Against The ...|4LaRYkT4oy47wEuQg...|['Rage Against Th...|['2d0hyoQ5ynDBnkv...|           6|          1|    true|             0.574|             0.765|  4|             -7.755|   1|      0.128|           0.0141|  0.0037799999999999|             0.136|             0.613|           117.636|     294693|           4.0|1992|  1992-11-03|   11|  3|\n",
      "|6zbHSDJjgrNdfIxPy...|             Wake Up|Rage Against The ...|4LaRYkT4oy47wEuQg...|['Rage Against Th...|['2d0hyoQ5ynDBnkv...|           7|          1|   false|             0.411|             0.823|  7|-7.5539999999999985|   1|      0.115|          0.00316|              0.0148|             0.149|             0.573|170.28099999999995|     364133|           4.0|1992|  1992-11-03|   11|  3|\n",
      "|3YEk8mVdMI7rxtfim...|    Fistful of Steel|Rage Against The ...|4LaRYkT4oy47wEuQg...|['Rage Against Th...|['2d0hyoQ5ynDBnkv...|           8|          1|   false|              0.52|             0.755|  4|             -9.031|   0|      0.134|           0.0195|                0.34|            0.0956|             0.608|           155.513|     331107|           4.0|1992|  1992-11-03|   11|  3|\n",
      "+--------------------+--------------------+--------------------+--------------------+--------------------+--------------------+------------+-----------+--------+------------------+------------------+---+-------------------+----+-----------+-----------------+--------------------+------------------+------------------+------------------+-----------+--------------+----+------------+-----+---+\n",
      "only showing top 20 rows\n",
      "\n"
     ]
    }
   ],
   "source": [
    "from pyspark.sql.functions import month, dayofmonth\n",
    "\n",
    "df_with_month_day = df.withColumn(\"month\", month(df[\"release_date\"])).withColumn(\"day\", dayofmonth(df[\"release_date\"]))\n",
    "\n",
    "# Show the updated DataFrame\n",
    "df_with_month_day.show()"
   ]
  },
  {
   "cell_type": "code",
   "execution_count": 26,
   "id": "5acbc416",
   "metadata": {},
   "outputs": [],
   "source": [
    "import matplotlib.pyplot as plt\n",
    "selected_df = df_with_month_day.select(\"year\", \"duration_ms\")\n",
    "\n",
    "# Convert duration from milliseconds to seconds\n",
    "selected_df = selected_df.withColumn(\"duration_seconds\", selected_df[\"duration_ms\"] / 1000)\n",
    "filtered_df = selected_df.filter(selected_df[\"year\"] >= 1700)\n",
    "\n"
   ]
  },
  {
   "cell_type": "code",
   "execution_count": 27,
   "id": "567270d8",
   "metadata": {},
   "outputs": [
    {
     "name": "stdout",
     "output_type": "stream",
     "text": [
      "+----+---------------------+\n",
      "|year|avg(duration_seconds)|\n",
      "+----+---------------------+\n",
      "|1950|   228.28993167701861|\n",
      "|1936|    164.6073012048193|\n",
      "|1951|    193.5646571428572|\n",
      "|1958|    207.7744397463002|\n",
      "|1983|    247.3319686393527|\n",
      "|1972|    263.9221145510839|\n",
      "|2007|   247.87997692184592|\n",
      "|1979|   253.36725498575498|\n",
      "|1988|   262.58333861386166|\n",
      "|2014|    259.2825934007341|\n",
      "|1986|    259.6227110377704|\n",
      "|1908|   226.20347368421054|\n",
      "|1949|   186.79237931034476|\n",
      "|1969|   230.62910104250219|\n",
      "|1930|   209.90483050847462|\n",
      "|1967|   220.11469432314448|\n",
      "|1964|   258.59741015089185|\n",
      "|1956|    239.3593208661417|\n",
      "|1937|    159.1927000000001|\n",
      "|2012|   256.85916300877807|\n",
      "+----+---------------------+\n",
      "only showing top 20 rows\n",
      "\n"
     ]
    }
   ],
   "source": [
    "# Calculate average song duration by year\n",
    "avg_duration_df = filtered_df.groupBy(\"year\").agg({\"duration_seconds\": \"avg\"})\n",
    "\n",
    "# Show the result\n",
    "avg_duration_df.show()"
   ]
  },
  {
   "cell_type": "code",
   "execution_count": 74,
   "id": "30b85c58",
   "metadata": {},
   "outputs": [
    {
     "data": {
      "image/png": "[encoded data removed]",
      "text/plain": [
       "<Figure size 1000x600 with 1 Axes>"
      ]
     },
     "metadata": {},
     "output_type": "display_data"
    }
   ],
   "source": [
    "import matplotlib.pyplot as plt\n",
    "\n",
    "year = avg_duration_df.select(\"year\").collect()\n",
    "avg = avg_duration_df.select(\"avg(duration_seconds)\").collect()\n",
    "\n",
    "years = [row[\"year\"] for row in year]\n",
    "avgs = [row[\"avg(duration_seconds)\"] for row in avg]\n",
    "\n",
    "plt.figure(figsize=(10, 6))\n",
    "plt.bar(years, avgs, color=\"green\")\n",
    "plt.xlabel(\"Year\")\n",
    "plt.ylabel(\"Avg\")\n",
    "plt.title(\"Average Duration Over the Years\")\n",
    "plt.grid(True)\n",
    "plt.show()"
   ]
  },
  {
   "cell_type": "code",
   "execution_count": 36,
   "id": "651c3dd8",
   "metadata": {},
   "outputs": [
    {
     "name": "stdout",
     "output_type": "stream",
     "text": [
      "Longest Song (Year 2018): 6061.09 seconds\n",
      "Shortest Song (Year 2005): 1.0 seconds\n"
     ]
    }
   ],
   "source": [
    "# Find the longest and shortest songs\n",
    "longest_song = filtered_df.orderBy(\"duration_seconds\", ascending=False).first()\n",
    "shortest_song = filtered_df.orderBy(\"duration_seconds\").first()\n",
    "\n",
    "print(f\"Longest Song (Year {longest_song['year']}): {longest_song['duration_seconds']} seconds\")\n",
    "print(f\"Shortest Song (Year {shortest_song['year']}): {shortest_song['duration_seconds']} seconds\")\n"
   ]
  },
  {
   "cell_type": "code",
   "execution_count": 49,
   "id": "9a4ec577",
   "metadata": {},
   "outputs": [
    {
     "name": "stdout",
     "output_type": "stream",
     "text": [
      "+----+-----+\n",
      "|year|count|\n",
      "+----+-----+\n",
      "|1950|  161|\n",
      "|1936|   83|\n",
      "|1951|  175|\n",
      "|1958|  473|\n",
      "|1983| 1977|\n",
      "|1972| 1938|\n",
      "|2007|56287|\n",
      "|1979| 2106|\n",
      "|1988| 4545|\n",
      "|2014|45005|\n",
      "|1986| 2727|\n",
      "|1908|   19|\n",
      "|1949|  203|\n",
      "|1969| 1247|\n",
      "|1930|   59|\n",
      "|1967|  916|\n",
      "|1964|  729|\n",
      "|1956|  508|\n",
      "|1937|   40|\n",
      "|2012|45108|\n",
      "+----+-----+\n",
      "only showing top 20 rows\n",
      "\n"
     ]
    }
   ],
   "source": [
    "# Count songs per year\n",
    "songs_per_year_df = filtered_df.groupBy(\"year\").count()\n",
    "\n",
    "# Show the result\n",
    "songs_per_year_df.show()\n"
   ]
  },
  {
   "cell_type": "code",
   "execution_count": 60,
   "id": "d16b142f",
   "metadata": {},
   "outputs": [
    {
     "data": {
      "image/png": "[encoded data removed]",
      "text/plain": [
       "<Figure size 1000x600 with 1 Axes>"
      ]
     },
     "metadata": {},
     "output_type": "display_data"
    }
   ],
   "source": [
    "import matplotlib.pyplot as plt\n",
    "\n",
    "year = songs_per_year_df.select(\"year\").collect()\n",
    "count = songs_per_year_df.select(\"count\").collect()\n",
    "\n",
    "years = [row[\"year\"] for row in year]\n",
    "counts = [row[\"count\"] for row in count]\n",
    "\n",
    "# Create a bar plot\n",
    "plt.figure(figsize=(10, 6))\n",
    "plt.bar(years, counts, color=\"blue\")\n",
    "plt.xlabel(\"Year\")\n",
    "plt.ylabel(\"Count\")\n",
    "plt.title(\"Count Over the Years\")\n",
    "plt.grid(True)\n",
    "plt.show()"
   ]
  },
  {
   "cell_type": "code",
   "execution_count": 67,
   "id": "51a2888f",
   "metadata": {},
   "outputs": [
    {
     "data": {
      "image/png": "[encoded data removed]",
      "text/plain": [
       "<Figure size 640x480 with 1 Axes>"
      ]
     },
     "metadata": {},
     "output_type": "display_data"
    }
   ],
   "source": [
    "#Distribution of Song Energy:\n",
    "\n",
    "energy =[row[\"energy\"] for row in df_with_month_day.select(\"energy\").collect()] \n",
    "plt.hist(energy, bins = 40)\n",
    "plt.xlabel(\"Energy\")\n",
    "plt.ylabel(\"Count\")\n",
    "plt.title(\"Distribution of Song Energy\")\n",
    "plt.grid(True)\n",
    "plt.show()\n"
   ]
  },
  {
   "cell_type": "code",
   "execution_count": 69,
   "id": "a08dce0d",
   "metadata": {},
   "outputs": [
    {
     "name": "stdout",
     "output_type": "stream",
     "text": [
      "Correlation between energy and valence: 0.3995\n"
     ]
    }
   ],
   "source": [
    "#Correlation between Energy and Valence:\n",
    "correlation_df = df_with_month_day.stat.corr(\"energy\", \"valence\")\n",
    "\n",
    "print(f\"Correlation between energy and valence: {correlation_df:.4f}\")\n"
   ]
  },
  {
   "cell_type": "code",
   "execution_count": 46,
   "id": "6aeb9d0a",
   "metadata": {},
   "outputs": [
    {
     "name": "stdout",
     "output_type": "stream",
     "text": [
      "+----+-----------+----------------+\n",
      "|year|duration_ms|duration_seconds|\n",
      "+----+-----------+----------------+\n",
      "|1999|     210133|         210.133|\n",
      "|1999|     206200|           206.2|\n",
      "|1999|     298893|         298.893|\n",
      "|1999|     213640|          213.64|\n",
      "|1999|     205600|           205.6|\n",
      "|1999|     280960|          280.96|\n",
      "|1999|     202040|          202.04|\n",
      "|1999|     228093|         228.093|\n",
      "|1999|     151573|         151.573|\n",
      "|1999|     224933|         224.933|\n",
      "|1999|     277267|         277.267|\n",
      "|1999|     216427|         216.427|\n",
      "|1992|     243760|          243.76|\n",
      "|1992|     313667|         313.667|\n",
      "|1992|     335840|          335.84|\n",
      "|1992|     287333|         287.333|\n",
      "|1992|     307067|         307.067|\n",
      "|1992|     294693|         294.693|\n",
      "|1992|     364133|         364.133|\n",
      "|1992|     331107|         331.107|\n",
      "+----+-----------+----------------+\n",
      "only showing top 20 rows\n",
      "\n"
     ]
    }
   ],
   "source": [
    "filtered_df.show()"
   ]
  }
 ],
 "metadata": {
  "kernelspec": {
   "display_name": "Python 3 (ipykernel)",
   "language": "python",
   "name": "python3"
  },
  "language_info": {
   "codemirror_mode": {
    "name": "ipython",
    "version": 3
   },
   "file_extension": ".py",
   "mimetype": "text/x-python",
   "name": "python",
   "nbconvert_exporter": "python",
   "pygments_lexer": "ipython3",
   "version": "3.10.9"
  }
 },
 "nbformat": 4,
 "nbformat_minor": 5
}
